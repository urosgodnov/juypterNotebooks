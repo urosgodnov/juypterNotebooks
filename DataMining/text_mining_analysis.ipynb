{
  "cells": [
    {
      "cell_type": "markdown",
      "metadata": {
        "id": "view-in-github",
        "colab_type": "text"
      },
      "source": [
        "<a href=\"https://colab.research.google.com/github/urosgodnov/juypterNotebooks/blob/main/DataMining/text_mining_analysis.ipynb\" target=\"_parent\"><img src=\"https://colab.research.google.com/assets/colab-badge.svg\" alt=\"Open In Colab\"/></a>"
      ]
    },
    {
      "cell_type": "code",
      "execution_count": 1,
      "id": "09a6b4f9-7b96-431f-88c3-44b8371b79d0",
      "metadata": {
        "tags": [],
        "id": "09a6b4f9-7b96-431f-88c3-44b8371b79d0",
        "outputId": "1979157f-3f00-428b-9280-29712a0e1710",
        "colab": {
          "base_uri": "https://localhost:8080/"
        }
      },
      "outputs": [
        {
          "output_type": "stream",
          "name": "stdout",
          "text": [
            "Mounted at /content/drive\n"
          ]
        }
      ],
      "source": [
        "import pandas as pd\n",
        "from google.colab import drive\n",
        "drive.mount('/content/drive')"
      ]
    },
    {
      "cell_type": "code",
      "execution_count": 2,
      "id": "03b4965e-d4e0-4dcc-b430-6bf6e525dea5",
      "metadata": {
        "tags": [],
        "id": "03b4965e-d4e0-4dcc-b430-6bf6e525dea5",
        "outputId": "b269a1b2-a46c-4815-bdd1-f8225db8e14e",
        "colab": {
          "base_uri": "https://localhost:8080/",
          "height": 206
        }
      },
      "outputs": [
        {
          "output_type": "execute_result",
          "data": {
            "text/plain": [
              "              Author                                              Title  \\\n",
              "0   kalle-parviainen                         High-budget Alien fan film   \n",
              "1  andyelliott-53082  An Alien Greatest Hits album sung by a cover b...   \n",
              "2          bradaviel               The Rogue One of the Alien Franchise   \n",
              "3           Pigeons1                \"In space no one can hear you sigh\"   \n",
              "4              pootc                                   All too familiar   \n",
              "\n",
              "   Rating                                               Text        Date  \n",
              "0       7  A few hours after coming out of the theater an...  2024-08-14  \n",
              "1       6  Positives first - Good action, great practical...  2024-08-17  \n",
              "2       8  I had high hopes for this one and what can I s...  2024-08-14  \n",
              "3       6  At this point in 2024, there are more bad alie...  2024-08-15  \n",
              "4       6  Alien: Romulus delivers a gritty experience re...  2024-08-17  "
            ],
            "text/html": [
              "\n",
              "  <div id=\"df-8deabb69-994b-4b4e-a544-ea27e80cf507\" class=\"colab-df-container\">\n",
              "    <div>\n",
              "<style scoped>\n",
              "    .dataframe tbody tr th:only-of-type {\n",
              "        vertical-align: middle;\n",
              "    }\n",
              "\n",
              "    .dataframe tbody tr th {\n",
              "        vertical-align: top;\n",
              "    }\n",
              "\n",
              "    .dataframe thead th {\n",
              "        text-align: right;\n",
              "    }\n",
              "</style>\n",
              "<table border=\"1\" class=\"dataframe\">\n",
              "  <thead>\n",
              "    <tr style=\"text-align: right;\">\n",
              "      <th></th>\n",
              "      <th>Author</th>\n",
              "      <th>Title</th>\n",
              "      <th>Rating</th>\n",
              "      <th>Text</th>\n",
              "      <th>Date</th>\n",
              "    </tr>\n",
              "  </thead>\n",
              "  <tbody>\n",
              "    <tr>\n",
              "      <th>0</th>\n",
              "      <td>kalle-parviainen</td>\n",
              "      <td>High-budget Alien fan film</td>\n",
              "      <td>7</td>\n",
              "      <td>A few hours after coming out of the theater an...</td>\n",
              "      <td>2024-08-14</td>\n",
              "    </tr>\n",
              "    <tr>\n",
              "      <th>1</th>\n",
              "      <td>andyelliott-53082</td>\n",
              "      <td>An Alien Greatest Hits album sung by a cover b...</td>\n",
              "      <td>6</td>\n",
              "      <td>Positives first - Good action, great practical...</td>\n",
              "      <td>2024-08-17</td>\n",
              "    </tr>\n",
              "    <tr>\n",
              "      <th>2</th>\n",
              "      <td>bradaviel</td>\n",
              "      <td>The Rogue One of the Alien Franchise</td>\n",
              "      <td>8</td>\n",
              "      <td>I had high hopes for this one and what can I s...</td>\n",
              "      <td>2024-08-14</td>\n",
              "    </tr>\n",
              "    <tr>\n",
              "      <th>3</th>\n",
              "      <td>Pigeons1</td>\n",
              "      <td>\"In space no one can hear you sigh\"</td>\n",
              "      <td>6</td>\n",
              "      <td>At this point in 2024, there are more bad alie...</td>\n",
              "      <td>2024-08-15</td>\n",
              "    </tr>\n",
              "    <tr>\n",
              "      <th>4</th>\n",
              "      <td>pootc</td>\n",
              "      <td>All too familiar</td>\n",
              "      <td>6</td>\n",
              "      <td>Alien: Romulus delivers a gritty experience re...</td>\n",
              "      <td>2024-08-17</td>\n",
              "    </tr>\n",
              "  </tbody>\n",
              "</table>\n",
              "</div>\n",
              "    <div class=\"colab-df-buttons\">\n",
              "\n",
              "  <div class=\"colab-df-container\">\n",
              "    <button class=\"colab-df-convert\" onclick=\"convertToInteractive('df-8deabb69-994b-4b4e-a544-ea27e80cf507')\"\n",
              "            title=\"Convert this dataframe to an interactive table.\"\n",
              "            style=\"display:none;\">\n",
              "\n",
              "  <svg xmlns=\"http://www.w3.org/2000/svg\" height=\"24px\" viewBox=\"0 -960 960 960\">\n",
              "    <path d=\"M120-120v-720h720v720H120Zm60-500h600v-160H180v160Zm220 220h160v-160H400v160Zm0 220h160v-160H400v160ZM180-400h160v-160H180v160Zm440 0h160v-160H620v160ZM180-180h160v-160H180v160Zm440 0h160v-160H620v160Z\"/>\n",
              "  </svg>\n",
              "    </button>\n",
              "\n",
              "  <style>\n",
              "    .colab-df-container {\n",
              "      display:flex;\n",
              "      gap: 12px;\n",
              "    }\n",
              "\n",
              "    .colab-df-convert {\n",
              "      background-color: #E8F0FE;\n",
              "      border: none;\n",
              "      border-radius: 50%;\n",
              "      cursor: pointer;\n",
              "      display: none;\n",
              "      fill: #1967D2;\n",
              "      height: 32px;\n",
              "      padding: 0 0 0 0;\n",
              "      width: 32px;\n",
              "    }\n",
              "\n",
              "    .colab-df-convert:hover {\n",
              "      background-color: #E2EBFA;\n",
              "      box-shadow: 0px 1px 2px rgba(60, 64, 67, 0.3), 0px 1px 3px 1px rgba(60, 64, 67, 0.15);\n",
              "      fill: #174EA6;\n",
              "    }\n",
              "\n",
              "    .colab-df-buttons div {\n",
              "      margin-bottom: 4px;\n",
              "    }\n",
              "\n",
              "    [theme=dark] .colab-df-convert {\n",
              "      background-color: #3B4455;\n",
              "      fill: #D2E3FC;\n",
              "    }\n",
              "\n",
              "    [theme=dark] .colab-df-convert:hover {\n",
              "      background-color: #434B5C;\n",
              "      box-shadow: 0px 1px 3px 1px rgba(0, 0, 0, 0.15);\n",
              "      filter: drop-shadow(0px 1px 2px rgba(0, 0, 0, 0.3));\n",
              "      fill: #FFFFFF;\n",
              "    }\n",
              "  </style>\n",
              "\n",
              "    <script>\n",
              "      const buttonEl =\n",
              "        document.querySelector('#df-8deabb69-994b-4b4e-a544-ea27e80cf507 button.colab-df-convert');\n",
              "      buttonEl.style.display =\n",
              "        google.colab.kernel.accessAllowed ? 'block' : 'none';\n",
              "\n",
              "      async function convertToInteractive(key) {\n",
              "        const element = document.querySelector('#df-8deabb69-994b-4b4e-a544-ea27e80cf507');\n",
              "        const dataTable =\n",
              "          await google.colab.kernel.invokeFunction('convertToInteractive',\n",
              "                                                    [key], {});\n",
              "        if (!dataTable) return;\n",
              "\n",
              "        const docLinkHtml = 'Like what you see? Visit the ' +\n",
              "          '<a target=\"_blank\" href=https://colab.research.google.com/notebooks/data_table.ipynb>data table notebook</a>'\n",
              "          + ' to learn more about interactive tables.';\n",
              "        element.innerHTML = '';\n",
              "        dataTable['output_type'] = 'display_data';\n",
              "        await google.colab.output.renderOutput(dataTable, element);\n",
              "        const docLink = document.createElement('div');\n",
              "        docLink.innerHTML = docLinkHtml;\n",
              "        element.appendChild(docLink);\n",
              "      }\n",
              "    </script>\n",
              "  </div>\n",
              "\n",
              "\n",
              "<div id=\"df-2a249ec1-c6ab-4877-93a9-206543024d3d\">\n",
              "  <button class=\"colab-df-quickchart\" onclick=\"quickchart('df-2a249ec1-c6ab-4877-93a9-206543024d3d')\"\n",
              "            title=\"Suggest charts\"\n",
              "            style=\"display:none;\">\n",
              "\n",
              "<svg xmlns=\"http://www.w3.org/2000/svg\" height=\"24px\"viewBox=\"0 0 24 24\"\n",
              "     width=\"24px\">\n",
              "    <g>\n",
              "        <path d=\"M19 3H5c-1.1 0-2 .9-2 2v14c0 1.1.9 2 2 2h14c1.1 0 2-.9 2-2V5c0-1.1-.9-2-2-2zM9 17H7v-7h2v7zm4 0h-2V7h2v10zm4 0h-2v-4h2v4z\"/>\n",
              "    </g>\n",
              "</svg>\n",
              "  </button>\n",
              "\n",
              "<style>\n",
              "  .colab-df-quickchart {\n",
              "      --bg-color: #E8F0FE;\n",
              "      --fill-color: #1967D2;\n",
              "      --hover-bg-color: #E2EBFA;\n",
              "      --hover-fill-color: #174EA6;\n",
              "      --disabled-fill-color: #AAA;\n",
              "      --disabled-bg-color: #DDD;\n",
              "  }\n",
              "\n",
              "  [theme=dark] .colab-df-quickchart {\n",
              "      --bg-color: #3B4455;\n",
              "      --fill-color: #D2E3FC;\n",
              "      --hover-bg-color: #434B5C;\n",
              "      --hover-fill-color: #FFFFFF;\n",
              "      --disabled-bg-color: #3B4455;\n",
              "      --disabled-fill-color: #666;\n",
              "  }\n",
              "\n",
              "  .colab-df-quickchart {\n",
              "    background-color: var(--bg-color);\n",
              "    border: none;\n",
              "    border-radius: 50%;\n",
              "    cursor: pointer;\n",
              "    display: none;\n",
              "    fill: var(--fill-color);\n",
              "    height: 32px;\n",
              "    padding: 0;\n",
              "    width: 32px;\n",
              "  }\n",
              "\n",
              "  .colab-df-quickchart:hover {\n",
              "    background-color: var(--hover-bg-color);\n",
              "    box-shadow: 0 1px 2px rgba(60, 64, 67, 0.3), 0 1px 3px 1px rgba(60, 64, 67, 0.15);\n",
              "    fill: var(--button-hover-fill-color);\n",
              "  }\n",
              "\n",
              "  .colab-df-quickchart-complete:disabled,\n",
              "  .colab-df-quickchart-complete:disabled:hover {\n",
              "    background-color: var(--disabled-bg-color);\n",
              "    fill: var(--disabled-fill-color);\n",
              "    box-shadow: none;\n",
              "  }\n",
              "\n",
              "  .colab-df-spinner {\n",
              "    border: 2px solid var(--fill-color);\n",
              "    border-color: transparent;\n",
              "    border-bottom-color: var(--fill-color);\n",
              "    animation:\n",
              "      spin 1s steps(1) infinite;\n",
              "  }\n",
              "\n",
              "  @keyframes spin {\n",
              "    0% {\n",
              "      border-color: transparent;\n",
              "      border-bottom-color: var(--fill-color);\n",
              "      border-left-color: var(--fill-color);\n",
              "    }\n",
              "    20% {\n",
              "      border-color: transparent;\n",
              "      border-left-color: var(--fill-color);\n",
              "      border-top-color: var(--fill-color);\n",
              "    }\n",
              "    30% {\n",
              "      border-color: transparent;\n",
              "      border-left-color: var(--fill-color);\n",
              "      border-top-color: var(--fill-color);\n",
              "      border-right-color: var(--fill-color);\n",
              "    }\n",
              "    40% {\n",
              "      border-color: transparent;\n",
              "      border-right-color: var(--fill-color);\n",
              "      border-top-color: var(--fill-color);\n",
              "    }\n",
              "    60% {\n",
              "      border-color: transparent;\n",
              "      border-right-color: var(--fill-color);\n",
              "    }\n",
              "    80% {\n",
              "      border-color: transparent;\n",
              "      border-right-color: var(--fill-color);\n",
              "      border-bottom-color: var(--fill-color);\n",
              "    }\n",
              "    90% {\n",
              "      border-color: transparent;\n",
              "      border-bottom-color: var(--fill-color);\n",
              "    }\n",
              "  }\n",
              "</style>\n",
              "\n",
              "  <script>\n",
              "    async function quickchart(key) {\n",
              "      const quickchartButtonEl =\n",
              "        document.querySelector('#' + key + ' button');\n",
              "      quickchartButtonEl.disabled = true;  // To prevent multiple clicks.\n",
              "      quickchartButtonEl.classList.add('colab-df-spinner');\n",
              "      try {\n",
              "        const charts = await google.colab.kernel.invokeFunction(\n",
              "            'suggestCharts', [key], {});\n",
              "      } catch (error) {\n",
              "        console.error('Error during call to suggestCharts:', error);\n",
              "      }\n",
              "      quickchartButtonEl.classList.remove('colab-df-spinner');\n",
              "      quickchartButtonEl.classList.add('colab-df-quickchart-complete');\n",
              "    }\n",
              "    (() => {\n",
              "      let quickchartButtonEl =\n",
              "        document.querySelector('#df-2a249ec1-c6ab-4877-93a9-206543024d3d button');\n",
              "      quickchartButtonEl.style.display =\n",
              "        google.colab.kernel.accessAllowed ? 'block' : 'none';\n",
              "    })();\n",
              "  </script>\n",
              "</div>\n",
              "\n",
              "    </div>\n",
              "  </div>\n"
            ],
            "application/vnd.google.colaboratory.intrinsic+json": {
              "type": "dataframe",
              "variable_name": "df",
              "summary": "{\n  \"name\": \"df\",\n  \"rows\": 1304,\n  \"fields\": [\n    {\n      \"column\": \"Author\",\n      \"properties\": {\n        \"dtype\": \"string\",\n        \"num_unique_values\": 1285,\n        \"samples\": [\n          \"AnthonyMcDonald-Dublin\",\n          \"happyspaceinvader\",\n          \"saolivaresm\"\n        ],\n        \"semantic_type\": \"\",\n        \"description\": \"\"\n      }\n    },\n    {\n      \"column\": \"Title\",\n      \"properties\": {\n        \"dtype\": \"string\",\n        \"num_unique_values\": 1259,\n        \"samples\": [\n          \"IMO, best one since James Cameron's Aliens.\",\n          \"This is the Leo click, whistle, point meme of the Alien franchise.\",\n          \"A True Homage to the Alien Franchise\"\n        ],\n        \"semantic_type\": \"\",\n        \"description\": \"\"\n      }\n    },\n    {\n      \"column\": \"Rating\",\n      \"properties\": {\n        \"dtype\": \"number\",\n        \"std\": 2,\n        \"min\": 1,\n        \"max\": 10,\n        \"num_unique_values\": 10,\n        \"samples\": [\n          5,\n          6,\n          1\n        ],\n        \"semantic_type\": \"\",\n        \"description\": \"\"\n      }\n    },\n    {\n      \"column\": \"Text\",\n      \"properties\": {\n        \"dtype\": \"string\",\n        \"num_unique_values\": 1287,\n        \"samples\": [\n          \"Big thumbs way down. Huge disappointment.It was as if the folks who run Disney, or a Disney theme park, asked how they could make a PG version of Aliens that would be some light family fun, like one of their theme park rides. Replete with the long wait in line before anything happens.This is coming from someone who liked the other Alien films. This one was shockingly bad. The heart and soul is completely gone. It is Aliens gone Hollywood. Anyone who tells you otherwise is trying to fool you.But, if that is what you are looking for, the formulaic popcorn film for the mindless masses, which then can be turned into another theme park ride and video game, then have at it.\",\n          \"Well, I saw the movie and I was pretty impressed; yes, impressed by the fact that the movie is so distant from the original concept and from the thrill I felt the first time I had the chance to see Alien.This is not a bad movie...great visual effect, the trama is there, lot of action, lot of \\\"it looks like the first\\\" but, in the end, you get out of the cinema and in ten minutes you don't even talk about it. I remember that, when I saw the first of the francise, I could't get in my bedroom without turning the light on (let's not even mention the book, even scarier). The last two Aliens were not bad but this one, well, I could keep my 25euros in my pocket for something better.\",\n          \"Who are these 7 or 9 star reviewers? Possibly the same AI bots who created the script for this abysmal franchise film.In all honesty this is not one for the veteran Alien fans, you will be sadly disappointed.Camera work is as good as it could have been kudos there, the sound was well catered for, again kudos there too. Characters are easily forgettable and lack any dimension. The story line is too basic and thin.I don't think I need to go into details of the film as many have already described it, it is not a film for grown-ups who crave a bit of mystery. I have watched the old Alien films far too many times to remember and I am a huge fan of Ridley's and Cameron's versions but this one I will not be watching again as it is far too cringe worthy.This film is a true sign of the times we're living in, I love to watch a good movie over and over but these days there a zero decent films made anymore for grown ups. It seems they are all made by generation Z for generation Z.If you do go and watch it do not go in with high hopes.\"\n        ],\n        \"semantic_type\": \"\",\n        \"description\": \"\"\n      }\n    },\n    {\n      \"column\": \"Date\",\n      \"properties\": {\n        \"dtype\": \"object\",\n        \"num_unique_values\": 109,\n        \"samples\": [\n          \"2024-11-11\",\n          \"2024-10-14\",\n          \"2024-10-15\"\n        ],\n        \"semantic_type\": \"\",\n        \"description\": \"\"\n      }\n    }\n  ]\n}"
            }
          },
          "metadata": {},
          "execution_count": 2
        }
      ],
      "source": [
        "df=pd.read_csv(\"Alien.csv\")\n",
        "df.drop('Unnamed: 0', axis=1,inplace=True)\n",
        "df.head()"
      ]
    },
    {
      "cell_type": "code",
      "execution_count": 8,
      "id": "1a1e3563-cf4e-4ad2-95fe-cab47bd717f3",
      "metadata": {
        "tags": [],
        "id": "1a1e3563-cf4e-4ad2-95fe-cab47bd717f3",
        "colab": {
          "base_uri": "https://localhost:8080/"
        },
        "outputId": "2cecb798-a864-41c8-a829-519cc5e13d9d"
      },
      "outputs": [
        {
          "output_type": "stream",
          "name": "stderr",
          "text": [
            "[nltk_data] Downloading package punkt to /root/nltk_data...\n",
            "[nltk_data]   Package punkt is already up-to-date!\n",
            "[nltk_data] Downloading package punkt_tab to /root/nltk_data...\n",
            "[nltk_data]   Unzipping tokenizers/punkt_tab.zip.\n"
          ]
        },
        {
          "output_type": "execute_result",
          "data": {
            "text/plain": [
              "True"
            ]
          },
          "metadata": {},
          "execution_count": 8
        }
      ],
      "source": [
        "import nltk\n",
        "from nltk.tokenize import word_tokenize\n",
        "nltk.download('punkt')\n",
        "nltk.download('punkt_tab')"
      ]
    },
    {
      "cell_type": "code",
      "source": [
        "word_tokenize"
      ],
      "metadata": {
        "id": "9QSefQdy5_nu"
      },
      "id": "9QSefQdy5_nu",
      "execution_count": null,
      "outputs": []
    },
    {
      "cell_type": "markdown",
      "source": [
        "**Retains punctuation as separate tokens.**"
      ],
      "metadata": {
        "id": "lqsYGqbK8CCt"
      },
      "id": "lqsYGqbK8CCt"
    },
    {
      "cell_type": "code",
      "execution_count": 9,
      "id": "fa4bf080-3e13-44ed-91d6-065e092c4657",
      "metadata": {
        "tags": [],
        "id": "fa4bf080-3e13-44ed-91d6-065e092c4657"
      },
      "outputs": [],
      "source": [
        "df['tokenized_sentences'] = df['Text'].astype(str).str.lower().apply(word_tokenize)"
      ]
    },
    {
      "cell_type": "code",
      "execution_count": null,
      "id": "2bec7507-3ed7-4443-ae74-cb60742f2660",
      "metadata": {
        "tags": [],
        "id": "2bec7507-3ed7-4443-ae74-cb60742f2660"
      },
      "outputs": [],
      "source": [
        "df['tokenized_sentences'].head()"
      ]
    },
    {
      "cell_type": "code",
      "source": [
        "len(df['tokenized_sentences'].iloc[0])\n",
        "df['tokenized_sentences'].iloc[0]"
      ],
      "metadata": {
        "id": "BSPU1Rzz6se9"
      },
      "id": "BSPU1Rzz6se9",
      "execution_count": null,
      "outputs": []
    },
    {
      "cell_type": "code",
      "execution_count": null,
      "id": "95733e35-5ad4-47c9-bddc-fb6e0a22250f",
      "metadata": {
        "tags": [],
        "id": "95733e35-5ad4-47c9-bddc-fb6e0a22250f"
      },
      "outputs": [],
      "source": [
        "from nltk.tokenize import RegexpTokenizer\n",
        "\n",
        "regexp = RegexpTokenizer('\\w+')\n",
        "\n",
        "df['text_token']=df['Text'].astype(str).str.lower().apply(regexp.tokenize)\n",
        "\n",
        "df['text_token'].head()"
      ]
    },
    {
      "cell_type": "markdown",
      "source": [
        "**Punctuations are omitted**"
      ],
      "metadata": {
        "id": "QIJ0MKdx8HI3"
      },
      "id": "QIJ0MKdx8HI3"
    },
    {
      "cell_type": "code",
      "source": [
        "len(df['text_token'].iloc[0])\n",
        "df['text_token'].iloc[0]"
      ],
      "metadata": {
        "colab": {
          "base_uri": "https://localhost:8080/"
        },
        "id": "dSG23CFp7QLy",
        "outputId": "5b8425d9-9b6c-4f41-b78b-2ac70dc699e1"
      },
      "id": "dSG23CFp7QLy",
      "execution_count": 19,
      "outputs": [
        {
          "output_type": "execute_result",
          "data": {
            "text/plain": [
              "300"
            ]
          },
          "metadata": {},
          "execution_count": 19
        }
      ]
    },
    {
      "cell_type": "code",
      "source": [
        "df['text_token'] = df['text_token'].apply(lambda x: [item for item in x if not re.search(r'\\d', item)])"
      ],
      "metadata": {
        "id": "fZXMtk-N9yXn"
      },
      "id": "fZXMtk-N9yXn",
      "execution_count": 31,
      "outputs": []
    },
    {
      "cell_type": "code",
      "source": [
        "len(df['text_token'].iloc[0])\n",
        "df['text_token'].iloc[0]"
      ],
      "metadata": {
        "id": "3ODbUjw1-EnR"
      },
      "id": "3ODbUjw1-EnR",
      "execution_count": null,
      "outputs": []
    },
    {
      "cell_type": "code",
      "execution_count": null,
      "id": "5db76cd6-07b0-483d-84ac-02b900faea17",
      "metadata": {
        "tags": [],
        "id": "5db76cd6-07b0-483d-84ac-02b900faea17"
      },
      "outputs": [],
      "source": [
        "nltk.download('stopwords')\n",
        "from nltk.corpus import stopwords\n",
        "\n",
        "# Make a list of english stopwords\n",
        "stopwords = nltk.corpus.stopwords.words(\"english\")\n",
        "\n",
        "# Extend the list with your own custom stopwords\n",
        "my_stopwords = []\n",
        "stopwords.extend(my_stopwords)"
      ]
    },
    {
      "cell_type": "code",
      "execution_count": 23,
      "id": "0407e9b0-6078-40c4-a895-84d7f0d7922b",
      "metadata": {
        "tags": [],
        "id": "0407e9b0-6078-40c4-a895-84d7f0d7922b",
        "outputId": "9882a543-f2c4-46cb-9e66-84412390a606",
        "colab": {
          "base_uri": "https://localhost:8080/"
        }
      },
      "outputs": [
        {
          "output_type": "execute_result",
          "data": {
            "text/plain": [
              "['i', 'me', 'my', 'myself', 'we']"
            ]
          },
          "metadata": {},
          "execution_count": 23
        }
      ],
      "source": [
        "stopwords[0:5]"
      ]
    },
    {
      "cell_type": "code",
      "source": [
        "import re"
      ],
      "metadata": {
        "id": "vk10AeTw-Nm9"
      },
      "id": "vk10AeTw-Nm9",
      "execution_count": 29,
      "outputs": []
    },
    {
      "cell_type": "code",
      "execution_count": null,
      "id": "ee7fe05d-8383-49ad-9b9e-89cbbce62732",
      "metadata": {
        "tags": [],
        "id": "ee7fe05d-8383-49ad-9b9e-89cbbce62732"
      },
      "outputs": [],
      "source": [
        "df['text_token'] = df['text_token'].apply(lambda x: [item for item in x if item not in stopwords])\n",
        "\n",
        "df['text_token'].head()"
      ]
    },
    {
      "cell_type": "code",
      "source": [
        "len(df['text_token'].iloc[0])\n",
        "df['text_token'].iloc[0]"
      ],
      "metadata": {
        "id": "36frgAjL8xd8"
      },
      "id": "36frgAjL8xd8",
      "execution_count": null,
      "outputs": []
    },
    {
      "cell_type": "code",
      "execution_count": null,
      "id": "6608262a-64f4-48ec-96ee-82524e7038aa",
      "metadata": {
        "tags": [],
        "id": "6608262a-64f4-48ec-96ee-82524e7038aa"
      },
      "outputs": [],
      "source": [
        "df['text_string'] = df['text_token'].apply(lambda x: ' '.join([item for item in x if len(item)>2]))\n",
        "\n",
        "df[['Text','text_token','text_string']].head()"
      ]
    },
    {
      "cell_type": "code",
      "execution_count": null,
      "id": "142f869a-e33d-4c36-aee8-0e54bd143298",
      "metadata": {
        "tags": [],
        "id": "142f869a-e33d-4c36-aee8-0e54bd143298"
      },
      "outputs": [],
      "source": [
        "from nltk.probability import FreqDist\n",
        "\n",
        "all_words = ' '.join([word for word in df['text_string']])\n",
        "\n",
        "tokenized_words = nltk.tokenize.word_tokenize(all_words)\n",
        "\n",
        "fdist = FreqDist(tokenized_words)\n",
        "fdist"
      ]
    },
    {
      "cell_type": "code",
      "execution_count": null,
      "id": "2d0d8ba1-b827-4798-83f8-b813b4a689c5",
      "metadata": {
        "tags": [],
        "id": "2d0d8ba1-b827-4798-83f8-b813b4a689c5"
      },
      "outputs": [],
      "source": [
        "df['text_string_fdist'] = df['text_token'].apply(lambda x: ' '.join([item for item in x if fdist[item] >= 500 ]))\n",
        "\n",
        "df['text_string_fdist'].head()"
      ]
    },
    {
      "cell_type": "code",
      "execution_count": null,
      "id": "a55136b9-a464-440a-906e-035e840b4825",
      "metadata": {
        "tags": [],
        "id": "a55136b9-a464-440a-906e-035e840b4825"
      },
      "outputs": [],
      "source": [
        "nltk.download('wordnet')\n",
        "nltk.download('omw-1.4')"
      ]
    },
    {
      "cell_type": "code",
      "execution_count": 38,
      "id": "0d44e97e-a1c7-4491-ad52-023c8c0865c8",
      "metadata": {
        "tags": [],
        "id": "0d44e97e-a1c7-4491-ad52-023c8c0865c8"
      },
      "outputs": [],
      "source": [
        "from nltk.stem import WordNetLemmatizer\n",
        "\n",
        "wordnet_lem = WordNetLemmatizer()\n",
        "\n",
        "df['text_string_lem'] = df['text_string_fdist'].apply(lambda x:' '.join([wordnet_lem.lemmatize(item) for item in x.split(' ')]))\n",
        "\n"
      ]
    },
    {
      "cell_type": "code",
      "execution_count": null,
      "id": "f098fe0a-773b-4b85-93a0-e9bbbb44981d",
      "metadata": {
        "tags": [],
        "id": "f098fe0a-773b-4b85-93a0-e9bbbb44981d"
      },
      "outputs": [],
      "source": [
        "df[['Text', 'text_token', 'text_string', 'text_string_fdist','text_string_lem']].head()"
      ]
    },
    {
      "cell_type": "code",
      "execution_count": null,
      "id": "dbba6df1-9911-4cf6-8b78-113414017768",
      "metadata": {
        "tags": [],
        "id": "dbba6df1-9911-4cf6-8b78-113414017768"
      },
      "outputs": [],
      "source": [
        "%matplotlib inline\n",
        "import matplotlib.pyplot as plt\n",
        "from wordcloud import WordCloud\n",
        "\n",
        "all_words_lem = ' '.join([word for word in df['text_string_lem']])\n",
        "wordcloud = WordCloud(width=600,\n",
        "                     height=400,\n",
        "                     random_state=2,\n",
        "                     max_font_size=100).generate(all_words_lem)\n",
        "\n",
        "plt.figure(figsize=(10, 7))\n",
        "plt.imshow(wordcloud, interpolation='bilinear')\n",
        "plt.axis('off')"
      ]
    },
    {
      "cell_type": "code",
      "execution_count": 41,
      "id": "0e99a485-4c8c-402c-9aab-33f6e36fb836",
      "metadata": {
        "tags": [],
        "id": "0e99a485-4c8c-402c-9aab-33f6e36fb836",
        "outputId": "3ee8b269-3ece-4be3-d9e8-c6d4dca608ab",
        "colab": {
          "base_uri": "https://localhost:8080/"
        }
      },
      "outputs": [
        {
          "output_type": "stream",
          "name": "stdout",
          "text": [
            "    alien     movie      film      like franchise       one      good   romulus  original character \n",
            "     4512      3543      2525      1315      1070      1044       981       962       816       802 \n"
          ]
        }
      ],
      "source": [
        "from nltk.tokenize import word_tokenize\n",
        "from nltk.probability import FreqDist\n",
        "\n",
        "words = nltk.word_tokenize(all_words_lem)\n",
        "fd = FreqDist(words)\n",
        "\n",
        "fd.tabulate(10)"
      ]
    },
    {
      "cell_type": "code",
      "execution_count": null,
      "id": "101e9680-0d01-4d94-a510-265d7be44b00",
      "metadata": {
        "tags": [],
        "id": "101e9680-0d01-4d94-a510-265d7be44b00"
      },
      "outputs": [],
      "source": [
        "# Obtain top 10 words\n",
        "top_20 = fd.most_common(20)\n",
        "\n",
        "# Create pandas series to make plotting easier\n",
        "fdist = pd.Series(dict(top_20))\n",
        "import seaborn as sns\n",
        "sns.set_theme(style=\"ticks\")\n",
        "\n",
        "sns.barplot(y=fdist.index, x=fdist.values, color='blue')"
      ]
    },
    {
      "cell_type": "code",
      "execution_count": null,
      "id": "a40d4b36-3646-4abf-889b-4fb281a99c3a",
      "metadata": {
        "tags": [],
        "id": "a40d4b36-3646-4abf-889b-4fb281a99c3a"
      },
      "outputs": [],
      "source": [
        "from nltk.sentiment import SentimentIntensityAnalyzer\n",
        "nltk.download('vader_lexicon')\n",
        "analyzer = SentimentIntensityAnalyzer()\n",
        "\n",
        "df['polarity'] = df['text_string_lem'].apply(lambda x: analyzer.polarity_scores(x))\n",
        "\n",
        "df['polarity'].head(5)"
      ]
    },
    {
      "cell_type": "code",
      "execution_count": null,
      "id": "ce24bc8a-85ff-4466-82f0-d27f53f60323",
      "metadata": {
        "tags": [],
        "id": "ce24bc8a-85ff-4466-82f0-d27f53f60323"
      },
      "outputs": [],
      "source": [
        "df = pd.concat(\n",
        "    [df.drop(['polarity'], axis=1),\n",
        "     df['polarity'].apply(pd.Series)], axis=1)\n",
        "df.head(3)"
      ]
    },
    {
      "cell_type": "code",
      "execution_count": null,
      "id": "d8dfd7dc-f5c8-4a58-82fd-55f61fe4e25c",
      "metadata": {
        "tags": [],
        "id": "d8dfd7dc-f5c8-4a58-82fd-55f61fe4e25c"
      },
      "outputs": [],
      "source": [
        "df['sentiment'] = df['compound'].apply(lambda x: 'positive' if x >0 else 'neutral' if x==0 else 'negative')\n",
        "\n",
        "df[['Text','sentiment']].head(10)"
      ]
    },
    {
      "cell_type": "code",
      "execution_count": null,
      "id": "4096e4cf-2c1a-483e-9c40-e9e92020f518",
      "metadata": {
        "tags": [],
        "id": "4096e4cf-2c1a-483e-9c40-e9e92020f518"
      },
      "outputs": [],
      "source": [
        "df.loc[df['compound'].idxmax(),\"Text\"]"
      ]
    },
    {
      "cell_type": "code",
      "execution_count": null,
      "id": "a46d232a-9bb9-4d6a-8c40-ae5ed42a6363",
      "metadata": {
        "tags": [],
        "id": "a46d232a-9bb9-4d6a-8c40-ae5ed42a6363"
      },
      "outputs": [],
      "source": [
        "df.loc[df['compound'].idxmin(),[\"Text\", \"sentiment\"]]"
      ]
    },
    {
      "cell_type": "code",
      "execution_count": null,
      "id": "5670224d-da26-4e15-a2ba-f2cf325aa4ef",
      "metadata": {
        "tags": [],
        "id": "5670224d-da26-4e15-a2ba-f2cf325aa4ef"
      },
      "outputs": [],
      "source": [
        "sns.countplot(y='sentiment',\n",
        "             data=df,\n",
        "             palette=['#b2d8d8',\"#008080\", '#db3d13']\n",
        "             );"
      ]
    },
    {
      "cell_type": "code",
      "execution_count": null,
      "id": "a79e849c-bc8d-4feb-858b-1ad0d3aff42c",
      "metadata": {
        "tags": [],
        "id": "a79e849c-bc8d-4feb-858b-1ad0d3aff42c"
      },
      "outputs": [],
      "source": [
        "sns.boxplot(y='compound',\n",
        "            x='sentiment',\n",
        "            hue='sentiment',  # Assign 'sentiment' to hue\n",
        "            palette=['#b2d8d8',\"#008080\", '#db3d13'],\n",
        "            data=df,\n",
        "            legend=False  # Set legend to False\n",
        "            );"
      ]
    },
    {
      "cell_type": "code",
      "execution_count": null,
      "id": "50809bbf-108c-4266-b2af-9d919beaf823",
      "metadata": {
        "tags": [],
        "id": "50809bbf-108c-4266-b2af-9d919beaf823"
      },
      "outputs": [],
      "source": [
        "finder = nltk.collocations.BigramCollocationFinder.from_words(words)\n",
        "finder.ngram_fd.most_common(10)"
      ]
    },
    {
      "cell_type": "code",
      "execution_count": null,
      "id": "89c476af-de7d-4623-a262-f6a770c66f17",
      "metadata": {
        "id": "89c476af-de7d-4623-a262-f6a770c66f17"
      },
      "outputs": [],
      "source": [
        "finder = nltk.collocations.TrigramCollocationFinder.from_words(words)\n",
        "finder.ngram_fd.most_common(10)"
      ]
    },
    {
      "cell_type": "code",
      "execution_count": 55,
      "id": "7680997b-1d58-4984-939f-064d1a13dfc6",
      "metadata": {
        "tags": [],
        "id": "7680997b-1d58-4984-939f-064d1a13dfc6"
      },
      "outputs": [],
      "source": [
        "import pandas as pd\n",
        "\n",
        "data=pd.read_csv(\"Alien.csv\")\n",
        "\n",
        "data=data.drop(columns=['Unnamed: 0','Author', 'Title','Rating','Date'], axis=1)"
      ]
    },
    {
      "cell_type": "code",
      "execution_count": null,
      "id": "9ef882b2-cd92-457a-915a-a7d445c7bc39",
      "metadata": {
        "tags": [],
        "id": "9ef882b2-cd92-457a-915a-a7d445c7bc39"
      },
      "outputs": [],
      "source": [
        "import re\n",
        "# Remove punctuation\n",
        "data['text_processed'] = \\\n",
        "data['Text'].map(lambda x: re.sub('[,\\.!?]', '', x))\n",
        "# Convert the titles to lowercase\n",
        "data['text_processed'] = \\\n",
        "data['text_processed'].map(lambda x: x.lower())\n",
        "# Print out the first rows of papers\n",
        "data['text_processed'].head()"
      ]
    },
    {
      "cell_type": "code",
      "execution_count": 57,
      "id": "69583753-8f46-40ce-badf-fd6dc692580e",
      "metadata": {
        "id": "69583753-8f46-40ce-badf-fd6dc692580e"
      },
      "outputs": [],
      "source": [
        "import gensim\n",
        "from gensim.utils import simple_preprocess\n",
        "import nltk\n",
        "\n",
        "from nltk.corpus import stopwords\n",
        "\n",
        "stop_words = stopwords.words('english')\n",
        "stop_words.extend([])"
      ]
    },
    {
      "cell_type": "code",
      "execution_count": 58,
      "id": "403e7cd7-df71-4de5-a9c5-eb0666a4ef27",
      "metadata": {
        "tags": [],
        "id": "403e7cd7-df71-4de5-a9c5-eb0666a4ef27"
      },
      "outputs": [],
      "source": [
        "def sent_to_words(sentences):\n",
        "    for sentence in sentences:\n",
        "        # deacc=True removes punctuations\n",
        "        yield(gensim.utils.simple_preprocess(str(sentence), deacc=True))\n",
        "\n",
        "def remove_stopwords(texts):\n",
        "    return [[word for word in simple_preprocess(str(doc))\n",
        "             if word not in stop_words] for doc in texts]"
      ]
    },
    {
      "cell_type": "code",
      "execution_count": 59,
      "id": "d112bd59-7dfc-47e4-896c-39df3c0ed315",
      "metadata": {
        "tags": [],
        "id": "d112bd59-7dfc-47e4-896c-39df3c0ed315"
      },
      "outputs": [],
      "source": [
        "data = data.text_processed.values.tolist()\n",
        "data_words = list(sent_to_words(data))\n",
        "# remove stop words\n",
        "data_words = remove_stopwords(data_words)"
      ]
    },
    {
      "cell_type": "code",
      "execution_count": 60,
      "id": "11977d72-e1ae-4950-aa98-9226bcae357f",
      "metadata": {
        "tags": [],
        "id": "11977d72-e1ae-4950-aa98-9226bcae357f",
        "outputId": "379a556e-fbd0-41d4-9cb0-453066b0e1f7",
        "colab": {
          "base_uri": "https://localhost:8080/"
        }
      },
      "outputs": [
        {
          "output_type": "stream",
          "name": "stdout",
          "text": [
            "['hours', 'coming', 'theater', 'sure', 'make', 'okay', 'guessit', 'felt', 'like', 'fedy', 'alvarez', 'examined', 'production', 'previous', 'films', 'every', 'left', 'idea', 'thrown', 'finally', 'screen', 'along', 'rehashing', 'core', 'components', 'franchise', 'pieces', 'alien', 'aliens', 'resurrection']\n"
          ]
        }
      ],
      "source": [
        "print(data_words[:1][0][:30])"
      ]
    },
    {
      "cell_type": "code",
      "execution_count": 61,
      "id": "0d43bec3-cdcc-4b99-b544-02b70e2dedfc",
      "metadata": {
        "tags": [],
        "id": "0d43bec3-cdcc-4b99-b544-02b70e2dedfc",
        "outputId": "27668596-d538-4615-8188-f09f830fad77",
        "colab": {
          "base_uri": "https://localhost:8080/"
        }
      },
      "outputs": [
        {
          "output_type": "stream",
          "name": "stdout",
          "text": [
            "[(0, 1), (1, 1), (2, 1), (3, 2), (4, 1), (5, 1), (6, 1), (7, 1), (8, 1), (9, 1), (10, 1), (11, 1), (12, 1), (13, 1), (14, 1), (15, 1), (16, 1), (17, 1), (18, 1), (19, 1), (20, 2), (21, 1), (22, 1), (23, 1), (24, 1), (25, 1), (26, 2), (27, 1), (28, 1), (29, 2)]\n"
          ]
        }
      ],
      "source": [
        "import gensim.corpora as corpora\n",
        "# Create Dictionary\n",
        "id2word = corpora.Dictionary(data_words)\n",
        "# Create Corpus\n",
        "texts = data_words\n",
        "# Term Document Frequency\n",
        "corpus = [id2word.doc2bow(text) for text in texts]\n",
        "print(corpus[:1][0][:30])"
      ]
    },
    {
      "cell_type": "code",
      "execution_count": 63,
      "id": "e5359bfe-0b73-4c68-9c81-9c9546c28d0a",
      "metadata": {
        "tags": [],
        "id": "e5359bfe-0b73-4c68-9c81-9c9546c28d0a",
        "outputId": "7be5bee8-1725-4a4c-aab2-06683c6a2fb7",
        "colab": {
          "base_uri": "https://localhost:8080/"
        }
      },
      "outputs": [
        {
          "output_type": "stream",
          "name": "stderr",
          "text": [
            "WARNING:gensim.models.ldamulticore:too few updates, training might not converge; consider increasing the number of passes or iterations to improve accuracy\n"
          ]
        },
        {
          "output_type": "stream",
          "name": "stdout",
          "text": [
            "[(0, '0.021*\"alien\" + 0.019*\"movie\" + 0.009*\"film\" + 0.007*\"good\" + 0.007*\"franchise\" + 0.006*\"one\" + 0.006*\"movies\" + 0.006*\"like\" + 0.005*\"really\" + 0.005*\"original\"'), (1, '0.026*\"alien\" + 0.015*\"movie\" + 0.011*\"film\" + 0.008*\"like\" + 0.008*\"one\" + 0.007*\"romulus\" + 0.007*\"franchise\" + 0.006*\"characters\" + 0.005*\"really\" + 0.005*\"aliens\"'), (2, '0.021*\"alien\" + 0.016*\"movie\" + 0.015*\"film\" + 0.011*\"like\" + 0.006*\"good\" + 0.006*\"aliens\" + 0.006*\"original\" + 0.006*\"movies\" + 0.006*\"franchise\" + 0.006*\"first\"')]\n"
          ]
        }
      ],
      "source": [
        "from pprint import pprint\n",
        "# number of topics\n",
        "num_topics = 3\n",
        "# Build LDA model\n",
        "lda_model = gensim.models.LdaMulticore(corpus=corpus,\n",
        "                                       id2word=id2word,\n",
        "                                       num_topics=num_topics)\n",
        "# Print the Keyword in the 10 topics\n",
        "print(lda_model.print_topics())\n",
        "doc_lda = lda_model[corpus]"
      ]
    },
    {
      "cell_type": "code",
      "source": [
        "!pip install pyLDAvis --quiet"
      ],
      "metadata": {
        "colab": {
          "base_uri": "https://localhost:8080/"
        },
        "id": "2U6c9EAOBT8H",
        "outputId": "4771effc-28b4-40d4-e036-0266fdeca559"
      },
      "id": "2U6c9EAOBT8H",
      "execution_count": 65,
      "outputs": [
        {
          "output_type": "stream",
          "name": "stdout",
          "text": [
            "\u001b[?25l   \u001b[90m━━━━━━━━━━━━━━━━━━━━━━━━━━━━━━━━━━━━━━━━\u001b[0m \u001b[32m0.0/2.6 MB\u001b[0m \u001b[31m?\u001b[0m eta \u001b[36m-:--:--\u001b[0m\r\u001b[2K   \u001b[91m━━━━━━━━━━━━━━━━━━━━━━\u001b[0m\u001b[91m╸\u001b[0m\u001b[90m━━━━━━━━━━━━━━━━━\u001b[0m \u001b[32m1.5/2.6 MB\u001b[0m \u001b[31m43.6 MB/s\u001b[0m eta \u001b[36m0:00:01\u001b[0m\r\u001b[2K   \u001b[91m━━━━━━━━━━━━━━━━━━━━━━━━━━━━━━━━━━━━━━━\u001b[0m\u001b[91m╸\u001b[0m \u001b[32m2.6/2.6 MB\u001b[0m \u001b[31m46.8 MB/s\u001b[0m eta \u001b[36m0:00:01\u001b[0m\r\u001b[2K   \u001b[90m━━━━━━━━━━━━━━━━━━━━━━━━━━━━━━━━━━━━━━━━\u001b[0m \u001b[32m2.6/2.6 MB\u001b[0m \u001b[31m27.9 MB/s\u001b[0m eta \u001b[36m0:00:00\u001b[0m\n",
            "\u001b[?25h"
          ]
        }
      ]
    },
    {
      "cell_type": "code",
      "execution_count": null,
      "id": "64da5fe0-f495-4c48-9913-38b2a4e929b3",
      "metadata": {
        "tags": [],
        "id": "64da5fe0-f495-4c48-9913-38b2a4e929b3"
      },
      "outputs": [],
      "source": [
        "import pyLDAvis.gensim\n",
        "import pickle\n",
        "import pyLDAvis\n",
        "import os\n",
        "# Visualize the topics\n",
        "pyLDAvis.enable_notebook()\n",
        "LDAvis_data_filepath = os.path.join('./ldavis_three_topics_'+str(num_topics))\n",
        "# # this is a bit time consuming - make the if statement True\n",
        "# # if you want to execute visualization prep yourself\n",
        "if 1 == 1:\n",
        "    LDAvis_prepared = pyLDAvis.gensim.prepare(lda_model, corpus, id2word)\n",
        "    with open(LDAvis_data_filepath, 'wb') as f:\n",
        "        pickle.dump(LDAvis_prepared, f)\n",
        "# load the pre-prepared pyLDAvis data from disk\n",
        "with open(LDAvis_data_filepath, 'rb') as f:\n",
        "    LDAvis_prepared = pickle.load(f)\n",
        "pyLDAvis.save_html(LDAvis_prepared, './ldavis_three_topics_'+ str(num_topics) +'.html')\n",
        "LDAvis_prepared"
      ]
    }
  ],
  "metadata": {
    "kernelspec": {
      "display_name": "Python 3 (ipykernel)",
      "language": "python",
      "name": "python3"
    },
    "language_info": {
      "codemirror_mode": {
        "name": "ipython",
        "version": 3
      },
      "file_extension": ".py",
      "mimetype": "text/x-python",
      "name": "python",
      "nbconvert_exporter": "python",
      "pygments_lexer": "ipython3",
      "version": "3.11.4"
    },
    "colab": {
      "provenance": [],
      "include_colab_link": true
    }
  },
  "nbformat": 4,
  "nbformat_minor": 5
}
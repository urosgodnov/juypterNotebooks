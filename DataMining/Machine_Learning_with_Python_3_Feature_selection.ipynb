{
  "nbformat": 4,
  "nbformat_minor": 0,
  "metadata": {
    "colab": {
      "provenance": [],
      "toc_visible": true,
      "authorship_tag": "ABX9TyNNHtzoFwnn4OIG4JNIr63w",
      "include_colab_link": true
    },
    "kernelspec": {
      "name": "python3",
      "display_name": "Python 3"
    },
    "language_info": {
      "name": "python"
    }
  },
  "cells": [
    {
      "cell_type": "markdown",
      "metadata": {
        "id": "view-in-github",
        "colab_type": "text"
      },
      "source": [
        "<a href=\"https://colab.research.google.com/github/urosgodnov/juypterNotebooks/blob/main/DataMining/Machine_Learning_with_Python_3_Feature_selection.ipynb\" target=\"_parent\"><img src=\"https://colab.research.google.com/assets/colab-badge.svg\" alt=\"Open In Colab\"/></a>"
      ]
    },
    {
      "cell_type": "markdown",
      "metadata": {
        "id": "K028aoI3dM0U"
      },
      "source": [
        "**Using Python to implement machine learning process\n",
        "by dr. Uros Godnov**"
      ]
    },
    {
      "cell_type": "markdown",
      "metadata": {
        "id": "bhH3-abDiNhL"
      },
      "source": [
        "# Feature selection"
      ]
    },
    {
      "cell_type": "markdown",
      "source": [
        "1. **Filter Methods:**\n",
        "\n",
        "Filter methods are used to score each feature independently of the model and then select the highest scoring features:\n",
        "- Variance Threshold\n",
        "- Correlation Matrix with Heatmap\n",
        "\n",
        "\n",
        "\n",
        "---\n",
        "\n",
        "\n",
        "2. **Wrapper Methods:**\n",
        "\n",
        "Wrapper methods involve training a machine learning model to evaluate the importance of features, where the model's performance serves as a criterion:\n",
        "\n",
        "- Recursive Feature Elimination (RFE)\n",
        "- Sequential Feature Selection\n",
        "\n",
        "\n",
        "\n",
        "---\n",
        "3. **Embedded Methods**\n",
        "\n",
        "Embedded methods are techniques that are performed during model training and can provide feature importance scores directly from the algorithm:\n",
        "\n",
        "- Feature Importance with Tree-Based Models\n",
        "- L1 Regularization (Lasso)\n",
        "\n",
        "\n",
        "\n",
        "---\n",
        "\n",
        "\n",
        "4. **Principal Component Analysis (PCA)**\n",
        "\n",
        "PCA is a dimensionality reduction technique that transforms features into a lower-dimensional space. While it doesn’t technically “select” features, it can help reduce feature dimensionality."
      ],
      "metadata": {
        "id": "mDo7P0-pTtgE"
      }
    },
    {
      "cell_type": "code",
      "execution_count": null,
      "metadata": {
        "id": "kfYCyJZRiXfV"
      },
      "outputs": [],
      "source": [
        "import pandas as pd\n",
        "import numpy as np\n",
        "\n",
        "from google.colab import drive\n",
        "import sys\n",
        "# Mount google drive\n",
        "drive.mount('/content/gdrive')\n",
        "# Changing path dirctory\n",
        "sys.path.append('/content/gdrive/MyDrive/Google_Colab_modules')\n",
        "\n",
        "import sweetviz as sv\n",
        "import ydata_profiling as ydp"
      ]
    },
    {
      "cell_type": "code",
      "execution_count": null,
      "metadata": {
        "id": "oB_HDRV6kMN4"
      },
      "outputs": [],
      "source": [
        "df=pd.read_csv(\"https://raw.githubusercontent.com/urosgodnov/datasets/refs/heads/master/laptip_prices_without_missing_values.csv\")\n",
        "for col in df.select_dtypes(exclude=\"number\"):\n",
        "    # Count frequencies including NaN\n",
        "    counts = df[col].value_counts(dropna=False)\n",
        "\n",
        "    # Replace categories with frequency ≤ 65, but keep NaNs\n",
        "    df[col] = df[col].apply(\n",
        "        lambda x: x if pd.isnull(x) or counts[x] > 65 else \"Other\"\n",
        "    )\n",
        "df.head()"
      ]
    },
    {
      "cell_type": "markdown",
      "source": [
        "## Correlation matrix"
      ],
      "metadata": {
        "id": "bhiAy-36PdVR"
      }
    },
    {
      "cell_type": "code",
      "source": [
        "df.select_dtypes(include=['number','float']).corr()"
      ],
      "metadata": {
        "id": "6C336W2tPgRe"
      },
      "execution_count": null,
      "outputs": []
    },
    {
      "cell_type": "markdown",
      "source": [
        "**No** p- values.\n",
        "What is a p-value?\n",
        "\n",
        "Key points about p-values:\n",
        "- Low p-value (e.g., < 0.05): Suggests that the observed data is unlikely under the null hypothesis, leading to rejection of the null hypothesis in favor of the alternative hypothesis. This implies the result is statistically significant.\n",
        "\n",
        "- High p-value (e.g., > 0.05): Indicates that the observed data is consistent with the null hypothesis, meaning there is not enough evidence to reject it. The result is considered not statistically significant.\n",
        "\n",
        "Interpretation:\n",
        "- p < 0.01: Strong evidence against the null hypothesis.\n",
        "- p < 0.05: Moderate evidence against the null hypothesis (common threshold for significance).\n",
        "- p > 0.05: Weak evidence against the null hypothesis; you may not reject the null.\n",
        "\n",
        "While p-values are useful for determining statistical significance, they don't measure the size or importance of an effect and can be affected by sample size. Therefore, it's crucial to interpret them in the context of the study and other statistics (e.g., confidence intervals)."
      ],
      "metadata": {
        "id": "DOreOkNTjrGf"
      }
    },
    {
      "cell_type": "code",
      "source": [
        "from scipy.stats import pearsonr\n",
        "\n",
        "dfC=df.select_dtypes(include=['number','float'])\n",
        "\n",
        "correlation_matrix = dfC.corr()\n",
        "p_values = pd.DataFrame(index=dfC.columns, columns=dfC.columns)\n",
        "\n",
        "for col1 in dfC.columns:\n",
        "    for col2 in dfC.columns:\n",
        "        if col1 == col2:\n",
        "            p_values.loc[col1, col2] = None  # p-value for self correlation is not meaningful\n",
        "        else:\n",
        "            corr, p_val = pearsonr(df[col1], df[col2])\n",
        "            p_values.loc[col1, col2] = p_val\n",
        "\n",
        "print(\"Correlation Matrix:\")\n",
        "print(correlation_matrix)\n",
        "print(\"\\nP-Values Matrix:\")\n",
        "print(p_values)"
      ],
      "metadata": {
        "id": "jtIB-w1VQzFJ"
      },
      "execution_count": null,
      "outputs": []
    },
    {
      "cell_type": "markdown",
      "source": [
        "- Strongest correlation: ram_gb has the strongest relationship with price_euro (correlation = 0.7400), and this relationship is highly significant.\n",
        "- Moderate correlation: cpu_frequency_ghz shows a moderate correlation with price.\n",
        "- Weak correlations: inches and weight_kg have weak but statistically significant correlations with price_euro."
      ],
      "metadata": {
        "id": "phTIDaV6lIrk"
      }
    },
    {
      "cell_type": "code",
      "source": [],
      "metadata": {
        "id": "XC0zv5IET32n"
      },
      "execution_count": null,
      "outputs": []
    },
    {
      "cell_type": "markdown",
      "source": [
        "## T test and ANOVA"
      ],
      "metadata": {
        "id": "AH2ywElGlvNo"
      }
    },
    {
      "cell_type": "markdown",
      "source": [
        "**Key Assumptions** (t test):\n",
        "- The two groups are independent (no overlap).\n",
        "- The data is approximately normally distributed.\n",
        "- Variances between the two groups are equal (homogeneity of variance). If not, a Welch's t-test can be used as a variant.\n",
        "\n",
        "**Key Assumptions** (ANOVA):\n",
        "- ANOVA is used when comparing the means of three or more groups.\n",
        "- It determines if at least one group has a significantly different mean without performing multiple pairwise t-tests, which can increase the risk of Type I errors (false positives)."
      ],
      "metadata": {
        "id": "FDoFWkQBlrpp"
      }
    },
    {
      "cell_type": "code",
      "source": [
        "import pandas as pd\n",
        "from scipy import stats\n",
        "\n",
        "# Identify object-type columns\n",
        "object_columns = df.select_dtypes(include='object').columns\n",
        "\n",
        "# Iterate through each object-type column\n",
        "for col in object_columns:\n",
        "    # Drop rows with NaN in the current column or 'price_euro'\n",
        "    df_clean = df.dropna(subset=[col, 'price_euro'])\n",
        "    unique_values = df_clean[col].unique()\n",
        "\n",
        "    if len(unique_values) == 2:\n",
        "        # Perform t-test for two unique values\n",
        "        group1 = df_clean[df_clean[col] == unique_values[0]]['price_euro']\n",
        "        group2 = df_clean[df_clean[col] == unique_values[1]]['price_euro']\n",
        "\n",
        "        if len(group1) >= 2 and len(group2) >= 2:\n",
        "            # Perform independent t-test\n",
        "            t_stat, p_value = stats.ttest_ind(group1, group2, equal_var=False)  # Welch's t-test\n",
        "\n",
        "            print(f\"T-test for column '{col}', comparing '{unique_values[0]}' vs '{unique_values[1]}':\")\n",
        "            print(f\"t-statistic: {t_stat:.4f}, p-value: {p_value:.4e}\\n\")\n",
        "        else:\n",
        "            print(f\"Not enough data in one of the groups for column '{col}'.\\n\")\n",
        "\n",
        "    elif len(unique_values) >= 3:\n",
        "        # Perform ANOVA for three or more unique values\n",
        "        groups = [df_clean[df_clean[col] == value]['price_euro'] for value in unique_values]\n",
        "\n",
        "        # Check if all groups have at least two observations\n",
        "        if all(len(group) >= 2 for group in groups):\n",
        "            # Perform one-way ANOVA\n",
        "            f_stat, p_value = stats.f_oneway(*groups)\n",
        "\n",
        "            print(f\"ANOVA for column '{col}':\")\n",
        "            print(f\"F-statistic: {f_stat:.4f}, p-value: {p_value:.4e}\\n\")\n",
        "        else:\n",
        "            print(f\"Not enough data in one of the groups for column '{col}'.\\n\")\n"
      ],
      "metadata": {
        "id": "xaAc7Pfjl1K9"
      },
      "execution_count": null,
      "outputs": []
    },
    {
      "cell_type": "markdown",
      "source": [
        "## Regular linear regression"
      ],
      "metadata": {
        "id": "0ioEmzCtDL3f"
      }
    },
    {
      "cell_type": "code",
      "source": [
        "# for the purpose of demonstration, we select only numeric columns\n",
        "# importing stats model - OLS regression\n",
        "import statsmodels.api as sm\n",
        "from statsmodels.formula.api import ols\n",
        "\n",
        "df_numeric = df.select_dtypes(include=[np.number])\n",
        "\n",
        "# Let's say we want to predict 'Y' using all other numeric columns.\n",
        "dependent_var = 'price_euro'\n",
        "independent_vars = df_numeric.columns.drop(dependent_var)  # all numeric cols except 'Y'\n",
        "\n",
        "# 3. Construct the formula string for statsmodels\n",
        "formula = f\"{dependent_var} ~ {' + '.join(independent_vars)}\"\n",
        "print(\"Formula:\", formula)\n",
        "# e.g., \"Y ~ X1 + X2\"\n",
        "\n",
        "# 4. Fit the linear regression model\n",
        "model = ols(formula, data=df_numeric).fit()"
      ],
      "metadata": {
        "id": "WFNO9odxDRle"
      },
      "execution_count": null,
      "outputs": []
    },
    {
      "cell_type": "code",
      "source": [
        "print(model.summary())"
      ],
      "metadata": {
        "id": "tYeY3afhEUjr"
      },
      "execution_count": null,
      "outputs": []
    },
    {
      "cell_type": "markdown",
      "source": [
        "## Scikit feature selection"
      ],
      "metadata": {
        "id": "fNTF-mc6p8lW"
      }
    },
    {
      "cell_type": "markdown",
      "source": [
        "### SelectKBest with f_regression"
      ],
      "metadata": {
        "id": "h1gHgGa7qhyb"
      }
    },
    {
      "cell_type": "markdown",
      "source": [
        "f_regression is a function from the sklearn.feature_selection module that evaluates the linear relationship between each feature (independent variable) and the target (dependent variable) using an F-test in a regression setting.\n",
        "\n",
        "**Compare it to previous linear regression model!**"
      ],
      "metadata": {
        "id": "-sZYU2fsFDd1"
      }
    },
    {
      "cell_type": "code",
      "source": [
        "from sklearn.feature_selection import SelectKBest, f_regression\n"
      ],
      "metadata": {
        "id": "o7Lfvje_p_rI"
      },
      "execution_count": null,
      "outputs": []
    },
    {
      "cell_type": "markdown",
      "source": [
        "**NOMINAL variables - get_dummies()**\n",
        "\n"
      ],
      "metadata": {
        "id": "dGEKZ-3RFe0j"
      }
    },
    {
      "cell_type": "code",
      "source": [
        "Xdemo = pd.DataFrame({\n",
        "    'Color': ['Red', 'Blue', 'Green'],\n",
        "    'Size': ['S', 'M', 'L'],\n",
        "    'Price': [10, 15, 20]\n",
        "})\n",
        "\n",
        "print(Xdemo)\n",
        "Xdemo_dummies = pd.get_dummies(Xdemo)\n",
        "print(Xdemo_dummies)"
      ],
      "metadata": {
        "id": "ReZsyI3hFua2"
      },
      "execution_count": null,
      "outputs": []
    },
    {
      "cell_type": "code",
      "source": [
        "y = df['price_euro']\n",
        "\n",
        "X = df.drop('price_euro', axis=1)\n",
        "\n",
        "## get_dummies is similiar to one-code\n",
        "X_dummies = pd.get_dummies(X)\n",
        "X_dummies.head()"
      ],
      "metadata": {
        "id": "JklpVKU7qB7v"
      },
      "execution_count": null,
      "outputs": []
    },
    {
      "cell_type": "code",
      "source": [
        "from sklearn.preprocessing import StandardScaler\n",
        "\n",
        "scaler = StandardScaler()\n",
        "X_scaled = scaler.fit_transform(X_dummies)\n",
        "\n",
        "X_scaled"
      ],
      "metadata": {
        "id": "l-ykAHjgq3aa"
      },
      "execution_count": null,
      "outputs": []
    },
    {
      "cell_type": "code",
      "source": [
        "selector = SelectKBest(score_func=f_regression, k=10)  # Select top 10 features\n",
        "\n",
        "# Fit the selector to the data\n",
        "X_new = selector.fit_transform(X_scaled, y)\n",
        "\n",
        "# Get the boolean mask of selected features\n",
        "mask = selector.get_support()\n",
        "\n",
        "# Get the list of selected feature names\n",
        "selected_features = X_dummies.columns[mask]\n",
        "\n",
        "selected_features"
      ],
      "metadata": {
        "id": "40VK8jF-rYCj"
      },
      "execution_count": null,
      "outputs": []
    },
    {
      "cell_type": "markdown",
      "source": [
        "#### Cheating with ordinal coding"
      ],
      "metadata": {
        "id": "20sScXc6tOyt"
      }
    },
    {
      "cell_type": "code",
      "source": [
        "from sklearn.preprocessing import OrdinalEncoder\n",
        "\n",
        "categorical_cols=df.select_dtypes(include='object').columns\n",
        "\n",
        "ordinal_encoder = OrdinalEncoder()\n",
        "\n",
        "X_encoded = X.copy()\n",
        "\n",
        "X_encoded[categorical_cols] = ordinal_encoder.fit_transform(X[categorical_cols])\n",
        "\n",
        "X_encoded.transpose()"
      ],
      "metadata": {
        "id": "Upy2E4OctS3V"
      },
      "execution_count": null,
      "outputs": []
    },
    {
      "cell_type": "code",
      "source": [
        "# if we want to see a mapping values\n",
        "# Map encoded integers back to original categories\n",
        "print(\"\\nMapping of Encoded Values to Original Categories:\")\n",
        "for col, categories in zip(categorical_cols, ordinal_encoder.categories_):\n",
        "    print(f\"{col}: {dict(enumerate(categories))}\")"
      ],
      "metadata": {
        "id": "ysyjuo6PKLp6"
      },
      "execution_count": null,
      "outputs": []
    },
    {
      "cell_type": "code",
      "source": [
        "selector = SelectKBest(score_func=f_regression, k=7)\n",
        "\n",
        "X_new = selector.fit_transform(X_encoded, y)\n",
        "\n",
        "\n",
        "# Get the boolean mask of selected features\n",
        "mask = selector.get_support()\n",
        "\n",
        "# Get the list of selected feature names\n",
        "selected_features = X.columns[mask]\n",
        "\n",
        "selected_features"
      ],
      "metadata": {
        "id": "AQyT91Bgt6q-"
      },
      "execution_count": null,
      "outputs": []
    },
    {
      "cell_type": "markdown",
      "source": [
        "**Feature importance**"
      ],
      "metadata": {
        "id": "Rjt829EIvSFB"
      }
    },
    {
      "cell_type": "code",
      "source": [
        "scores = selector.scores_\n",
        "pvalues = selector.pvalues_\n",
        "\n",
        "feature_importances = pd.DataFrame({\n",
        "    'Feature': X_encoded.columns,  # The original feature names after encoding\n",
        "    'F-Score': scores,\n",
        "    'p-Value': pvalues\n",
        "})\n",
        "\n",
        "# Sort by F-score to display the most important features\n",
        "feature_importances_sorted = feature_importances.sort_values(by='F-Score', ascending=False)\n",
        "feature_importances_sorted.head(7)"
      ],
      "metadata": {
        "id": "IHp-PeMhvUDB"
      },
      "execution_count": null,
      "outputs": []
    },
    {
      "cell_type": "markdown",
      "source": [
        "# Creating a pipeline"
      ],
      "metadata": {
        "id": "kdr8eNZKz-gg"
      }
    },
    {
      "cell_type": "markdown",
      "source": [
        "Creating a pipeline with Scikit-learn has several advantages, particularly in machine learning workflows. Here’s why you should use a pipeline:\n",
        "\n",
        "- Streamlines Workflow: Combines multiple steps like preprocessing, feature selection, and model training into a single object, making the workflow more organized and easier to manage.\n",
        "\n",
        "- Prevents Data Leakage: Ensures that all transformations (like scaling or encoding) are applied only on training data during cross-validation, avoiding the use of information from the test set in training.\n",
        "\n",
        "- Consistency: Ensures that the same transformations are applied to both the training and test datasets, maintaining uniformity throughout the machine learning process.\n",
        "\n",
        "- Cleaner Code: Simplifies code by chaining all preprocessing and modeling steps, reducing the need to manually apply transformations for every step.\n",
        "\n",
        "- Cross-Validation Compatibility: Allows seamless use of cross-validation (cross_val_score, GridSearchCV, etc.) by treating the entire pipeline as a single entity, making it easy to optimize hyperparameters across all steps.\n",
        "\n",
        "- Reusable: The pipeline can be reused for both training and prediction, applying all transformations automatically to any new data.\n",
        "\n",
        "- Modular Design: Each step in the pipeline is modular, making it easier to update or replace specific parts (e.g., swapping out a model or a preprocessing step) without affecting the entire workflow.\n",
        "\n",
        "- Reduces Human Error: By automating data transformations within the pipeline, it reduces the chance of making mistakes (like forgetting to scale test data) when manually performing steps"
      ],
      "metadata": {
        "id": "KIPpR4mE0SeY"
      }
    },
    {
      "cell_type": "code",
      "source": [
        "from sklearn.pipeline import Pipeline\n",
        "from sklearn.impute import SimpleImputer\n",
        "from sklearn.preprocessing import StandardScaler, OrdinalEncoder\n",
        "from sklearn.feature_selection import SelectKBest, f_classif\n",
        "from sklearn.compose import ColumnTransformer\n",
        "\n"
      ],
      "metadata": {
        "id": "a4Dk4Ip50obK"
      },
      "execution_count": null,
      "outputs": []
    },
    {
      "cell_type": "code",
      "source": [
        "# pipeline = Pipeline(steps=[\n",
        "#    ('step_name', transformer_or_model),\n",
        "#    ('step_name2', transformer_or_model2),\n",
        "#    # Add more steps as needed\n",
        "# ])"
      ],
      "metadata": {
        "id": "fLpXAmxn1ejS"
      },
      "execution_count": null,
      "outputs": []
    },
    {
      "cell_type": "markdown",
      "source": [
        "## Pipeline for preprocessing"
      ],
      "metadata": {
        "id": "YRPY8tQZ01va"
      }
    },
    {
      "cell_type": "code",
      "source": [
        "import sklearn\n",
        "dir(sklearn.feature_selection)"
      ],
      "metadata": {
        "id": "j7iq6zKCSL3M"
      },
      "execution_count": null,
      "outputs": []
    },
    {
      "cell_type": "markdown",
      "source": [
        "### SelectKBest"
      ],
      "metadata": {
        "id": "v_mMYehL3_0q"
      }
    },
    {
      "cell_type": "code",
      "source": [
        "# data importing and frequency recalculation\n",
        "\n",
        "df=pd.read_csv(\"https://raw.githubusercontent.com/urosgodnov/datasets/refs/heads/master/laptip_prices_without_missing_values.csv\")\n",
        "\n",
        "for col in df.select_dtypes(exclude=\"number\"):\n",
        "    # Count frequencies including NaN\n",
        "    counts = df[col].value_counts(dropna=False)\n",
        "\n",
        "    # Replace categories with frequency ≤ 65, but keep NaNs\n",
        "    df[col] = df[col].apply(\n",
        "        lambda x: x if pd.isnull(x) or counts[x] > 65 else \"Other\"\n",
        "    )"
      ],
      "metadata": {
        "id": "Rd8EvKaGQAk6"
      },
      "execution_count": null,
      "outputs": []
    },
    {
      "cell_type": "code",
      "source": [
        "# independent and dependent variables\n",
        "X = df.drop('price_euro', axis=1)\n",
        "y = df['price_euro']\n",
        "\n",
        "# Identify categorical and numerical columns\n",
        "categorical_cols = X.select_dtypes(include=['object', 'category']).columns.tolist()\n",
        "numerical_cols = X.select_dtypes(include=['int64', 'float64']).columns.tolist()"
      ],
      "metadata": {
        "id": "xBmJFLZl05_J"
      },
      "execution_count": null,
      "outputs": []
    },
    {
      "cell_type": "markdown",
      "source": [
        "Explanation:\n",
        "\n",
        "- transformers argument:\n",
        " - ('num', StandardScaler(), numerical_cols):\n",
        "   - Apply StandardScaler to the columns in numerical_cols.\n",
        "   - StandardScaler standardizes numerical features to have zero mean and unit variance.\n",
        " - ('cat', OrdinalEncoder(), categorical_cols):\n",
        "   - Apply OrdinalEncoder to the columns in categorical_cols.\n",
        "   - OrdinalEncoder converts categorical values into integers based on their order (e.g., ['Low', 'Medium', 'High'] → [0, 1, 2]).\n",
        "\n",
        "- Each tuple in transformers specifies:\n",
        " - A name for the transformation ('num' or 'cat').\n",
        " - The transformation object (StandardScaler or OrdinalEncoder).\n",
        " - The columns to which the transformation will be applied (numerical_cols or categorical_cols)."
      ],
      "metadata": {
        "id": "eD1JQY5yL090"
      }
    },
    {
      "cell_type": "code",
      "source": [
        "# defining preprocessor\n",
        "preprocessor = ColumnTransformer(\n",
        "    transformers=[\n",
        "        ('num', StandardScaler(), numerical_cols),\n",
        "        ('cat', OrdinalEncoder(), categorical_cols)\n",
        "    ])\n",
        "\n",
        "# defining pipline\n",
        "pipeline = Pipeline(steps=[\n",
        "    ('preprocessor', preprocessor),  # Preprocessing step\n",
        "    ('feature_selection', SelectKBest(score_func=f_classif, k=7))  # Feature selection step\n",
        "])"
      ],
      "metadata": {
        "id": "3F09WNVS2Juo"
      },
      "execution_count": null,
      "outputs": []
    },
    {
      "cell_type": "code",
      "source": [
        "pipeline.fit(X, y)\n",
        "\n",
        "X_selected = pipeline.transform(X)\n",
        "\n",
        "selector = pipeline.named_steps['feature_selection']\n",
        "\n",
        "scores = selector.scores_  # F-scores\n",
        "pvalues = selector.pvalues_  # p-values\n",
        "\n",
        "mask = selector.get_support()\n",
        "\n",
        "selected_features = X.columns[mask]\n",
        "\n",
        "# Output the selected feature names\n",
        "print(\"Selected Features:\", selected_features)"
      ],
      "metadata": {
        "colab": {
          "base_uri": "https://localhost:8080/"
        },
        "id": "KD23a47D26oM",
        "outputId": "a4ebf23b-0660-47ef-c8fb-b91695a04922"
      },
      "execution_count": null,
      "outputs": [
        {
          "output_type": "stream",
          "name": "stdout",
          "text": [
            "Selected Features: Index(['product', 'typename', 'inches', 'cpu_frequency_ghz', 'memory',\n",
            "       'gpu_company', 'opsys'],\n",
            "      dtype='object')\n"
          ]
        },
        {
          "output_type": "stream",
          "name": "stderr",
          "text": [
            "/usr/local/lib/python3.10/dist-packages/sklearn/feature_selection/_univariate_selection.py:111: UserWarning: Features [5] are constant.\n",
            "  warnings.warn(\"Features %s are constant.\" % constant_features_idx, UserWarning)\n",
            "/usr/local/lib/python3.10/dist-packages/sklearn/feature_selection/_univariate_selection.py:112: RuntimeWarning: invalid value encountered in divide\n",
            "  f = msb / msw\n"
          ]
        }
      ]
    },
    {
      "cell_type": "code",
      "source": [
        "feature_importances_selectkbest = pd.DataFrame({\n",
        "    'Feature': X.columns,\n",
        "    'F-Score': scores,\n",
        "    'p-Value': pvalues\n",
        "})\n",
        "\n",
        "feature_importances_selectkbest = feature_importances_selectkbest[feature_importances_selectkbest['Feature'].isin(selected_features)].sort_values(by='F-Score', ascending=False)\n",
        "feature_importances_selectkbest.head()"
      ],
      "metadata": {
        "colab": {
          "base_uri": "https://localhost:8080/",
          "height": 206
        },
        "id": "txHi5dPs6Quk",
        "outputId": "36176347-2c2d-4bed-d04d-ef6fa03af0dc"
      },
      "execution_count": null,
      "outputs": [
        {
          "output_type": "execute_result",
          "data": {
            "text/plain": [
              "              Feature   F-Score       p-Value\n",
              "2            typename  4.332661  5.600711e-61\n",
              "1             product  1.643684  1.405849e-09\n",
              "7   cpu_frequency_ghz  1.417062  1.335609e-05\n",
              "10        gpu_company  1.413896  1.501003e-05\n",
              "3              inches  1.341903  1.911267e-04"
            ],
            "text/html": [
              "\n",
              "  <div id=\"df-45f52a8d-7fbc-4ed8-bf48-71dc5aa9e136\" class=\"colab-df-container\">\n",
              "    <div>\n",
              "<style scoped>\n",
              "    .dataframe tbody tr th:only-of-type {\n",
              "        vertical-align: middle;\n",
              "    }\n",
              "\n",
              "    .dataframe tbody tr th {\n",
              "        vertical-align: top;\n",
              "    }\n",
              "\n",
              "    .dataframe thead th {\n",
              "        text-align: right;\n",
              "    }\n",
              "</style>\n",
              "<table border=\"1\" class=\"dataframe\">\n",
              "  <thead>\n",
              "    <tr style=\"text-align: right;\">\n",
              "      <th></th>\n",
              "      <th>Feature</th>\n",
              "      <th>F-Score</th>\n",
              "      <th>p-Value</th>\n",
              "    </tr>\n",
              "  </thead>\n",
              "  <tbody>\n",
              "    <tr>\n",
              "      <th>2</th>\n",
              "      <td>typename</td>\n",
              "      <td>4.332661</td>\n",
              "      <td>5.600711e-61</td>\n",
              "    </tr>\n",
              "    <tr>\n",
              "      <th>1</th>\n",
              "      <td>product</td>\n",
              "      <td>1.643684</td>\n",
              "      <td>1.405849e-09</td>\n",
              "    </tr>\n",
              "    <tr>\n",
              "      <th>7</th>\n",
              "      <td>cpu_frequency_ghz</td>\n",
              "      <td>1.417062</td>\n",
              "      <td>1.335609e-05</td>\n",
              "    </tr>\n",
              "    <tr>\n",
              "      <th>10</th>\n",
              "      <td>gpu_company</td>\n",
              "      <td>1.413896</td>\n",
              "      <td>1.501003e-05</td>\n",
              "    </tr>\n",
              "    <tr>\n",
              "      <th>3</th>\n",
              "      <td>inches</td>\n",
              "      <td>1.341903</td>\n",
              "      <td>1.911267e-04</td>\n",
              "    </tr>\n",
              "  </tbody>\n",
              "</table>\n",
              "</div>\n",
              "    <div class=\"colab-df-buttons\">\n",
              "\n",
              "  <div class=\"colab-df-container\">\n",
              "    <button class=\"colab-df-convert\" onclick=\"convertToInteractive('df-45f52a8d-7fbc-4ed8-bf48-71dc5aa9e136')\"\n",
              "            title=\"Convert this dataframe to an interactive table.\"\n",
              "            style=\"display:none;\">\n",
              "\n",
              "  <svg xmlns=\"http://www.w3.org/2000/svg\" height=\"24px\" viewBox=\"0 -960 960 960\">\n",
              "    <path d=\"M120-120v-720h720v720H120Zm60-500h600v-160H180v160Zm220 220h160v-160H400v160Zm0 220h160v-160H400v160ZM180-400h160v-160H180v160Zm440 0h160v-160H620v160ZM180-180h160v-160H180v160Zm440 0h160v-160H620v160Z\"/>\n",
              "  </svg>\n",
              "    </button>\n",
              "\n",
              "  <style>\n",
              "    .colab-df-container {\n",
              "      display:flex;\n",
              "      gap: 12px;\n",
              "    }\n",
              "\n",
              "    .colab-df-convert {\n",
              "      background-color: #E8F0FE;\n",
              "      border: none;\n",
              "      border-radius: 50%;\n",
              "      cursor: pointer;\n",
              "      display: none;\n",
              "      fill: #1967D2;\n",
              "      height: 32px;\n",
              "      padding: 0 0 0 0;\n",
              "      width: 32px;\n",
              "    }\n",
              "\n",
              "    .colab-df-convert:hover {\n",
              "      background-color: #E2EBFA;\n",
              "      box-shadow: 0px 1px 2px rgba(60, 64, 67, 0.3), 0px 1px 3px 1px rgba(60, 64, 67, 0.15);\n",
              "      fill: #174EA6;\n",
              "    }\n",
              "\n",
              "    .colab-df-buttons div {\n",
              "      margin-bottom: 4px;\n",
              "    }\n",
              "\n",
              "    [theme=dark] .colab-df-convert {\n",
              "      background-color: #3B4455;\n",
              "      fill: #D2E3FC;\n",
              "    }\n",
              "\n",
              "    [theme=dark] .colab-df-convert:hover {\n",
              "      background-color: #434B5C;\n",
              "      box-shadow: 0px 1px 3px 1px rgba(0, 0, 0, 0.15);\n",
              "      filter: drop-shadow(0px 1px 2px rgba(0, 0, 0, 0.3));\n",
              "      fill: #FFFFFF;\n",
              "    }\n",
              "  </style>\n",
              "\n",
              "    <script>\n",
              "      const buttonEl =\n",
              "        document.querySelector('#df-45f52a8d-7fbc-4ed8-bf48-71dc5aa9e136 button.colab-df-convert');\n",
              "      buttonEl.style.display =\n",
              "        google.colab.kernel.accessAllowed ? 'block' : 'none';\n",
              "\n",
              "      async function convertToInteractive(key) {\n",
              "        const element = document.querySelector('#df-45f52a8d-7fbc-4ed8-bf48-71dc5aa9e136');\n",
              "        const dataTable =\n",
              "          await google.colab.kernel.invokeFunction('convertToInteractive',\n",
              "                                                    [key], {});\n",
              "        if (!dataTable) return;\n",
              "\n",
              "        const docLinkHtml = 'Like what you see? Visit the ' +\n",
              "          '<a target=\"_blank\" href=https://colab.research.google.com/notebooks/data_table.ipynb>data table notebook</a>'\n",
              "          + ' to learn more about interactive tables.';\n",
              "        element.innerHTML = '';\n",
              "        dataTable['output_type'] = 'display_data';\n",
              "        await google.colab.output.renderOutput(dataTable, element);\n",
              "        const docLink = document.createElement('div');\n",
              "        docLink.innerHTML = docLinkHtml;\n",
              "        element.appendChild(docLink);\n",
              "      }\n",
              "    </script>\n",
              "  </div>\n",
              "\n",
              "\n",
              "<div id=\"df-a6a8a26c-8a97-4139-b575-fcc0fba49dcd\">\n",
              "  <button class=\"colab-df-quickchart\" onclick=\"quickchart('df-a6a8a26c-8a97-4139-b575-fcc0fba49dcd')\"\n",
              "            title=\"Suggest charts\"\n",
              "            style=\"display:none;\">\n",
              "\n",
              "<svg xmlns=\"http://www.w3.org/2000/svg\" height=\"24px\"viewBox=\"0 0 24 24\"\n",
              "     width=\"24px\">\n",
              "    <g>\n",
              "        <path d=\"M19 3H5c-1.1 0-2 .9-2 2v14c0 1.1.9 2 2 2h14c1.1 0 2-.9 2-2V5c0-1.1-.9-2-2-2zM9 17H7v-7h2v7zm4 0h-2V7h2v10zm4 0h-2v-4h2v4z\"/>\n",
              "    </g>\n",
              "</svg>\n",
              "  </button>\n",
              "\n",
              "<style>\n",
              "  .colab-df-quickchart {\n",
              "      --bg-color: #E8F0FE;\n",
              "      --fill-color: #1967D2;\n",
              "      --hover-bg-color: #E2EBFA;\n",
              "      --hover-fill-color: #174EA6;\n",
              "      --disabled-fill-color: #AAA;\n",
              "      --disabled-bg-color: #DDD;\n",
              "  }\n",
              "\n",
              "  [theme=dark] .colab-df-quickchart {\n",
              "      --bg-color: #3B4455;\n",
              "      --fill-color: #D2E3FC;\n",
              "      --hover-bg-color: #434B5C;\n",
              "      --hover-fill-color: #FFFFFF;\n",
              "      --disabled-bg-color: #3B4455;\n",
              "      --disabled-fill-color: #666;\n",
              "  }\n",
              "\n",
              "  .colab-df-quickchart {\n",
              "    background-color: var(--bg-color);\n",
              "    border: none;\n",
              "    border-radius: 50%;\n",
              "    cursor: pointer;\n",
              "    display: none;\n",
              "    fill: var(--fill-color);\n",
              "    height: 32px;\n",
              "    padding: 0;\n",
              "    width: 32px;\n",
              "  }\n",
              "\n",
              "  .colab-df-quickchart:hover {\n",
              "    background-color: var(--hover-bg-color);\n",
              "    box-shadow: 0 1px 2px rgba(60, 64, 67, 0.3), 0 1px 3px 1px rgba(60, 64, 67, 0.15);\n",
              "    fill: var(--button-hover-fill-color);\n",
              "  }\n",
              "\n",
              "  .colab-df-quickchart-complete:disabled,\n",
              "  .colab-df-quickchart-complete:disabled:hover {\n",
              "    background-color: var(--disabled-bg-color);\n",
              "    fill: var(--disabled-fill-color);\n",
              "    box-shadow: none;\n",
              "  }\n",
              "\n",
              "  .colab-df-spinner {\n",
              "    border: 2px solid var(--fill-color);\n",
              "    border-color: transparent;\n",
              "    border-bottom-color: var(--fill-color);\n",
              "    animation:\n",
              "      spin 1s steps(1) infinite;\n",
              "  }\n",
              "\n",
              "  @keyframes spin {\n",
              "    0% {\n",
              "      border-color: transparent;\n",
              "      border-bottom-color: var(--fill-color);\n",
              "      border-left-color: var(--fill-color);\n",
              "    }\n",
              "    20% {\n",
              "      border-color: transparent;\n",
              "      border-left-color: var(--fill-color);\n",
              "      border-top-color: var(--fill-color);\n",
              "    }\n",
              "    30% {\n",
              "      border-color: transparent;\n",
              "      border-left-color: var(--fill-color);\n",
              "      border-top-color: var(--fill-color);\n",
              "      border-right-color: var(--fill-color);\n",
              "    }\n",
              "    40% {\n",
              "      border-color: transparent;\n",
              "      border-right-color: var(--fill-color);\n",
              "      border-top-color: var(--fill-color);\n",
              "    }\n",
              "    60% {\n",
              "      border-color: transparent;\n",
              "      border-right-color: var(--fill-color);\n",
              "    }\n",
              "    80% {\n",
              "      border-color: transparent;\n",
              "      border-right-color: var(--fill-color);\n",
              "      border-bottom-color: var(--fill-color);\n",
              "    }\n",
              "    90% {\n",
              "      border-color: transparent;\n",
              "      border-bottom-color: var(--fill-color);\n",
              "    }\n",
              "  }\n",
              "</style>\n",
              "\n",
              "  <script>\n",
              "    async function quickchart(key) {\n",
              "      const quickchartButtonEl =\n",
              "        document.querySelector('#' + key + ' button');\n",
              "      quickchartButtonEl.disabled = true;  // To prevent multiple clicks.\n",
              "      quickchartButtonEl.classList.add('colab-df-spinner');\n",
              "      try {\n",
              "        const charts = await google.colab.kernel.invokeFunction(\n",
              "            'suggestCharts', [key], {});\n",
              "      } catch (error) {\n",
              "        console.error('Error during call to suggestCharts:', error);\n",
              "      }\n",
              "      quickchartButtonEl.classList.remove('colab-df-spinner');\n",
              "      quickchartButtonEl.classList.add('colab-df-quickchart-complete');\n",
              "    }\n",
              "    (() => {\n",
              "      let quickchartButtonEl =\n",
              "        document.querySelector('#df-a6a8a26c-8a97-4139-b575-fcc0fba49dcd button');\n",
              "      quickchartButtonEl.style.display =\n",
              "        google.colab.kernel.accessAllowed ? 'block' : 'none';\n",
              "    })();\n",
              "  </script>\n",
              "</div>\n",
              "\n",
              "    </div>\n",
              "  </div>\n"
            ],
            "application/vnd.google.colaboratory.intrinsic+json": {
              "type": "dataframe",
              "variable_name": "feature_importances_selectkbest",
              "summary": "{\n  \"name\": \"feature_importances_selectkbest\",\n  \"rows\": 7,\n  \"fields\": [\n    {\n      \"column\": \"Feature\",\n      \"properties\": {\n        \"dtype\": \"string\",\n        \"num_unique_values\": 7,\n        \"samples\": [\n          \"typename\",\n          \"product\",\n          \"memory\"\n        ],\n        \"semantic_type\": \"\",\n        \"description\": \"\"\n      }\n    },\n    {\n      \"column\": \"F-Score\",\n      \"properties\": {\n        \"dtype\": \"number\",\n        \"std\": 1.127037427888279,\n        \"min\": 1.1764532266079544,\n        \"max\": 4.332660999350961,\n        \"num_unique_values\": 7,\n        \"samples\": [\n          4.332660999350961,\n          1.6436844905212833,\n          1.2632411786428777\n        ],\n        \"semantic_type\": \"\",\n        \"description\": \"\"\n      }\n    },\n    {\n      \"column\": \"p-Value\",\n      \"properties\": {\n        \"dtype\": \"number\",\n        \"std\": 0.00906163838035654,\n        \"min\": 5.600711143599573e-61,\n        \"max\": 0.024292994681040125,\n        \"num_unique_values\": 7,\n        \"samples\": [\n          5.600711143599573e-61,\n          1.4058492719099279e-09,\n          0.002331451800795664\n        ],\n        \"semantic_type\": \"\",\n        \"description\": \"\"\n      }\n    }\n  ]\n}"
            }
          },
          "metadata": {},
          "execution_count": 49
        }
      ]
    },
    {
      "cell_type": "markdown",
      "source": [
        "### Variance thresholder"
      ],
      "metadata": {
        "id": "vcJovrDCUJ1_"
      }
    },
    {
      "cell_type": "code",
      "source": [
        "from sklearn.feature_selection import VarianceThreshold\n",
        "\n",
        "pipeline = Pipeline(steps=[\n",
        "    ('preprocessor', preprocessor),  # Preprocessing step\n",
        "    ('feature_selection', VarianceThreshold(threshold=0.8))\n",
        "])"
      ],
      "metadata": {
        "id": "-_xkhBqfUW60"
      },
      "execution_count": 72,
      "outputs": []
    },
    {
      "cell_type": "code",
      "source": [
        "pipeline.fit(X, y)\n",
        "\n",
        "X_selected = pipeline.transform(X)\n",
        "\n",
        "selector = pipeline.named_steps['feature_selection']\n",
        "\n",
        "\n",
        "mask = selector.get_support()\n",
        "variances = selector.variances_\n",
        "\n",
        "selected_features = X.columns[mask]\n",
        "\n",
        "# Output the selected feature names\n",
        "print(\"Selected Features:\", selected_features)"
      ],
      "metadata": {
        "colab": {
          "base_uri": "https://localhost:8080/"
        },
        "id": "q6frjkBLU6UP",
        "outputId": "581c0e27-e874-4bc0-ee01-a15de8ea6a6d"
      },
      "execution_count": 73,
      "outputs": [
        {
          "output_type": "stream",
          "name": "stdout",
          "text": [
            "Selected Features: Index(['company', 'product', 'typename', 'inches', 'screenresolution',\n",
            "       'cpu_type', 'cpu_frequency_ghz', 'memory', 'gpu_company'],\n",
            "      dtype='object')\n"
          ]
        }
      ]
    },
    {
      "cell_type": "code",
      "source": [
        "feature_importances_variance = pd.DataFrame({\n",
        "    'Feature': X.columns,\n",
        "    'Variance': variances\n",
        "})\n",
        "\n",
        "feature_importances_variance[feature_importances_variance[\"Variance\"]>0.5]"
      ],
      "metadata": {
        "colab": {
          "base_uri": "https://localhost:8080/",
          "height": 363
        },
        "id": "ZUE0fNNiVdss",
        "outputId": "3486a8f2-6b92-4504-a714-612320058610"
      },
      "execution_count": 74,
      "outputs": [
        {
          "output_type": "execute_result",
          "data": {
            "text/plain": [
              "              Feature  Variance\n",
              "0             company  1.000000\n",
              "1             product  1.000000\n",
              "2            typename  1.000000\n",
              "3              inches  1.000000\n",
              "4    screenresolution  2.124567\n",
              "6            cpu_type  1.177254\n",
              "7   cpu_frequency_ghz  1.083122\n",
              "9              memory  5.677033\n",
              "10        gpu_company  4.044047\n",
              "12              opsys  0.637259"
            ],
            "text/html": [
              "\n",
              "  <div id=\"df-f9069bff-dbdb-44e7-9746-42c03f37a069\" class=\"colab-df-container\">\n",
              "    <div>\n",
              "<style scoped>\n",
              "    .dataframe tbody tr th:only-of-type {\n",
              "        vertical-align: middle;\n",
              "    }\n",
              "\n",
              "    .dataframe tbody tr th {\n",
              "        vertical-align: top;\n",
              "    }\n",
              "\n",
              "    .dataframe thead th {\n",
              "        text-align: right;\n",
              "    }\n",
              "</style>\n",
              "<table border=\"1\" class=\"dataframe\">\n",
              "  <thead>\n",
              "    <tr style=\"text-align: right;\">\n",
              "      <th></th>\n",
              "      <th>Feature</th>\n",
              "      <th>Variance</th>\n",
              "    </tr>\n",
              "  </thead>\n",
              "  <tbody>\n",
              "    <tr>\n",
              "      <th>0</th>\n",
              "      <td>company</td>\n",
              "      <td>1.000000</td>\n",
              "    </tr>\n",
              "    <tr>\n",
              "      <th>1</th>\n",
              "      <td>product</td>\n",
              "      <td>1.000000</td>\n",
              "    </tr>\n",
              "    <tr>\n",
              "      <th>2</th>\n",
              "      <td>typename</td>\n",
              "      <td>1.000000</td>\n",
              "    </tr>\n",
              "    <tr>\n",
              "      <th>3</th>\n",
              "      <td>inches</td>\n",
              "      <td>1.000000</td>\n",
              "    </tr>\n",
              "    <tr>\n",
              "      <th>4</th>\n",
              "      <td>screenresolution</td>\n",
              "      <td>2.124567</td>\n",
              "    </tr>\n",
              "    <tr>\n",
              "      <th>6</th>\n",
              "      <td>cpu_type</td>\n",
              "      <td>1.177254</td>\n",
              "    </tr>\n",
              "    <tr>\n",
              "      <th>7</th>\n",
              "      <td>cpu_frequency_ghz</td>\n",
              "      <td>1.083122</td>\n",
              "    </tr>\n",
              "    <tr>\n",
              "      <th>9</th>\n",
              "      <td>memory</td>\n",
              "      <td>5.677033</td>\n",
              "    </tr>\n",
              "    <tr>\n",
              "      <th>10</th>\n",
              "      <td>gpu_company</td>\n",
              "      <td>4.044047</td>\n",
              "    </tr>\n",
              "    <tr>\n",
              "      <th>12</th>\n",
              "      <td>opsys</td>\n",
              "      <td>0.637259</td>\n",
              "    </tr>\n",
              "  </tbody>\n",
              "</table>\n",
              "</div>\n",
              "    <div class=\"colab-df-buttons\">\n",
              "\n",
              "  <div class=\"colab-df-container\">\n",
              "    <button class=\"colab-df-convert\" onclick=\"convertToInteractive('df-f9069bff-dbdb-44e7-9746-42c03f37a069')\"\n",
              "            title=\"Convert this dataframe to an interactive table.\"\n",
              "            style=\"display:none;\">\n",
              "\n",
              "  <svg xmlns=\"http://www.w3.org/2000/svg\" height=\"24px\" viewBox=\"0 -960 960 960\">\n",
              "    <path d=\"M120-120v-720h720v720H120Zm60-500h600v-160H180v160Zm220 220h160v-160H400v160Zm0 220h160v-160H400v160ZM180-400h160v-160H180v160Zm440 0h160v-160H620v160ZM180-180h160v-160H180v160Zm440 0h160v-160H620v160Z\"/>\n",
              "  </svg>\n",
              "    </button>\n",
              "\n",
              "  <style>\n",
              "    .colab-df-container {\n",
              "      display:flex;\n",
              "      gap: 12px;\n",
              "    }\n",
              "\n",
              "    .colab-df-convert {\n",
              "      background-color: #E8F0FE;\n",
              "      border: none;\n",
              "      border-radius: 50%;\n",
              "      cursor: pointer;\n",
              "      display: none;\n",
              "      fill: #1967D2;\n",
              "      height: 32px;\n",
              "      padding: 0 0 0 0;\n",
              "      width: 32px;\n",
              "    }\n",
              "\n",
              "    .colab-df-convert:hover {\n",
              "      background-color: #E2EBFA;\n",
              "      box-shadow: 0px 1px 2px rgba(60, 64, 67, 0.3), 0px 1px 3px 1px rgba(60, 64, 67, 0.15);\n",
              "      fill: #174EA6;\n",
              "    }\n",
              "\n",
              "    .colab-df-buttons div {\n",
              "      margin-bottom: 4px;\n",
              "    }\n",
              "\n",
              "    [theme=dark] .colab-df-convert {\n",
              "      background-color: #3B4455;\n",
              "      fill: #D2E3FC;\n",
              "    }\n",
              "\n",
              "    [theme=dark] .colab-df-convert:hover {\n",
              "      background-color: #434B5C;\n",
              "      box-shadow: 0px 1px 3px 1px rgba(0, 0, 0, 0.15);\n",
              "      filter: drop-shadow(0px 1px 2px rgba(0, 0, 0, 0.3));\n",
              "      fill: #FFFFFF;\n",
              "    }\n",
              "  </style>\n",
              "\n",
              "    <script>\n",
              "      const buttonEl =\n",
              "        document.querySelector('#df-f9069bff-dbdb-44e7-9746-42c03f37a069 button.colab-df-convert');\n",
              "      buttonEl.style.display =\n",
              "        google.colab.kernel.accessAllowed ? 'block' : 'none';\n",
              "\n",
              "      async function convertToInteractive(key) {\n",
              "        const element = document.querySelector('#df-f9069bff-dbdb-44e7-9746-42c03f37a069');\n",
              "        const dataTable =\n",
              "          await google.colab.kernel.invokeFunction('convertToInteractive',\n",
              "                                                    [key], {});\n",
              "        if (!dataTable) return;\n",
              "\n",
              "        const docLinkHtml = 'Like what you see? Visit the ' +\n",
              "          '<a target=\"_blank\" href=https://colab.research.google.com/notebooks/data_table.ipynb>data table notebook</a>'\n",
              "          + ' to learn more about interactive tables.';\n",
              "        element.innerHTML = '';\n",
              "        dataTable['output_type'] = 'display_data';\n",
              "        await google.colab.output.renderOutput(dataTable, element);\n",
              "        const docLink = document.createElement('div');\n",
              "        docLink.innerHTML = docLinkHtml;\n",
              "        element.appendChild(docLink);\n",
              "      }\n",
              "    </script>\n",
              "  </div>\n",
              "\n",
              "\n",
              "<div id=\"df-0aee6adb-0943-4854-8692-17c69234c06f\">\n",
              "  <button class=\"colab-df-quickchart\" onclick=\"quickchart('df-0aee6adb-0943-4854-8692-17c69234c06f')\"\n",
              "            title=\"Suggest charts\"\n",
              "            style=\"display:none;\">\n",
              "\n",
              "<svg xmlns=\"http://www.w3.org/2000/svg\" height=\"24px\"viewBox=\"0 0 24 24\"\n",
              "     width=\"24px\">\n",
              "    <g>\n",
              "        <path d=\"M19 3H5c-1.1 0-2 .9-2 2v14c0 1.1.9 2 2 2h14c1.1 0 2-.9 2-2V5c0-1.1-.9-2-2-2zM9 17H7v-7h2v7zm4 0h-2V7h2v10zm4 0h-2v-4h2v4z\"/>\n",
              "    </g>\n",
              "</svg>\n",
              "  </button>\n",
              "\n",
              "<style>\n",
              "  .colab-df-quickchart {\n",
              "      --bg-color: #E8F0FE;\n",
              "      --fill-color: #1967D2;\n",
              "      --hover-bg-color: #E2EBFA;\n",
              "      --hover-fill-color: #174EA6;\n",
              "      --disabled-fill-color: #AAA;\n",
              "      --disabled-bg-color: #DDD;\n",
              "  }\n",
              "\n",
              "  [theme=dark] .colab-df-quickchart {\n",
              "      --bg-color: #3B4455;\n",
              "      --fill-color: #D2E3FC;\n",
              "      --hover-bg-color: #434B5C;\n",
              "      --hover-fill-color: #FFFFFF;\n",
              "      --disabled-bg-color: #3B4455;\n",
              "      --disabled-fill-color: #666;\n",
              "  }\n",
              "\n",
              "  .colab-df-quickchart {\n",
              "    background-color: var(--bg-color);\n",
              "    border: none;\n",
              "    border-radius: 50%;\n",
              "    cursor: pointer;\n",
              "    display: none;\n",
              "    fill: var(--fill-color);\n",
              "    height: 32px;\n",
              "    padding: 0;\n",
              "    width: 32px;\n",
              "  }\n",
              "\n",
              "  .colab-df-quickchart:hover {\n",
              "    background-color: var(--hover-bg-color);\n",
              "    box-shadow: 0 1px 2px rgba(60, 64, 67, 0.3), 0 1px 3px 1px rgba(60, 64, 67, 0.15);\n",
              "    fill: var(--button-hover-fill-color);\n",
              "  }\n",
              "\n",
              "  .colab-df-quickchart-complete:disabled,\n",
              "  .colab-df-quickchart-complete:disabled:hover {\n",
              "    background-color: var(--disabled-bg-color);\n",
              "    fill: var(--disabled-fill-color);\n",
              "    box-shadow: none;\n",
              "  }\n",
              "\n",
              "  .colab-df-spinner {\n",
              "    border: 2px solid var(--fill-color);\n",
              "    border-color: transparent;\n",
              "    border-bottom-color: var(--fill-color);\n",
              "    animation:\n",
              "      spin 1s steps(1) infinite;\n",
              "  }\n",
              "\n",
              "  @keyframes spin {\n",
              "    0% {\n",
              "      border-color: transparent;\n",
              "      border-bottom-color: var(--fill-color);\n",
              "      border-left-color: var(--fill-color);\n",
              "    }\n",
              "    20% {\n",
              "      border-color: transparent;\n",
              "      border-left-color: var(--fill-color);\n",
              "      border-top-color: var(--fill-color);\n",
              "    }\n",
              "    30% {\n",
              "      border-color: transparent;\n",
              "      border-left-color: var(--fill-color);\n",
              "      border-top-color: var(--fill-color);\n",
              "      border-right-color: var(--fill-color);\n",
              "    }\n",
              "    40% {\n",
              "      border-color: transparent;\n",
              "      border-right-color: var(--fill-color);\n",
              "      border-top-color: var(--fill-color);\n",
              "    }\n",
              "    60% {\n",
              "      border-color: transparent;\n",
              "      border-right-color: var(--fill-color);\n",
              "    }\n",
              "    80% {\n",
              "      border-color: transparent;\n",
              "      border-right-color: var(--fill-color);\n",
              "      border-bottom-color: var(--fill-color);\n",
              "    }\n",
              "    90% {\n",
              "      border-color: transparent;\n",
              "      border-bottom-color: var(--fill-color);\n",
              "    }\n",
              "  }\n",
              "</style>\n",
              "\n",
              "  <script>\n",
              "    async function quickchart(key) {\n",
              "      const quickchartButtonEl =\n",
              "        document.querySelector('#' + key + ' button');\n",
              "      quickchartButtonEl.disabled = true;  // To prevent multiple clicks.\n",
              "      quickchartButtonEl.classList.add('colab-df-spinner');\n",
              "      try {\n",
              "        const charts = await google.colab.kernel.invokeFunction(\n",
              "            'suggestCharts', [key], {});\n",
              "      } catch (error) {\n",
              "        console.error('Error during call to suggestCharts:', error);\n",
              "      }\n",
              "      quickchartButtonEl.classList.remove('colab-df-spinner');\n",
              "      quickchartButtonEl.classList.add('colab-df-quickchart-complete');\n",
              "    }\n",
              "    (() => {\n",
              "      let quickchartButtonEl =\n",
              "        document.querySelector('#df-0aee6adb-0943-4854-8692-17c69234c06f button');\n",
              "      quickchartButtonEl.style.display =\n",
              "        google.colab.kernel.accessAllowed ? 'block' : 'none';\n",
              "    })();\n",
              "  </script>\n",
              "</div>\n",
              "\n",
              "    </div>\n",
              "  </div>\n"
            ],
            "application/vnd.google.colaboratory.intrinsic+json": {
              "type": "dataframe",
              "summary": "{\n  \"name\": \"feature_importances_variance[feature_importances_variance[\\\"Variance\\\"]>0\",\n  \"rows\": 10,\n  \"fields\": [\n    {\n      \"column\": \"Feature\",\n      \"properties\": {\n        \"dtype\": \"string\",\n        \"num_unique_values\": 10,\n        \"samples\": [\n          \"gpu_company\",\n          \"product\",\n          \"cpu_type\"\n        ],\n        \"semantic_type\": \"\",\n        \"description\": \"\"\n      }\n    },\n    {\n      \"column\": \"Variance\",\n      \"properties\": {\n        \"dtype\": \"number\",\n        \"std\": 1.6643623722583112,\n        \"min\": 0.6372589004229208,\n        \"max\": 5.6770325259515975,\n        \"num_unique_values\": 10,\n        \"samples\": [\n          4.044047058823541,\n          0.999999999999997,\n          1.1772542868127787\n        ],\n        \"semantic_type\": \"\",\n        \"description\": \"\"\n      }\n    }\n  ]\n}"
            }
          },
          "metadata": {},
          "execution_count": 74
        }
      ]
    },
    {
      "cell_type": "markdown",
      "source": [
        "### Recursive Feature Elimination (RFE)\n",
        "\n",
        "Recursive Feature Elimination (RFE) is a feature selection technique used to identify the most important features for a predictive model. It works by recursively removing the least important features and fitting the model again on the remaining features."
      ],
      "metadata": {
        "id": "169d1UP64M-o"
      }
    },
    {
      "cell_type": "code",
      "source": [
        "from sklearn.feature_selection import RFE\n",
        "from sklearn.linear_model import LinearRegression\n",
        "\n",
        "pipeline = Pipeline(steps=[\n",
        "    ('preprocessor', preprocessor),  # Preprocessing step\n",
        "    ('feature_selection', RFE(estimator=LinearRegression(), n_features_to_select=7))  # Feature selection step\n",
        "])\n"
      ],
      "metadata": {
        "id": "HpI8lbH84l7a"
      },
      "execution_count": null,
      "outputs": []
    },
    {
      "cell_type": "code",
      "source": [
        "pipeline.fit(X, y)\n",
        "\n",
        "X_selected = pipeline.transform(X)\n",
        "\n",
        "selector = pipeline.named_steps['feature_selection']\n",
        "\n",
        "ranking = selector.ranking_\n",
        "support = selector.support_\n",
        "\n",
        "mask = selector.get_support()\n",
        "\n",
        "selected_features = X.columns[mask]\n",
        "\n",
        "# Output the selected feature names\n",
        "print(\"Selected Features:\", selected_features)"
      ],
      "metadata": {
        "id": "DK5w3chm47Bo"
      },
      "execution_count": null,
      "outputs": []
    },
    {
      "cell_type": "code",
      "source": [
        "feature_importances_RFE = pd.DataFrame({\n",
        "    'Feature': X.columns,\n",
        "    'Ranking': ranking,\n",
        "    'Selected': support\n",
        "})\n",
        "\n",
        "feature_importances_RFE = feature_importances_RFE[feature_importances_RFE['Feature'].isin(selected_features)].sort_values(by='Ranking')\n",
        "feature_importances_RFE.head()"
      ],
      "metadata": {
        "id": "UBXhoDfY6m01"
      },
      "execution_count": null,
      "outputs": []
    },
    {
      "cell_type": "markdown",
      "source": [
        "**Task**"
      ],
      "metadata": {
        "id": "JpM0tSL3ZTsp"
      }
    },
    {
      "cell_type": "code",
      "source": [
        "# Use SelectKBest(score_func=f_classif, k=7) to find 5 feature\n",
        "# neglect data quality\n",
        "df_task=pd.read_csv(\"https://github.com/urosgodnov/datasets/blob/master/diabetes.csv\")\n",
        "\n",
        "df_task.head()"
      ],
      "metadata": {
        "id": "GOJgFX_MZVhM"
      },
      "execution_count": null,
      "outputs": []
    }
  ]
}
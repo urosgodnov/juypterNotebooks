{
  "nbformat": 4,
  "nbformat_minor": 0,
  "metadata": {
    "colab": {
      "provenance": [],
      "authorship_tag": "ABX9TyOpVP7JpxEGkNK6MD+G0hRM",
      "include_colab_link": true
    },
    "kernelspec": {
      "name": "python3",
      "display_name": "Python 3"
    },
    "language_info": {
      "name": "python"
    }
  },
  "cells": [
    {
      "cell_type": "markdown",
      "metadata": {
        "id": "view-in-github",
        "colab_type": "text"
      },
      "source": [
        "<a href=\"https://colab.research.google.com/github/urosgodnov/juypterNotebooks/blob/main/DataMining/Intro_to_text_mining.ipynb\" target=\"_parent\"><img src=\"https://colab.research.google.com/assets/colab-badge.svg\" alt=\"Open In Colab\"/></a>"
      ]
    },
    {
      "cell_type": "code",
      "execution_count": null,
      "metadata": {
        "id": "LhXpikXmMT2B"
      },
      "outputs": [],
      "source": [
        "import pandas as pd\n",
        "import nltk"
      ]
    },
    {
      "cell_type": "code",
      "source": [
        "data=pd.DataFrame({\"id\":[0,1,2],\"sentence\":[\"Today it's a beautiful day!\",\"Great white shark just ate my leg!\",\"You can't be serious :)\"]})"
      ],
      "metadata": {
        "id": "8R0Fasi-MXxq"
      },
      "execution_count": 26,
      "outputs": []
    },
    {
      "cell_type": "code",
      "source": [
        "data"
      ],
      "metadata": {
        "id": "h5SLUskqMpFp"
      },
      "execution_count": null,
      "outputs": []
    },
    {
      "cell_type": "code",
      "source": [
        "nltk.download('punkt_tab')"
      ],
      "metadata": {
        "id": "Umcg8JA5M6RT"
      },
      "execution_count": null,
      "outputs": []
    },
    {
      "cell_type": "code",
      "source": [
        "data[\"sentence\"].apply(nltk.word_tokenize)"
      ],
      "metadata": {
        "id": "3smFWlUvMp2q"
      },
      "execution_count": null,
      "outputs": []
    },
    {
      "cell_type": "code",
      "source": [
        "import regex as re"
      ],
      "metadata": {
        "id": "WwNUfeINM-pi"
      },
      "execution_count": null,
      "outputs": []
    },
    {
      "cell_type": "code",
      "source": [
        "data[\"sentence\"].apply(lambda x: re.findall(\"[\\w]+\", x))"
      ],
      "metadata": {
        "id": "hHU9xCD0NIIA"
      },
      "execution_count": null,
      "outputs": []
    },
    {
      "cell_type": "code",
      "source": [
        "from nltk.sentiment import SentimentIntensityAnalyzer\n",
        "nltk.download('vader_lexicon')\n",
        "analyzer = SentimentIntensityAnalyzer()"
      ],
      "metadata": {
        "id": "3IWHRrifNMPm"
      },
      "execution_count": null,
      "outputs": []
    },
    {
      "cell_type": "code",
      "source": [
        "sentences=data[\"sentence\"]\n",
        "for sentence in sentences:\n",
        "  print(sentence)\n",
        "  ss = analyzer.polarity_scores(sentence)\n",
        "  print(ss)\n"
      ],
      "metadata": {
        "id": "9d2CuGTJPjXS"
      },
      "execution_count": null,
      "outputs": []
    },
    {
      "cell_type": "code",
      "source": [
        "from transformers import pipeline\n",
        "\n",
        "# Load a sentiment analysis pipeline\n",
        "sentiment_model = pipeline(\"sentiment-analysis\")"
      ],
      "metadata": {
        "id": "3Reju20lQl5L"
      },
      "execution_count": null,
      "outputs": []
    },
    {
      "cell_type": "code",
      "source": [
        "results = sentiment_model(data[\"sentence\"].tolist())\n",
        "\n",
        "for i, res in enumerate(results):\n",
        "    print(f\"Text: {data['sentence'].iloc[i]}\")  # Changed texts[i] to data['sentence'].iloc[i]\n",
        "    print(f\"Sentiment: {res['label']}, Confidence: {res['score']:.2f}\")"
      ],
      "metadata": {
        "id": "iGe4KMJ1RFsC"
      },
      "execution_count": null,
      "outputs": []
    },
    {
      "cell_type": "code",
      "source": [],
      "metadata": {
        "colab": {
          "base_uri": "https://localhost:8080/"
        },
        "id": "KjINGdFsUW8e",
        "outputId": "5c4b5017-dba5-42bb-a043-7ad64161f222"
      },
      "execution_count": 22,
      "outputs": [
        {
          "output_type": "stream",
          "name": "stdout",
          "text": [
            "<enumerate object at 0x7e353d4cd100>\n"
          ]
        }
      ]
    }
  ]
}
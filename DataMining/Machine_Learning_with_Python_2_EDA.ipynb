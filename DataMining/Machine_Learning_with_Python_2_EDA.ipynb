{
  "cells": [
    {
      "cell_type": "markdown",
      "metadata": {
        "id": "view-in-github",
        "colab_type": "text"
      },
      "source": [
        "<a href=\"https://colab.research.google.com/github/urosgodnov/juypterNotebooks/blob/main/DataMining/Machine_Learning_with_Python_2_EDA.ipynb\" target=\"_parent\"><img src=\"https://colab.research.google.com/assets/colab-badge.svg\" alt=\"Open In Colab\"/></a>"
      ]
    },
    {
      "cell_type": "markdown",
      "metadata": {
        "id": "K028aoI3dM0U"
      },
      "source": [
        "**Using Python to implement machine learning process\n",
        "by dr. Uros Godnov**"
      ]
    },
    {
      "cell_type": "markdown",
      "metadata": {
        "id": "bhH3-abDiNhL"
      },
      "source": [
        "# Data exploration"
      ]
    },
    {
      "cell_type": "code",
      "execution_count": null,
      "metadata": {
        "id": "kfYCyJZRiXfV"
      },
      "outputs": [],
      "source": [
        "import pandas as pd\n",
        "\n",
        "from google.colab import drive\n",
        "import sys\n",
        "# Mount google drive\n",
        "drive.mount('/content/gdrive')\n",
        "# Changing path dirctory\n",
        "sys.path.append('/content/gdrive/MyDrive/Google_Colab_modules')\n",
        "\n",
        "import sweetviz as sv\n",
        "import ydata_profiling as ydp"
      ]
    },
    {
      "cell_type": "code",
      "execution_count": null,
      "metadata": {
        "id": "oB_HDRV6kMN4"
      },
      "outputs": [],
      "source": [
        "df=pd.read_csv(\"https://raw.githubusercontent.com/urosgodnov/datasets/refs/heads/master/laptop_price_with_missing_values.csv\")\n"
      ]
    },
    {
      "cell_type": "code",
      "execution_count": null,
      "metadata": {
        "id": "fCIbHi64ka2j"
      },
      "outputs": [],
      "source": [
        "df.head()"
      ]
    },
    {
      "cell_type": "markdown",
      "metadata": {
        "id": "Oz6euwxZlLPc"
      },
      "source": [
        "**changing pandas behavior**"
      ]
    },
    {
      "cell_type": "code",
      "execution_count": null,
      "metadata": {
        "id": "ENUTFJbnklPN"
      },
      "outputs": [],
      "source": [
        "pd.set_option('display.max_rows', 20)         # Show up to 20 rows\n",
        "pd.set_option('display.max_columns', 10)      # Show up to 10 columns\n",
        "pd.set_option('display.precision', 3)         # Set float precision to 3 decimals\n",
        "pd.set_option('display.max_colwidth', 50)     # Limit column width to 50 characters\n"
      ]
    },
    {
      "cell_type": "markdown",
      "metadata": {
        "id": "nCzok-Fyl9Op"
      },
      "source": [
        "## Basic data overview"
      ]
    },
    {
      "cell_type": "markdown",
      "metadata": {
        "id": "ADVROc6Ata03"
      },
      "source": [
        "**datatable formatter**"
      ]
    },
    {
      "cell_type": "code",
      "execution_count": null,
      "metadata": {
        "id": "8dGT82putFKE"
      },
      "outputs": [],
      "source": [
        "from google.colab import data_table\n",
        "data_table.enable_dataframe_formatter()"
      ]
    },
    {
      "cell_type": "code",
      "execution_count": null,
      "metadata": {
        "id": "GqGMBH5NtTJs"
      },
      "outputs": [],
      "source": [
        "df.head()"
      ]
    },
    {
      "cell_type": "code",
      "execution_count": null,
      "metadata": {
        "id": "GV19h7dFmFpq"
      },
      "outputs": [],
      "source": [
        "df.info()"
      ]
    },
    {
      "cell_type": "code",
      "execution_count": null,
      "metadata": {
        "id": "Xo3NwwlrodzX"
      },
      "outputs": [],
      "source": [
        "## displying data types\n",
        "df.dtypes"
      ]
    },
    {
      "cell_type": "code",
      "execution_count": null,
      "metadata": {
        "id": "xKxwCtKAmDIf"
      },
      "outputs": [],
      "source": [
        "df.describe() # basic descriptive statistics"
      ]
    },
    {
      "cell_type": "code",
      "execution_count": null,
      "metadata": {
        "id": "9TKZ4conmLVQ"
      },
      "outputs": [],
      "source": [
        "# displaying missing values statistics\n",
        "df.isnull().sum()"
      ]
    },
    {
      "cell_type": "code",
      "execution_count": null,
      "metadata": {
        "id": "9lvRamiJmYDH"
      },
      "outputs": [],
      "source": [
        "## displaying skewness\n",
        "df.select_dtypes(include=\"number\").skew()"
      ]
    },
    {
      "cell_type": "code",
      "execution_count": null,
      "metadata": {
        "id": "G65MTvkHoOg3"
      },
      "outputs": [],
      "source": [
        "## displying frequencies\n",
        "df['Company'].value_counts()"
      ]
    },
    {
      "cell_type": "code",
      "execution_count": null,
      "metadata": {
        "id": "3TjQ8mkPpRlH"
      },
      "outputs": [],
      "source": [
        "# displying histograms\n",
        "df.hist(figsize=(15,10))"
      ]
    },
    {
      "cell_type": "markdown",
      "metadata": {
        "id": "pSeeU-PSryUq"
      },
      "source": [
        "## Automatic data exploration"
      ]
    },
    {
      "cell_type": "markdown",
      "metadata": {
        "id": "fPJ_c6wQr_mg"
      },
      "source": [
        "- ydata_profiling (pandas_profiling)\n",
        "- sweetviz"
      ]
    },
    {
      "cell_type": "code",
      "execution_count": null,
      "metadata": {
        "id": "EFY2A4smrlWy"
      },
      "outputs": [],
      "source": [
        "ydp.ProfileReport(df)"
      ]
    },
    {
      "cell_type": "code",
      "execution_count": null,
      "metadata": {
        "id": "BryfPmknuvrD"
      },
      "outputs": [],
      "source": [
        "import sweetviz as sv"
      ]
    },
    {
      "cell_type": "code",
      "execution_count": null,
      "metadata": {
        "id": "rV9S42TvuxqS"
      },
      "outputs": [],
      "source": [
        "# report = sv.analyze(df)"
      ]
    },
    {
      "cell_type": "code",
      "execution_count": null,
      "metadata": {
        "id": "I4EkVh7CvJEl"
      },
      "outputs": [],
      "source": [
        "# report.show_html()"
      ]
    },
    {
      "cell_type": "code",
      "execution_count": null,
      "metadata": {
        "id": "-wqbhoNVv6FL"
      },
      "outputs": [],
      "source": [
        "# targeting dependent variable\n",
        "# report = sv.analyze(df, target_feat='Price (Euro)')\n",
        "# report.show_html()"
      ]
    },
    {
      "cell_type": "code",
      "execution_count": null,
      "metadata": {
        "id": "k6Y4wUIMwd75"
      },
      "outputs": [],
      "source": [
        "# problem with missing values\n",
        "# for the demo, remove missing values from dependent variable\n",
        "df_droped=df.dropna(subset=['Price (Euro)'])\n",
        "report = sv.analyze(df, target_feat='Price (Euro)')\n",
        "report.show_html()"
      ]
    },
    {
      "cell_type": "markdown",
      "metadata": {
        "id": "PVyxTXhUAjdI"
      },
      "source": [
        "# Missing data strategies"
      ]
    },
    {
      "cell_type": "markdown",
      "metadata": {
        "id": "ii67JfN2A66A"
      },
      "source": [
        "Remove missing data:\n",
        "- Use dropna() to remove rows or columns with missing values.\n",
        "- Fill missing data: Use fillna() to fill missing values with a specific value or a calculated statistic like mean or median.\n",
        "- Interpolation: For numerical data, use interpolate() to estimate missing values."
      ]
    },
    {
      "cell_type": "markdown",
      "metadata": {
        "id": "JyzC0gnmBGKt"
      },
      "source": [
        "## Removing missing values"
      ]
    },
    {
      "cell_type": "code",
      "execution_count": null,
      "metadata": {
        "id": "clQuxUUVBJiA"
      },
      "outputs": [],
      "source": [
        "missing_percentage = (len(df) - df.count()) / len(df) * 100\n",
        "\n",
        "# Sort the missing percentages in descending order (most missing values first)\n",
        "sorted_missing_percentage = missing_percentage.sort_values(ascending=False)\n",
        "\n",
        "sorted_missing_percentage"
      ]
    },
    {
      "cell_type": "code",
      "execution_count": null,
      "metadata": {
        "id": "sd0Or0CUDG35"
      },
      "outputs": [],
      "source": [
        "df_droped = df.dropna()\n",
        "\n",
        "missing_percentage = (len(df_droped) - df_droped.count()) / len(df_droped) * 100\n",
        "\n",
        "# Sort the missing percentages in descending order (most missing values first)\n",
        "sorted_missing_percentage = missing_percentage.sort_values(ascending=False)\n",
        "\n",
        "sorted_missing_percentage"
      ]
    },
    {
      "cell_type": "markdown",
      "metadata": {
        "id": "HoCt7v2qC8Fv"
      },
      "source": [
        "**But we cannot just remove missing data, if there is a pattern. We should check if data is Missing Completly At Random (MCAR Little test).**"
      ]
    },
    {
      "cell_type": "code",
      "execution_count": null,
      "metadata": {
        "id": "SDGJcnYoDdo2"
      },
      "outputs": [],
      "source": [
        "import numpy as np\n",
        "import pandas as pd\n",
        "from scipy import stats\n",
        "\n",
        "def test_mcar(data):\n",
        "    # Remove rows where all values are missing\n",
        "    data = data.dropna(how='all')\n",
        "\n",
        "    # Get the number of rows and columns in the data\n",
        "    n, p = data.shape\n",
        "\n",
        "    # Create a missing data indicator matrix\n",
        "    missing_data = data.isnull().astype(int)\n",
        "\n",
        "    # Mean of the missing data indicators for each variable\n",
        "    missing_mean = missing_data.mean(axis=0)\n",
        "\n",
        "    # Overall mean of the missing data indicators\n",
        "    overall_mean = missing_data.mean().mean()\n",
        "\n",
        "    # Compute expected value of missing data indicators for each row\n",
        "    row_means = missing_data.mean(axis=1)\n",
        "\n",
        "    # Compute the statistic for the test\n",
        "    chi_squared = ((row_means - overall_mean) ** 2).sum() * (n * p / (p * overall_mean * (1 - overall_mean)))\n",
        "\n",
        "    # Compute degrees of freedom\n",
        "    degrees_of_freedom = (n - 1) * (p - 1)\n",
        "\n",
        "    # Compute the p-value for the test\n",
        "    p_value = 1 - stats.chi2.cdf(chi_squared, degrees_of_freedom)\n",
        "\n",
        "    return chi_squared, p_value"
      ]
    },
    {
      "cell_type": "markdown",
      "metadata": {
        "id": "dqQucIPPFAVy"
      },
      "source": [
        " If the p-value is large, it suggests the missing data might be MCAR, whereas **a small p-value** suggests the missingness may **depend** on observed or unobserved data."
      ]
    },
    {
      "cell_type": "code",
      "execution_count": null,
      "metadata": {
        "id": "UG_Ln5WyDgeq"
      },
      "outputs": [],
      "source": [
        "print(f\"The p value of test is {test_mcar(df)[1]}, which means data is not missing completly at random. We must impute data.\")"
      ]
    },
    {
      "cell_type": "markdown",
      "metadata": {
        "id": "kCxnhk6ZFXWv"
      },
      "source": [
        "## Fill missing values"
      ]
    },
    {
      "cell_type": "markdown",
      "metadata": {
        "id": "anIz07WoFi7m"
      },
      "source": [
        "For the data manipulation to be simpler, we should change the columns' name to simpler format. Currently the pyjanitor module doesnt work in Google Colab due to chain dependency issues!"
      ]
    },
    {
      "cell_type": "code",
      "execution_count": null,
      "metadata": {
        "id": "1TlAi-jSFn-l"
      },
      "outputs": [],
      "source": [
        "import re\n",
        "\n",
        "def clean_names(df):\n",
        "    # Function to clean individual column names\n",
        "    def clean_column_name(name):\n",
        "        name = name.strip()  # Remove leading and trailing spaces\n",
        "        name = name.lower()  # Convert to lowercase\n",
        "        name = re.sub(r'[^\\w\\s]', '', name)  # Remove special characters except for underscores and alphanumeric\n",
        "        name = re.sub(r'\\s+', '_', name)  # Replace spaces with underscores\n",
        "        return name\n",
        "\n",
        "    # Apply the cleaning function to all column names\n",
        "    df.columns = [clean_column_name(col) for col in df.columns]\n",
        "    return df\n"
      ]
    },
    {
      "cell_type": "code",
      "execution_count": null,
      "metadata": {
        "id": "XQoQl6LtGiJE"
      },
      "outputs": [],
      "source": [
        "df.columns"
      ]
    },
    {
      "cell_type": "code",
      "execution_count": null,
      "metadata": {
        "id": "6cRznAiSGjwy"
      },
      "outputs": [],
      "source": [
        "dfClean_names=clean_names(df)\n",
        "dfClean_names.columns"
      ]
    },
    {
      "cell_type": "code",
      "execution_count": null,
      "metadata": {
        "id": "8eu4tQzTLxdR"
      },
      "outputs": [],
      "source": [
        "missing_count = dfClean_names.isnull().sum()\n",
        "\n",
        "# Filter for columns with missing values\n",
        "missing_columns = missing_count[missing_count > 0]\n",
        "missing_columns"
      ]
    },
    {
      "cell_type": "markdown",
      "metadata": {
        "id": "72CJEjtnL69L"
      },
      "source": [
        "### Imputation with mean, median and mode"
      ]
    },
    {
      "cell_type": "code",
      "execution_count": null,
      "metadata": {
        "id": "ZgTSYzgVMAas"
      },
      "outputs": [],
      "source": [
        "dfClean_names['price_euro'].hist()"
      ]
    },
    {
      "cell_type": "code",
      "execution_count": null,
      "metadata": {
        "id": "DCMSFLssMJMn"
      },
      "outputs": [],
      "source": [
        "dfClean_names[dfClean_names['price_euro'].isna()]\n"
      ]
    },
    {
      "cell_type": "code",
      "execution_count": null,
      "metadata": {
        "id": "ph_9QBkeNe3s"
      },
      "outputs": [],
      "source": [
        "dfClean_names['price_euro']=dfClean_names['price_euro'].fillna(dfClean_names['price_euro'].median())\n",
        "dfClean_names[dfClean_names['price_euro'].isna()]"
      ]
    },
    {
      "cell_type": "markdown",
      "metadata": {
        "id": "EtW45MNHOp5F"
      },
      "source": [
        "**Imputation with mode for categorical columns**"
      ]
    },
    {
      "cell_type": "markdown",
      "metadata": {
        "id": "BLbJnW_mOveT"
      },
      "source": [
        "We replace missing values for nominal values with mode (most frequent value)"
      ]
    },
    {
      "cell_type": "code",
      "execution_count": null,
      "metadata": {
        "id": "rH_N5O91OqoM"
      },
      "outputs": [],
      "source": [
        "def fill_missing_with_mode(df):\n",
        "    # Iterate over columns in the DataFrame\n",
        "    for col in df.select_dtypes(include=['object', 'category']).columns:\n",
        "        if df[col].isnull().any():  # Check if the column has missing values\n",
        "            mode_value = df[col].mode()[0]  # Get the most frequent value (mode)\n",
        "            df[col]=df[col].fillna(mode_value)  # Replace NaN with mode value\n",
        "    return df"
      ]
    },
    {
      "cell_type": "code",
      "execution_count": null,
      "metadata": {
        "id": "CawNEBgLO6m1"
      },
      "outputs": [],
      "source": [
        "dfClean = fill_missing_with_mode(dfClean_names)"
      ]
    },
    {
      "cell_type": "markdown",
      "metadata": {
        "id": "O0p2J0jfPTBl"
      },
      "source": [
        "**Original values**"
      ]
    },
    {
      "cell_type": "code",
      "execution_count": null,
      "metadata": {
        "id": "2hSNaXryZUe_"
      },
      "outputs": [],
      "source": [
        "df=pd.read_csv(\"https://raw.githubusercontent.com/urosgodnov/datasets/refs/heads/master/laptop_price_with_missing_values.csv\")\n",
        "df=clean_names(df)\n",
        "\n",
        "df[df.isnull().any(axis=1)].head()"
      ]
    },
    {
      "cell_type": "code",
      "execution_count": null,
      "metadata": {
        "id": "HZDUGG5mGqy-"
      },
      "outputs": [],
      "source": [
        "df.iloc[[1207,1226],:]"
      ]
    },
    {
      "cell_type": "markdown",
      "metadata": {
        "id": "08e02R_SbCDw"
      },
      "source": [
        "**Imputed values**"
      ]
    },
    {
      "cell_type": "code",
      "execution_count": null,
      "metadata": {
        "id": "11ZpIO9MaGWB"
      },
      "outputs": [],
      "source": [
        "dfClean.iloc[[1207,1226],:]"
      ]
    },
    {
      "cell_type": "markdown",
      "metadata": {
        "id": "OKl58FSgIKF4"
      },
      "source": [
        "**Advanced imputation with scikit-learn**\n",
        "- SimpleImputer is a class in scikit-learn that provides basic strategies to handle missing data by imputing values in place of the missing values. It works by filling the missing data with a specific statistic (mean, median, most frequent value) or a constant value. It is best suited for simple datasets where you don't need complex relationships between missing and non-missing data.\n",
        "- KNNImputer is a more sophisticated technique for handling missing data by using the k-Nearest Neighbors algorithm. It estimates missing values based on the values of the nearest neighbors. Specifically, it looks at the k closest samples (or neighbors) to the missing value, based on some distance metric (like Euclidean distance), and imputes the missing value using the mean of the neighbor values.Key Parameters:\n",
        "-- n_neighbors: The number of nearest neighbors to use for imputation. A larger value of n_neighbors uses more neighbors to impute missing data.\n",
        "-- weights: How the contribution of each neighbor should be weighted:\n",
        "'uniform': All neighbors contribute equally to the imputation.\n",
        "-- 'distance': Closer neighbors contribute more to the imputation.\n",
        "metric: The distance metric to measure the closeness of neighbors. The default is 'nan_euclidean', which accounts for missing values by using only the available features to calculate the distance."
      ]
    },
    {
      "cell_type": "markdown",
      "metadata": {
        "id": "uf3-4-3Jc-S9"
      },
      "source": [
        "**SimpleImputer**"
      ]
    },
    {
      "cell_type": "code",
      "execution_count": null,
      "metadata": {
        "id": "oB_0UYrFcEn-"
      },
      "outputs": [],
      "source": [
        "from sklearn.impute import SimpleImputer, KNNImputer\n",
        "df_impute=clean_names(df)"
      ]
    },
    {
      "cell_type": "code",
      "execution_count": null,
      "metadata": {
        "id": "VeMy7tqQcHKR"
      },
      "outputs": [],
      "source": [
        "numeric_imputer = SimpleImputer(strategy='mean')\n",
        "df_impute['price_euro'] = numeric_imputer.fit_transform(df_impute[['price_euro']]).round(2)\n",
        "\n",
        "# Impute missing categorical values with the most frequent value\n",
        "categorical_imputer = SimpleImputer(strategy='most_frequent')\n",
        "df_impute['screenresolution'] = categorical_imputer.fit_transform(df_impute[['screenresolution']]).ravel()"
      ]
    },
    {
      "cell_type": "code",
      "execution_count": null,
      "metadata": {
        "id": "3ueu2KX_cwcT"
      },
      "outputs": [],
      "source": [
        "df_impute.iloc[[1207,1226],:]"
      ]
    },
    {
      "cell_type": "markdown",
      "metadata": {
        "id": "EhLexpXidI2d"
      },
      "source": [
        "**KNNImputer**"
      ]
    },
    {
      "cell_type": "markdown",
      "metadata": {
        "id": "lNiJcj6YRIg7"
      },
      "source": [
        "**To handle multiple categorical columns automatically while using KNNImputer, you need to apply a method that**:\n",
        "\n",
        "- Encodes categorical columns into numeric form (so KNNImputer can work).\n",
        "- Imputes the missing values using KNNImputer.\n",
        "- Decodes the imputed numeric values back into their original categorical form.\n",
        "columns:\n",
        "\n",
        "Steps:\n",
        "- Identify categorical and numeric columns.\n",
        "- Encode categorical columns using OrdinalEncoder or similar.\n",
        "- Apply KNNImputer to the entire dataset.\n",
        "- Decode categorical columns back to their original categories.\n",
        "\n",
        "![image.png](data:image/png;base64,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)"
      ]
    },
    {
      "cell_type": "markdown",
      "metadata": {
        "id": "NEtKtsMkpBx2"
      },
      "source": [
        "![image.png](data:image/png;base64,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)"
      ]
    },
    {
      "cell_type": "markdown",
      "metadata": {
        "id": "Wb5_wb0-pJmX"
      },
      "source": [
        "- Each '*' represents a person with known Weight.\n",
        "- '?' represents Person B with missing Weight.\n",
        "Steps Visualized:\n",
        "\n",
        "- Person B (?) is missing Weight.\n",
        "- We calculate distances to other known points.\n",
        "Person D () is the closest neighbor, followed by Person A ().\n",
        "-We use the Weights of Person D (72 kg) and Person A (70 kg) to estimate Person B's Weight as 71 kg."
      ]
    },
    {
      "cell_type": "code",
      "execution_count": null,
      "metadata": {
        "id": "2Bshg7MHdNoB"
      },
      "outputs": [],
      "source": [
        "import pandas as pd\n",
        "import numpy as np\n",
        "from sklearn.impute import KNNImputer, SimpleImputer\n",
        "\n",
        "# Assuming df is your DataFrame\n",
        "df_imputeKNN = clean_names(df)\n",
        "\n",
        "# Identify categorical and numerical columns\n",
        "categorical_cols = df_imputeKNN.select_dtypes(include=['object']).columns\n",
        "numeric_cols = df_imputeKNN.select_dtypes(include=[np.number]).columns\n",
        "\n",
        "# Impute numerical columns with KNNImputer\n",
        "numeric_imputer = KNNImputer(n_neighbors=5)\n",
        "df_imputeKNN[numeric_cols] = numeric_imputer.fit_transform(df_imputeKNN[numeric_cols])\n",
        "\n",
        "# Impute categorical columns with SimpleImputer\n",
        "categorical_imputer = SimpleImputer(strategy='most_frequent')\n",
        "df_imputeKNN[categorical_cols] = categorical_imputer.fit_transform(df_imputeKNN[categorical_cols])\n",
        "\n",
        "df_imputeKNN.iloc[[1207,1226],:]"
      ]
    },
    {
      "cell_type": "code",
      "execution_count": null,
      "metadata": {
        "id": "PQ4zFjGYmqCH"
      },
      "outputs": [],
      "source": [
        "comparison_df = pd.DataFrame({\n",
        "    'Median imputed': dfClean['price_euro'].median(),\n",
        "    'Mean Imputed': dfClean['price_euro'].mean(),\n",
        "    'KNN Imputed': df_imputeKNN.iloc[1226,]\n",
        "}, index=['price_euro'])\n",
        "\n",
        "comparison_df"
      ]
    },
    {
      "cell_type": "markdown",
      "metadata": {
        "id": "HxOHQ860skOI"
      },
      "source": [
        " We **should scale your features before using the KNNImputer**. Scaling is important because the K-Nearest Neighbors (KNN) algorithm relies on distance calculations to find the nearest neighbors.\n",
        " If our features are on different scales, features with larger scales can dominate the distance calculations, which may lead to biased imputations"
      ]
    },
    {
      "cell_type": "markdown",
      "metadata": {
        "id": "hmkNJa0ztD-U"
      },
      "source": [
        "Why Scaling Is Important Before KNNImputer\n",
        "Distance-Based Method:\n",
        "\n",
        "- The KNNImputer uses algorithms similar to KNN classifiers or regressors, which calculate the distance between data points.\n",
        "Common distance metrics (like Euclidean distance) are sensitive to the scale of the features.\n",
        "\n",
        "- Feature Influence:Features with larger numeric ranges can disproportionately influence the distance calculation.\n",
        "This can cause the imputer to consider neighbors based more on the larger-scaled features, ignoring smaller-scaled features.\n",
        "Improved Imputation Accuracy:\n",
        "\n",
        "- Scaling ensures that all features contribute equally to the distance computation.\n",
        "Leads to more accurate and reliable imputations."
      ]
    },
    {
      "cell_type": "code",
      "execution_count": null,
      "metadata": {
        "id": "-vZnm0Tss2-E"
      },
      "outputs": [],
      "source": [
        "from sklearn.preprocessing import StandardScaler"
      ]
    },
    {
      "cell_type": "code",
      "execution_count": null,
      "metadata": {
        "id": "SDFYLNTwvEfG"
      },
      "outputs": [],
      "source": [
        "# Assuming df is your DataFrame\n",
        "df_imputeKNN_standard=df.copy()\n",
        "df_imputeKNN_standard = clean_names(df_imputeKNN_standard)\n",
        "\n",
        "# Identify categorical and numerical columns\n",
        "categorical_cols = df_imputeKNN_standard.select_dtypes(include=['object']).columns\n",
        "numeric_cols = df_imputeKNN_standard.select_dtypes(include=[np.number]).columns\n",
        "\n",
        "# Impute categorical columns with SimpleImputer\n",
        "categorical_imputer = SimpleImputer(strategy='most_frequent')\n",
        "df_imputeKNN_standard[categorical_cols] = categorical_imputer.fit_transform(df_imputeKNN_standard[categorical_cols])\n",
        "\n",
        "\n",
        "# Scale numerical columns\n",
        "scaler = StandardScaler()\n",
        "df_imputeKNN_standard[numeric_cols] = scaler.fit_transform(df_imputeKNN_standard[numeric_cols])\n",
        "\n",
        "df_imputeKNN_standard.head()"
      ]
    },
    {
      "cell_type": "markdown",
      "source": [
        "**Robust scaler**\n",
        "\n",
        "*Standard Scaling*: Uses mean and standard deviation.\n",
        "\n",
        "*Robust Scaling*: Uses median and interquartile range."
      ],
      "metadata": {
        "id": "mW8SeuiCAsUz"
      }
    },
    {
      "cell_type": "code",
      "source": [
        "from sklearn.preprocessing import RobustScaler\n",
        "\n",
        "df_imputeKNN_robust=df.copy()\n",
        "\n",
        "df_imputeKNN_robust = clean_names(df_imputeKNN_robust)\n",
        "\n",
        "# Identify categorical and numerical columns\n",
        "categorical_cols = df_imputeKNN_robust.select_dtypes(include=['object']).columns\n",
        "numeric_cols = df_imputeKNN_robust.select_dtypes(include=[np.number]).columns\n",
        "\n",
        "# Impute categorical columns with SimpleImputer\n",
        "categorical_imputer = SimpleImputer(strategy='most_frequent')\n",
        "df_imputeKNN_robust[categorical_cols] = categorical_imputer.fit_transform(df_imputeKNN_robust[categorical_cols])\n",
        "\n",
        "\n",
        "robust_scaler=RobustScaler()\n",
        "\n",
        "df_imputeKNN_robust[numeric_cols] = robust_scaler.fit_transform(df_imputeKNN_robust[numeric_cols])\n",
        "\n",
        "df_imputeKNN_robust.head()"
      ],
      "metadata": {
        "id": "4PB_e3zxBNWO"
      },
      "execution_count": null,
      "outputs": []
    },
    {
      "cell_type": "markdown",
      "source": [
        "**Displaying 2 df side by side**"
      ],
      "metadata": {
        "id": "qK73dBe4CMAe"
      }
    },
    {
      "cell_type": "code",
      "source": [
        "from IPython.display import HTML\n",
        "\n",
        "df1_html = df_imputeKNN_standard[[\"weight_kg\", \"price_euro\"]].head().to_html()\n",
        "df2_html = df_imputeKNN_robust[[\"weight_kg\", \"price_euro\"]].head().to_html()\n",
        "\n",
        "display(HTML(f\"\"\"\n",
        "<div style=\"display: flex; justify-content: space-around;\">\n",
        "    <div>{df1_html}</div>\n",
        "    <div>{df2_html}</div>\n",
        "</div>\n",
        "\"\"\"))\n"
      ],
      "metadata": {
        "id": "1TURfFasCQwH"
      },
      "execution_count": null,
      "outputs": []
    },
    {
      "cell_type": "markdown",
      "source": [
        "### Using KNN on scaled dataframes to fill missing values"
      ],
      "metadata": {
        "id": "EzBIVCUDFtaP"
      }
    },
    {
      "cell_type": "code",
      "source": [
        "import pandas as pd\n",
        "from sklearn.impute import KNNImputer\n",
        "\n",
        "numeric_imputer = KNNImputer(n_neighbors=5)\n",
        "\n",
        "\n",
        "# Inverse transform the scaled numeric columns\n",
        "df_imputeKNN_standard[numeric_cols] = pd.DataFrame(\n",
        "    scaler.inverse_transform(df_imputeKNN_standard[numeric_cols]),\n",
        "    columns=numeric_cols,\n",
        "    index=df_imputeKNN_standard.index\n",
        ")\n",
        "\n",
        "df_imputeKNN_robust[numeric_cols] = pd.DataFrame(\n",
        "    robust_scaler.inverse_transform(df_imputeKNN_robust[numeric_cols]),\n",
        "    columns=numeric_cols,\n",
        "    index=df_imputeKNN_robust.index\n",
        ")\n"
      ],
      "metadata": {
        "id": "5icOv6V4C69f"
      },
      "execution_count": null,
      "outputs": []
    },
    {
      "cell_type": "code",
      "source": [
        "comparison_df = pd.DataFrame({\n",
        "    'Median imputed': dfClean['price_euro'].median(),\n",
        "    'Mean Imputed': dfClean['price_euro'].mean(),\n",
        "    'KNN Imputed without scaling': df_imputeKNN.iloc[1226,],\n",
        "    'KNN Imputed with standard scaling': df_imputeKNN_standard.iloc[1226,],\n",
        "    'KNN Imputed with robust scaling': df_imputeKNN_robust.iloc[1226,]\n",
        "}, index=['price_euro'])\n",
        "\n",
        "comparison_df"
      ],
      "metadata": {
        "id": "x5XvLqd9GqSE"
      },
      "execution_count": null,
      "outputs": []
    },
    {
      "cell_type": "markdown",
      "source": [
        "**In our case we only have a few price_euro missing data, thus the scaling doesnt influence the data distribution!**"
      ],
      "metadata": {
        "id": "xhdYWO0FKjkS"
      }
    },
    {
      "cell_type": "code",
      "source": [
        "\n"
      ],
      "metadata": {
        "id": "B4PXB-0AScdV"
      },
      "execution_count": null,
      "outputs": []
    }
  ],
  "metadata": {
    "colab": {
      "provenance": [],
      "authorship_tag": "ABX9TyPaSDAvN0Erpwlki5DSSv4T",
      "include_colab_link": true
    },
    "kernelspec": {
      "display_name": "Python 3",
      "name": "python3"
    },
    "language_info": {
      "name": "python"
    }
  },
  "nbformat": 4,
  "nbformat_minor": 0
}
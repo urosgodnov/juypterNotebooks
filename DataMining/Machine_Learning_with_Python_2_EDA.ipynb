{
  "cells": [
    {
      "cell_type": "markdown",
      "metadata": {
        "id": "view-in-github",
        "colab_type": "text"
      },
      "source": [
        "<a href=\"https://colab.research.google.com/github/urosgodnov/juypterNotebooks/blob/main/DataMining/Machine_Learning_with_Python_2_EDA.ipynb\" target=\"_parent\"><img src=\"https://colab.research.google.com/assets/colab-badge.svg\" alt=\"Open In Colab\"/></a>"
      ]
    },
    {
      "cell_type": "markdown",
      "metadata": {
        "id": "K028aoI3dM0U"
      },
      "source": [
        "**Using Python to implement machine learning process\n",
        "by dr. Uros Godnov**"
      ]
    },
    {
      "cell_type": "markdown",
      "metadata": {
        "id": "bhH3-abDiNhL"
      },
      "source": [
        "# Data exploration"
      ]
    },
    {
      "cell_type": "code",
      "execution_count": null,
      "metadata": {
        "id": "kfYCyJZRiXfV"
      },
      "outputs": [],
      "source": [
        "import pandas as pd\n",
        "\n",
        "from google.colab import drive\n",
        "import sys\n",
        "# Mount google drive\n",
        "drive.mount('/content/gdrive')\n",
        "# Changing path dirctory\n",
        "sys.path.append('/content/gdrive/MyDrive/Google_Colab_modules')\n",
        "\n",
        "import sweetviz as sv\n",
        "import ydata_profiling as ydp"
      ]
    },
    {
      "cell_type": "code",
      "execution_count": null,
      "metadata": {
        "id": "oB_HDRV6kMN4"
      },
      "outputs": [],
      "source": [
        "df=pd.read_csv(\"https://raw.githubusercontent.com/urosgodnov/datasets/refs/heads/master/laptop_price_with_missing_values.csv\")\n"
      ]
    },
    {
      "cell_type": "code",
      "execution_count": null,
      "metadata": {
        "id": "fCIbHi64ka2j"
      },
      "outputs": [],
      "source": [
        "df.head()"
      ]
    },
    {
      "cell_type": "markdown",
      "metadata": {
        "id": "Oz6euwxZlLPc"
      },
      "source": [
        "**changing pandas behavior**"
      ]
    },
    {
      "cell_type": "code",
      "execution_count": null,
      "metadata": {
        "id": "ENUTFJbnklPN"
      },
      "outputs": [],
      "source": [
        "pd.set_option('display.max_rows', 20)         # Show up to 20 rows\n",
        "pd.set_option('display.max_columns', 10)      # Show up to 10 columns\n",
        "pd.set_option('display.precision', 3)         # Set float precision to 3 decimals\n",
        "pd.set_option('display.max_colwidth', 50)     # Limit column width to 50 characters\n"
      ]
    },
    {
      "cell_type": "markdown",
      "metadata": {
        "id": "nCzok-Fyl9Op"
      },
      "source": [
        "## Basic data overview"
      ]
    },
    {
      "cell_type": "markdown",
      "metadata": {
        "id": "ADVROc6Ata03"
      },
      "source": [
        "**datatable formatter**"
      ]
    },
    {
      "cell_type": "code",
      "execution_count": null,
      "metadata": {
        "id": "8dGT82putFKE"
      },
      "outputs": [],
      "source": [
        "from google.colab import data_table\n",
        "data_table.enable_dataframe_formatter()"
      ]
    },
    {
      "cell_type": "code",
      "execution_count": null,
      "metadata": {
        "id": "GqGMBH5NtTJs"
      },
      "outputs": [],
      "source": [
        "df.head()"
      ]
    },
    {
      "cell_type": "code",
      "execution_count": null,
      "metadata": {
        "id": "GV19h7dFmFpq"
      },
      "outputs": [],
      "source": [
        "df.info()"
      ]
    },
    {
      "cell_type": "code",
      "execution_count": null,
      "metadata": {
        "id": "Xo3NwwlrodzX"
      },
      "outputs": [],
      "source": [
        "## displying data types\n",
        "df.dtypes"
      ]
    },
    {
      "cell_type": "code",
      "execution_count": null,
      "metadata": {
        "id": "xKxwCtKAmDIf"
      },
      "outputs": [],
      "source": [
        "df.describe() # basic descriptive statistics"
      ]
    },
    {
      "cell_type": "code",
      "execution_count": null,
      "metadata": {
        "id": "9TKZ4conmLVQ"
      },
      "outputs": [],
      "source": [
        "# displaying missing values statistics\n",
        "df.isnull().sum()"
      ]
    },
    {
      "cell_type": "code",
      "execution_count": null,
      "metadata": {
        "id": "9lvRamiJmYDH"
      },
      "outputs": [],
      "source": [
        "## displaying skewness\n",
        "df.select_dtypes(include=\"number\").skew()"
      ]
    },
    {
      "cell_type": "code",
      "execution_count": null,
      "metadata": {
        "id": "G65MTvkHoOg3"
      },
      "outputs": [],
      "source": [
        "## displying frequencies\n",
        "df['Company'].value_counts()"
      ]
    },
    {
      "cell_type": "code",
      "execution_count": null,
      "metadata": {
        "id": "3TjQ8mkPpRlH"
      },
      "outputs": [],
      "source": [
        "# displying histograms\n",
        "df.hist(figsize=(15,10))"
      ]
    },
    {
      "cell_type": "markdown",
      "source": [
        "### Datetime with pandas"
      ],
      "metadata": {
        "id": "8ccKGHDMi6QD"
      }
    },
    {
      "cell_type": "markdown",
      "source": [
        "![image.png](data:image/png;base64,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)"
      ],
      "metadata": {
        "id": "hYEvPYQni9ge"
      }
    },
    {
      "cell_type": "code",
      "source": [
        "import pandas as pd\n",
        "\n",
        "# Your DataFrame\n",
        "data = {\n",
        "    'Full Name': ['Alice Smith', 'Bob Johnson', 'Charlie Brown', 'David Wilson', 'Eve Adams'],\n",
        "    'Department': ['HR', 'IT', 'Finance', 'IT', 'Marketing'],\n",
        "    'Start Date': ['2020-01-15', '2019-06-01', '2021-03-20', '2018-12-11', '2022-07-15'],\n",
        "    'End Date': ['1/10/2022', '6/15/2023', '10/1/2022', '12/31/2021', '8/1/2023'],\n",
        "    'Employee ID': ['E123', 'E456', 'E789', 'E012', 'E345'],\n",
        "    'Email': ['alice.smith@company.com', 'bob.johnson@company.com', 'charlie.brown@company.com', 'david.wilson@company.com', 'eve.adams@company.com']\n",
        "}\n",
        "\n",
        "string_datetime_df = pd.DataFrame(data)\n",
        "\n",
        "# Convert 'Start Date' to datetime\n",
        "string_datetime_df['Start Date'] = pd.to_datetime(string_datetime_df['Start Date'])\n",
        "\n",
        "# Access the dt accessor and list its methods\n",
        "methods = [method for method in dir(string_datetime_df['Start Date'].dt) if not method.startswith('_')]\n",
        "list(methods)"
      ],
      "metadata": {
        "id": "h3GUF_hZjL5i"
      },
      "execution_count": null,
      "outputs": []
    },
    {
      "cell_type": "code",
      "source": [
        "# Parsing string to datetime\n",
        "# pd.to_datetime() with errors='coerce' tries to understand each date. If it can, it puts the date on a calendar. If it can't,\n",
        "# it throws the unreadable date into a separate \"invalid\" pile (NaT)\n",
        "string_datetime_df['End Date'] = pd.to_datetime(string_datetime_df['End Date'], errors='coerce')\n",
        "\n",
        "string_datetime_df"
      ],
      "metadata": {
        "id": "cKN47JRmnNju"
      },
      "execution_count": null,
      "outputs": []
    },
    {
      "cell_type": "code",
      "source": [
        "# Extract year, month, and day from 'Start Date'\n",
        "string_datetime_df['Start Year'] = string_datetime_df['Start Date'].dt.year\n",
        "string_datetime_df['Start Month'] = string_datetime_df['Start Date'].dt.month\n",
        "string_datetime_df['Start Day'] = string_datetime_df['Start Date'].dt.day\n",
        "\n",
        "string_datetime_df"
      ],
      "metadata": {
        "id": "0msVdpKKkIFN"
      },
      "execution_count": null,
      "outputs": []
    },
    {
      "cell_type": "code",
      "source": [
        "# Add a column for the day of the week as a string\n",
        "string_datetime_df['Day of Week'] = string_datetime_df['Start Date'].dt.day_name()\n",
        "\n",
        "string_datetime_df\n"
      ],
      "metadata": {
        "id": "Tv5iwNuLkrrV"
      },
      "execution_count": null,
      "outputs": []
    },
    {
      "cell_type": "code",
      "source": [
        "# Calculate days since start\n",
        "string_datetime_df['Days Since Start'] = (pd.Timestamp('today') - string_datetime_df['Start Date']).dt.days\n",
        "\n",
        "string_datetime_df"
      ],
      "metadata": {
        "id": "KZEpAi1Vk-au"
      },
      "execution_count": null,
      "outputs": []
    },
    {
      "cell_type": "code",
      "source": [
        "# Create a column indicating if 'Start Date' was on a weekend\n",
        "# day of the week as integers (Monday=0, Sunday=6)\n",
        "\n",
        "string_datetime_df['Started on Weekend'] = string_datetime_df['Start Date'].dt.dayofweek >= 5\n",
        "\n",
        "string_datetime_df"
      ],
      "metadata": {
        "id": "-xTfNdYylD3F"
      },
      "execution_count": null,
      "outputs": []
    },
    {
      "cell_type": "code",
      "source": [
        "# Format 'Start Date' as 'Month-Year'\n",
        "string_datetime_df['Start Month-Year'] = string_datetime_df['Start Date'].dt.strftime('%B-%Y')\n",
        "\n",
        "string_datetime_df"
      ],
      "metadata": {
        "id": "_zoVXzXKl47a"
      },
      "execution_count": null,
      "outputs": []
    },
    {
      "cell_type": "code",
      "source": [
        "# Add a column for months since start\n",
        "string_datetime_df['Months Since Start'] = ((pd.Timestamp('today').year - string_datetime_df['Start Date'].dt.year) * 12 +\n",
        "                                            (pd.Timestamp('today').month - string_datetime_df['Start Date'].dt.month))\n",
        "\n",
        "string_datetime_df"
      ],
      "metadata": {
        "id": "fzF4aawsmWcm"
      },
      "execution_count": null,
      "outputs": []
    },
    {
      "cell_type": "code",
      "source": [
        "# Calculate months between 'Start Date' and 'End Date' using a UDF\n",
        "from dateutil.relativedelta import relativedelta\n",
        "def calculate_months_between_dates(row):\n",
        "    delta = relativedelta(row['End Date'], row['Start Date'])\n",
        "    #print(vars(delta))\n",
        "    return delta.years * 12 + delta.months\n",
        "\n",
        "string_datetime_df['Months Between Start and End'] = string_datetime_df.apply(calculate_months_between_dates, axis=1)\n",
        "\n",
        "string_datetime_df"
      ],
      "metadata": {
        "id": "mep6bVcaoF1b"
      },
      "execution_count": null,
      "outputs": []
    },
    {
      "cell_type": "code",
      "source": [
        "# Additional Example: Handling Time Intervals\n",
        "time_data = {\n",
        "    'Event': ['Login', 'Logout', 'Break', 'Meeting', 'Presentation'],\n",
        "    'Timestamp': ['2023-09-21 08:15:00', '2023-09-21 10:45:00', '2023-09-21 11:05:00', '2023-09-21 14:20:00', '2023-09-21 16:50:00']\n",
        "}\n",
        "\n",
        "# Create a new DataFrame with datetime data\n",
        "time_df = pd.DataFrame(time_data)\n",
        "time_df['Timestamp'] = pd.to_datetime(time_df['Timestamp'])\n",
        "\n",
        "time_df"
      ],
      "metadata": {
        "id": "dPyzRLUu6GRf"
      },
      "execution_count": null,
      "outputs": []
    },
    {
      "cell_type": "code",
      "source": [
        "# Create a column for time intervals (2-hour bins)\n",
        "# The hour // 2 performs integer division by 2, grouping hours into blocks of 2 (e.g., 0–1, 2–3, 4–5)\n",
        "# Multiplying by 2 gives the start of the interval. For example:\n",
        "# If hour = 13, then 13 // 2 = 6, and 6 * 2 = 12. So, interval_start = 12.\n",
        "# The :02d ensures the hour is zero-padded to two digits (e.g., 08 instead of 8)\n",
        "\n",
        "def assign_time_interval(timestamp):\n",
        "    hour = timestamp.hour\n",
        "    interval_start = (hour // 2) * 2  # Start of the interval\n",
        "    interval_end = interval_start + 2  # End of the interval\n",
        "    return f\"{interval_start:02d}:00 - {interval_end:02d}:00\"\n",
        "\n",
        "time_df['Time Interval'] = time_df['Timestamp'].apply(assign_time_interval)\n",
        "\n",
        "time_df"
      ],
      "metadata": {
        "id": "ISHCe7oM6Oh1"
      },
      "execution_count": null,
      "outputs": []
    },
    {
      "cell_type": "code",
      "source": [
        "# problems with different local settings, e.g. German month names\n",
        "# changing locale on google colab is not straightforward\n",
        "# MAC: en_US.UTF-8, de_DE.UTF-8; windows: deu\n"
      ],
      "metadata": {
        "id": "vmJcKyxO9Qf-"
      },
      "execution_count": null,
      "outputs": []
    },
    {
      "cell_type": "markdown",
      "source": [
        "### Task"
      ],
      "metadata": {
        "id": "MHsZR-S6BzJj"
      }
    },
    {
      "cell_type": "code",
      "source": [
        "# Load parquet file from nycTaxi for July, 2024\n",
        "# Analyze which combination of days (weekday name) and hour intervals (by 2 hours)\n",
        "# has the highest frequency\n",
        "\n",
        "nyc_taxi_parquet = pd.read_parquet('https://d37ci6vzurychx.cloudfront.net/trip-data/yellow_tripdata_2024-07.parquet')\n",
        "nyc_taxi_parquet.head()"
      ],
      "metadata": {
        "id": "hKnvD26WB4by"
      },
      "execution_count": null,
      "outputs": []
    },
    {
      "cell_type": "markdown",
      "source": [
        "### Solution"
      ],
      "metadata": {
        "id": "EVrsdxdQCnr2"
      }
    },
    {
      "cell_type": "code",
      "source": [
        "def assign_time_interval(timestamp):\n",
        "    hour = timestamp.hour\n",
        "    interval_start = (hour // 2) * 2  # Start of the interval\n",
        "    interval_end = interval_start + 2  # End of the interval\n",
        "    return f\"{interval_start:02d}:00 - {interval_end:02d}:00\"\n",
        "\n",
        "nyc_taxi_parquet['time_interval'] = nyc_taxi_parquet['tpep_pickup_datetime'].apply(assign_time_interval)\n",
        "nyc_taxi_parquet['weekday_name'] = nyc_taxi_parquet['tpep_pickup_datetime'].dt.day_name()"
      ],
      "metadata": {
        "id": "CEyqxAXFCqBd"
      },
      "execution_count": null,
      "outputs": []
    },
    {
      "cell_type": "code",
      "source": [
        "nyc_taxi_parquet[[\"weekday_name\",\"time_interval\"]].head()"
      ],
      "metadata": {
        "id": "qkZgrjgYDR7y"
      },
      "execution_count": null,
      "outputs": []
    },
    {
      "cell_type": "code",
      "source": [
        "nyc_taxi_parquet.groupby([\"weekday_name\",\"time_interval\"]). \\\n",
        "size().reset_index(name=\"count\").sort_values(\"count\", ascending=False).head()"
      ],
      "metadata": {
        "id": "iCSed4aADdT2"
      },
      "execution_count": null,
      "outputs": []
    },
    {
      "cell_type": "markdown",
      "source": [
        "### String manipulation with pandas"
      ],
      "metadata": {
        "id": "LXbtNpalFMFW"
      }
    },
    {
      "cell_type": "code",
      "source": [
        "data = {\n",
        "    'Full Name': ['Alice Smith', 'Bob Johnson', 'Charlie Brown', 'David Wilson', 'Eve Adams'],\n",
        "    'Department': ['HR', 'IT', 'Finance', 'IT', 'Marketing'],\n",
        "    'Start Date': ['2020-01-15', '2019-06-01', '2021-03-20', '2018-12-11', '2022-07-15'],\n",
        "    'End Date': ['1/10/2022', '6/15/2023', '10/1/2022', '12/31/2021', '8/1/2023'],\n",
        "    'Employee ID': ['E123', 'E456', 'E789', 'E012', 'E345'],\n",
        "    'Email': ['alice.smith@company.com', 'bob.johnson@company.com', 'charlie.brown@company.com', 'david.wilson@company.com', 'eve.adams@company.com']\n",
        "}\n",
        "\n",
        "# Create the DataFrame\n",
        "string_datetime_df = pd.DataFrame(data)"
      ],
      "metadata": {
        "id": "21IxJx8mFP_T"
      },
      "execution_count": null,
      "outputs": []
    },
    {
      "cell_type": "code",
      "source": [
        "# Split 'Full Name' into 'First Name' and 'Last Name'\n",
        "\n",
        "string_datetime_df[['First Name', 'Last Name']] = string_datetime_df['Full Name'].str.split(' ', expand=True)\n",
        "\n",
        "string_datetime_df"
      ],
      "metadata": {
        "id": "sizZ5H6ZFfFg"
      },
      "execution_count": null,
      "outputs": []
    },
    {
      "cell_type": "code",
      "source": [
        "data1 = {\n",
        "    \"Full Name\": [\"John Doe\", \"Jane A. Smith\", \"Bob Johnson\"],\n",
        "    \"Age\": [28, 34, 45],\n",
        "}\n",
        "\n",
        "df = pd.DataFrame(data1)\n",
        "\n",
        "split_df = df[\"Full Name\"].str.split(\" \", expand=True)\n",
        "print(split_df)"
      ],
      "metadata": {
        "id": "0W8SBBWOF_HQ"
      },
      "execution_count": null,
      "outputs": []
    },
    {
      "cell_type": "code",
      "source": [
        "# First name to upper, Lastname to lower\n",
        "string_datetime_df['Upper First Name'] = string_datetime_df['First Name'].str.upper()\n",
        "string_datetime_df['Lower Last Name'] = string_datetime_df['Last Name'].str.lower()\n",
        "\n",
        "string_datetime_df"
      ],
      "metadata": {
        "id": "v23gwiyeHEIC"
      },
      "execution_count": null,
      "outputs": []
    },
    {
      "cell_type": "code",
      "source": [
        "# Extract domain names from 'Email'\n",
        "\n",
        "string_datetime_df['Email Domain'] = string_datetime_df['Email'].str.split('@').str[1]\n",
        "\n",
        "string_datetime_df"
      ],
      "metadata": {
        "id": "D4m-q0-3GFtK"
      },
      "execution_count": null,
      "outputs": []
    },
    {
      "cell_type": "code",
      "source": [
        "# Check if 'Email' contains 'company.com'\n",
        "string_datetime_df['Is Company Email'] = string_datetime_df['Email'].str.contains('company.com')\n",
        "\n",
        "string_datetime_df"
      ],
      "metadata": {
        "id": "G6JJzupgGTDi"
      },
      "execution_count": null,
      "outputs": []
    },
    {
      "cell_type": "code",
      "source": [
        "# Extract numeric part of 'Employee ID'\n",
        "# regular expressions\n",
        "string_datetime_df['Employee Number'] = string_datetime_df['Employee ID'].str.extract('(\\d+)')\n",
        "\n",
        "string_datetime_df"
      ],
      "metadata": {
        "id": "ZUhp-oYJGZRT"
      },
      "execution_count": null,
      "outputs": []
    },
    {
      "cell_type": "code",
      "source": [
        "# Replace spaces in 'Full Name' with underscores\n",
        "string_datetime_df['Full Name Underscore'] = string_datetime_df['Full Name'].str.replace(' ', '_', regex=False)\n",
        "\n",
        "string_datetime_df"
      ],
      "metadata": {
        "id": "USYkYoOjGqgp"
      },
      "execution_count": null,
      "outputs": []
    },
    {
      "cell_type": "markdown",
      "source": [
        "**Regular expressions (advanced)**\n",
        "\n",
        "- String Accessor (.str):\n",
        "\n",
        "In Pandas, string methods are accessed via the .str accessor on a Series or column.\n",
        "\n",
        "- Regex Parameter:\n",
        "\n",
        "Many string methods (e.g., .replace, .contains, .split, .extract) accept a regex=True/False parameter (often defaulting to True).\n",
        "\n",
        "- Common Methods:\n",
        "\n",
        "  - str.contains(): Check if a pattern is contained within each string.\n",
        "  - str.replace(): Replace substrings that match a pattern.\n",
        "  - str.split(): Split each string by a pattern.\n",
        "  - str.extract() / str.extractall(): Capture groups from each string using a regex.\n",
        "  - str.match(), str.fullmatch(), str.findall(): Various ways to match or find patterns.\n",
        "\n",
        "- Capture Groups:\n",
        "\n",
        "Parentheses ( ... ) define capture groups in your regex. str.extract() returns these groups as new columns.\n",
        "\n",
        "- Flags:\n",
        "\n",
        "You can pass regex flags like re.IGNORECASE (or re.I) by specifying the flags= parameter, making your search case-insensitive, etc.\n",
        "\n",
        "- Performance:\n",
        "\n",
        "Regex can be slower with very large Series. For performance-critical tasks, try to optimize or avoid overly complex patterns.\n"
      ],
      "metadata": {
        "id": "JzJT2TplHV--"
      }
    },
    {
      "cell_type": "code",
      "source": [
        "import re\n",
        "\n",
        "df = pd.DataFrame({\n",
        "    \"text\": [\n",
        "        \"Hello World!\",\n",
        "        \"Email me at example123@test.com\",\n",
        "        \"Numbers: 12345, 6789, and 42.\",\n",
        "        \"No digits here\",\n",
        "        \"MixedCaseString\",\n",
        "        \"Line with 2    spaces\",\n",
        "        \"Another line with tabs\\tand spaces\",\n",
        "        \"The price is $49.99\",\n",
        "        \"Visit https://docs.python.org\",\n",
        "        None  # Missing value\n",
        "    ]\n",
        "})\n",
        "\n",
        "df"
      ],
      "metadata": {
        "id": "gu8dqi82TvPU"
      },
      "execution_count": null,
      "outputs": []
    },
    {
      "cell_type": "code",
      "source": [
        "# Pattern: Any sequence of digits (\\d+)\n",
        "df[\"has_digits\"] = df[\"text\"].str.contains(r\"\\d+\", regex=True)\n",
        "\n",
        "df"
      ],
      "metadata": {
        "id": "ZTKZGhtiU9RV"
      },
      "execution_count": null,
      "outputs": []
    },
    {
      "cell_type": "code",
      "source": [
        "# Pattern: The string should start with \"Hello\"\n",
        "df[\"starts_with_hello\"] = df[\"text\"].str.match(r\"^Hello\")\n",
        "\n",
        "df"
      ],
      "metadata": {
        "id": "_yYqGb9RWJxP"
      },
      "execution_count": null,
      "outputs": []
    },
    {
      "cell_type": "code",
      "source": [
        "# Pattern: Only digits for the entire string\n",
        "df[\"entirely_digits\"] = df[\"text\"].str.fullmatch(r\"\\d+\")\n",
        "\n",
        "df"
      ],
      "metadata": {
        "id": "gKXWvYvYWLXx"
      },
      "execution_count": null,
      "outputs": []
    },
    {
      "cell_type": "code",
      "source": [
        "# Pattern: Remove all digits\n",
        "df[\"no_digits\"] = df[\"text\"].str.replace(r\"\\d+\", \"\", regex=True)\n",
        "\n",
        "df"
      ],
      "metadata": {
        "id": "1Az7QJd-WUn6"
      },
      "execution_count": null,
      "outputs": []
    },
    {
      "cell_type": "code",
      "source": [
        "# Split on any sequence of whitespace\n",
        "split_df = df[\"text\"].str.split(r\"\\s+\", expand=True)\n",
        "\n",
        "split_df"
      ],
      "metadata": {
        "id": "bENtGJm-WaNH"
      },
      "execution_count": null,
      "outputs": []
    },
    {
      "cell_type": "code",
      "source": [
        "# Pattern: all digit sequences\n",
        "df[\"all_numbers\"] = df[\"text\"].str.findall(r\"\\d+\")\n",
        "\n",
        "df"
      ],
      "metadata": {
        "id": "Lf_bKKWSWhNu"
      },
      "execution_count": null,
      "outputs": []
    },
    {
      "cell_type": "code",
      "source": [
        "# Pattern: All digit groups, capturing each sequence\n",
        "extracted = df[\"text\"].str.extractall(r\"(\\d+)\")\n",
        "\n",
        "extracted"
      ],
      "metadata": {
        "id": "tDpLccoQWuFv"
      },
      "execution_count": null,
      "outputs": []
    },
    {
      "cell_type": "code",
      "source": [
        "# Pattern: Count how many digits in each string\n",
        "df[\"digit_count\"] = df[\"text\"].str.count(r\"\\d\")\n",
        "\n",
        "df"
      ],
      "metadata": {
        "id": "GExucp8uYJKG"
      },
      "execution_count": null,
      "outputs": []
    },
    {
      "cell_type": "code",
      "source": [
        "df[\"contains_hello_case_insensitive\"] = df[\"text\"].str.contains(\n",
        "    r\"hello\",\n",
        "    flags=re.IGNORECASE,\n",
        "    regex=True\n",
        ")\n",
        "\n",
        "df"
      ],
      "metadata": {
        "id": "jOdzNxJrYdnF"
      },
      "execution_count": null,
      "outputs": []
    },
    {
      "cell_type": "code",
      "source": [
        "# Check if string ends with \".org\" using a regex pattern with contains\n",
        "df[\"ends_with_org\"] = df[\"text\"].str.contains(r\"\\.org$\", regex=True)\n",
        "\n",
        "df"
      ],
      "metadata": {
        "id": "KjXYAPHrYvJ2"
      },
      "execution_count": null,
      "outputs": []
    },
    {
      "cell_type": "markdown",
      "source": [
        "### Task"
      ],
      "metadata": {
        "id": "dq6mIv3aZfWY"
      }
    },
    {
      "cell_type": "code",
      "source": [
        "# Step 1: Create a sample DataFrame\n",
        "df = pd.DataFrame({\n",
        "    \"full_name\": [\n",
        "        \"John Doe\",\n",
        "        \"Jane A. Smith\",\n",
        "        \"   Bob  Johnson   \",  # extra spaces\n",
        "        \"Maria  de la Cruz\",\n",
        "        \"Tricky   Name   Test\"\n",
        "    ],\n",
        "    \"email\": [\n",
        "        \"john.doe@example.com\",\n",
        "        \"jane.smith@@some-domain.org\",  # double '@'\n",
        "        \"bob.johnson@mail.com\",\n",
        "        \"maria_cruz@example.es\",\n",
        "        None  # missing email\n",
        "    ],\n",
        "    \"phone\": [\n",
        "        \"+1(555)123-4567\",\n",
        "        \"555-abc-7890\",\n",
        "        \"(123) 456 7890 ext. 12\",\n",
        "        \"5551234567\",\n",
        "        \"???\"\n",
        "    ],\n",
        "    \"message\": [\n",
        "        \"OrderID: #12345. Looking for new shoes.\",\n",
        "        \"Hello, I'm interested in the summer sale. Order #6789.\",\n",
        "        \"Need a refund on order #42. Product code: X-123-XY.\",\n",
        "        \"Hola, about my last order #00123 and code: Y-99.\",\n",
        "        \"No order here. Product code: Z-999-XX. Another code: A-1234-BB. #44444\"\n",
        "    ]\n",
        "})\n",
        "\n",
        "df\n",
        "\n",
        "# Remove leading/trailing spaces and collapse multiple spaces into a single space. (str.strip())\n",
        "# Split the cleaned name into up to three parts:\n",
        "# - first_name\n",
        "# - middle_name (optional)\n",
        "# - last_name (if there are more than two parts, lump everything after the second split into last_name)\n",
        "# Normalize phone Numbers:\n",
        "#  - Extract a clean numeric version of the phone number in phone_clean (e.g., \"15551234567\").\n",
        "#  - Remove parentheses, dashes, letters, spaces, etc. Possibly keep a leading + if relevant.\n",
        "#  - Mark numbers that have fewer than 10 digits (after cleaning) as invalid in a new column phone_valid (ge).\n",
        "# Extract Order IDs & Product Codes from message:\n",
        "#  - Order IDs appear as #12345, #42, #00123, etc. Extract all occurrences from each message. Store them in a list in a column named order_ids.\n",
        "#  - You can use df[\"message\"].str.findall(...) with a pattern like r\"#(\\d+)\"."
      ],
      "metadata": {
        "id": "JxSa6BF_Zg_z"
      },
      "execution_count": null,
      "outputs": []
    },
    {
      "cell_type": "markdown",
      "source": [
        "### Solution"
      ],
      "metadata": {
        "id": "JonL5qbiavEc"
      }
    },
    {
      "cell_type": "code",
      "source": [
        "# 1) Remove leading/trailing spaces\n",
        "df[\"full_name_clean\"] = df[\"full_name\"].str.strip()\n",
        "\n",
        "# 2) Collapse multiple spaces to one\n",
        "df[\"full_name_clean\"] = df[\"full_name_clean\"].str.replace(r\"\\s+\", \" \", regex=True)\n",
        "\n",
        "# 3) Split into up to three parts\n",
        "names_split = df[\"full_name_clean\"].str.split(\" \", n=2, expand=True)\n",
        "df[\"first_name\"] = names_split[0]\n",
        "df[\"middle_name\"] = names_split[1]\n",
        "df[\"last_name\"] = names_split[2]\n",
        "\n",
        "# Keep digits and optionally a leading '+'\n",
        "df[\"phone_clean\"] = df[\"phone\"].str.replace(r\"[^\\d+]\", \"\", regex=True)\n",
        "\n",
        "# Check length (e.g., must be >= 10 digits)\n",
        "df[\"phone_valid\"] = df[\"phone_clean\"].str.len().ge(10)\n",
        "\n",
        "# Order IDs\n",
        "df[\"order_ids\"] = df[\"message\"].str.findall(r\"#(\\d+)\")\n",
        "\n",
        "# Product Codes (simple pattern)\n",
        "df[\"product_codes\"] = df[\"message\"].str.findall(r\"[A-Za-z]-\\d+-[A-Za-z]+\")"
      ],
      "metadata": {
        "id": "Bp5bIJ-qaw3g"
      },
      "execution_count": null,
      "outputs": []
    },
    {
      "cell_type": "markdown",
      "metadata": {
        "id": "pSeeU-PSryUq"
      },
      "source": [
        "## Automatic data exploration"
      ]
    },
    {
      "cell_type": "markdown",
      "metadata": {
        "id": "fPJ_c6wQr_mg"
      },
      "source": [
        "- ydata_profiling (pandas_profiling)\n",
        "- sweetviz"
      ]
    },
    {
      "cell_type": "code",
      "execution_count": null,
      "metadata": {
        "id": "EFY2A4smrlWy"
      },
      "outputs": [],
      "source": [
        "ydp.ProfileReport(df)"
      ]
    },
    {
      "cell_type": "code",
      "execution_count": null,
      "metadata": {
        "id": "BryfPmknuvrD"
      },
      "outputs": [],
      "source": [
        "import sweetviz as sv"
      ]
    },
    {
      "cell_type": "code",
      "execution_count": null,
      "metadata": {
        "id": "rV9S42TvuxqS"
      },
      "outputs": [],
      "source": [
        "# report = sv.analyze(df)"
      ]
    },
    {
      "cell_type": "code",
      "execution_count": null,
      "metadata": {
        "id": "I4EkVh7CvJEl"
      },
      "outputs": [],
      "source": [
        "# report.show_html()"
      ]
    },
    {
      "cell_type": "code",
      "execution_count": null,
      "metadata": {
        "id": "-wqbhoNVv6FL"
      },
      "outputs": [],
      "source": [
        "# targeting dependent variable\n",
        "# report = sv.analyze(df, target_feat='Price (Euro)')\n",
        "# report.show_html()"
      ]
    },
    {
      "cell_type": "code",
      "execution_count": null,
      "metadata": {
        "id": "k6Y4wUIMwd75"
      },
      "outputs": [],
      "source": [
        "# problem with missing values\n",
        "# for the demo, remove missing values from dependent variable\n",
        "df_droped=df.dropna(subset=['Price (Euro)'])\n",
        "report = sv.analyze(df, target_feat='Price (Euro)')\n",
        "report.show_html()"
      ]
    },
    {
      "cell_type": "markdown",
      "metadata": {
        "id": "PVyxTXhUAjdI"
      },
      "source": [
        "# Missing data strategies"
      ]
    },
    {
      "cell_type": "markdown",
      "metadata": {
        "id": "ii67JfN2A66A"
      },
      "source": [
        "Remove missing data:\n",
        "- Use dropna() to remove rows or columns with missing values.\n",
        "- Fill missing data: Use fillna() to fill missing values with a specific value or a calculated statistic like mean or median.\n",
        "- Interpolation: For numerical data, use interpolate() to estimate missing values."
      ]
    },
    {
      "cell_type": "markdown",
      "metadata": {
        "id": "JyzC0gnmBGKt"
      },
      "source": [
        "## Removing missing values"
      ]
    },
    {
      "cell_type": "code",
      "execution_count": null,
      "metadata": {
        "id": "clQuxUUVBJiA"
      },
      "outputs": [],
      "source": [
        "missing_percentage = (len(df) - df.count()) / len(df) * 100\n",
        "\n",
        "# Sort the missing percentages in descending order (most missing values first)\n",
        "sorted_missing_percentage = missing_percentage.sort_values(ascending=False)\n",
        "\n",
        "sorted_missing_percentage"
      ]
    },
    {
      "cell_type": "code",
      "execution_count": null,
      "metadata": {
        "id": "sd0Or0CUDG35"
      },
      "outputs": [],
      "source": [
        "df_droped = df.dropna()\n",
        "\n",
        "missing_percentage = (len(df_droped) - df_droped.count()) / len(df_droped) * 100\n",
        "\n",
        "# Sort the missing percentages in descending order (most missing values first)\n",
        "sorted_missing_percentage = missing_percentage.sort_values(ascending=False)\n",
        "\n",
        "sorted_missing_percentage"
      ]
    },
    {
      "cell_type": "markdown",
      "metadata": {
        "id": "HoCt7v2qC8Fv"
      },
      "source": [
        "**But we cannot just remove missing data, if there is a pattern. We should check if data is Missing Completly At Random (MCAR Little test).**"
      ]
    },
    {
      "cell_type": "code",
      "execution_count": null,
      "metadata": {
        "id": "SDGJcnYoDdo2"
      },
      "outputs": [],
      "source": [
        "import numpy as np\n",
        "import pandas as pd\n",
        "from scipy import stats\n",
        "\n",
        "def test_mcar(data):\n",
        "    # Remove rows where all values are missing\n",
        "    data = data.dropna(how='all')\n",
        "\n",
        "    # Get the number of rows and columns in the data\n",
        "    n, p = data.shape\n",
        "\n",
        "    # Create a missing data indicator matrix\n",
        "    missing_data = data.isnull().astype(int)\n",
        "\n",
        "    # Mean of the missing data indicators for each variable\n",
        "    missing_mean = missing_data.mean(axis=0)\n",
        "\n",
        "    # Overall mean of the missing data indicators\n",
        "    overall_mean = missing_data.mean().mean()\n",
        "\n",
        "    # Compute expected value of missing data indicators for each row\n",
        "    row_means = missing_data.mean(axis=1)\n",
        "\n",
        "    # Compute the statistic for the test\n",
        "    chi_squared = ((row_means - overall_mean) ** 2).sum() * (n * p / (p * overall_mean * (1 - overall_mean)))\n",
        "\n",
        "    # Compute degrees of freedom\n",
        "    degrees_of_freedom = (n - 1) * (p - 1)\n",
        "\n",
        "    # Compute the p-value for the test\n",
        "    p_value = 1 - stats.chi2.cdf(chi_squared, degrees_of_freedom)\n",
        "\n",
        "    return chi_squared, p_value"
      ]
    },
    {
      "cell_type": "markdown",
      "metadata": {
        "id": "dqQucIPPFAVy"
      },
      "source": [
        " If the p-value is large, it suggests the missing data might be MCAR, whereas **a small p-value** suggests the missingness may **depend** on observed or unobserved data."
      ]
    },
    {
      "cell_type": "code",
      "execution_count": null,
      "metadata": {
        "id": "UG_Ln5WyDgeq"
      },
      "outputs": [],
      "source": [
        "print(f\"The p value of test is {test_mcar(df)[1]}, which means data is not missing completly at random. We must impute data.\")"
      ]
    },
    {
      "cell_type": "markdown",
      "metadata": {
        "id": "kCxnhk6ZFXWv"
      },
      "source": [
        "## Fill missing values"
      ]
    },
    {
      "cell_type": "markdown",
      "metadata": {
        "id": "anIz07WoFi7m"
      },
      "source": [
        "For the data manipulation to be simpler, we should change the columns' name to simpler format. Currently the pyjanitor module doesnt work in Google Colab due to chain dependency issues!"
      ]
    },
    {
      "cell_type": "code",
      "execution_count": null,
      "metadata": {
        "id": "1TlAi-jSFn-l"
      },
      "outputs": [],
      "source": [
        "import re\n",
        "\n",
        "def clean_names(df):\n",
        "    # Function to clean individual column names\n",
        "    def clean_column_name(name):\n",
        "        name = name.strip()  # Remove leading and trailing spaces\n",
        "        name = name.lower()  # Convert to lowercase\n",
        "        name = re.sub(r'[^\\w\\s]', '', name)  # Remove special characters except for underscores and alphanumeric\n",
        "        name = re.sub(r'\\s+', '_', name)  # Replace spaces with underscores\n",
        "        return name\n",
        "\n",
        "    # Apply the cleaning function to all column names\n",
        "    df.columns = [clean_column_name(col) for col in df.columns]\n",
        "    return df\n"
      ]
    },
    {
      "cell_type": "code",
      "execution_count": null,
      "metadata": {
        "id": "XQoQl6LtGiJE"
      },
      "outputs": [],
      "source": [
        "df.columns"
      ]
    },
    {
      "cell_type": "code",
      "execution_count": null,
      "metadata": {
        "id": "6cRznAiSGjwy"
      },
      "outputs": [],
      "source": [
        "dfClean_names=clean_names(df)\n",
        "dfClean_names.columns"
      ]
    },
    {
      "cell_type": "code",
      "execution_count": null,
      "metadata": {
        "id": "8eu4tQzTLxdR"
      },
      "outputs": [],
      "source": [
        "missing_count = dfClean_names.isnull().sum()\n",
        "\n",
        "# Filter for columns with missing values\n",
        "missing_columns = missing_count[missing_count > 0]\n",
        "missing_columns"
      ]
    },
    {
      "cell_type": "markdown",
      "metadata": {
        "id": "72CJEjtnL69L"
      },
      "source": [
        "### Imputation with mean, median and mode"
      ]
    },
    {
      "cell_type": "code",
      "execution_count": null,
      "metadata": {
        "id": "ZgTSYzgVMAas"
      },
      "outputs": [],
      "source": [
        "dfClean_names['price_euro'].hist()"
      ]
    },
    {
      "cell_type": "code",
      "execution_count": null,
      "metadata": {
        "id": "DCMSFLssMJMn"
      },
      "outputs": [],
      "source": [
        "dfClean_names[dfClean_names['price_euro'].isna()]\n"
      ]
    },
    {
      "cell_type": "code",
      "execution_count": null,
      "metadata": {
        "id": "ph_9QBkeNe3s"
      },
      "outputs": [],
      "source": [
        "dfClean_names['price_euro']=dfClean_names['price_euro'].fillna(dfClean_names['price_euro'].median())\n",
        "dfClean_names[dfClean_names['price_euro'].isna()]"
      ]
    },
    {
      "cell_type": "markdown",
      "metadata": {
        "id": "EtW45MNHOp5F"
      },
      "source": [
        "**Imputation with mode for categorical columns**"
      ]
    },
    {
      "cell_type": "markdown",
      "metadata": {
        "id": "BLbJnW_mOveT"
      },
      "source": [
        "We replace missing values for nominal values with mode (most frequent value)"
      ]
    },
    {
      "cell_type": "code",
      "execution_count": null,
      "metadata": {
        "id": "rH_N5O91OqoM"
      },
      "outputs": [],
      "source": [
        "def fill_missing_with_mode(df):\n",
        "    # Iterate over columns in the DataFrame\n",
        "    for col in df.select_dtypes(include=['object', 'category']).columns:\n",
        "        if df[col].isnull().any():  # Check if the column has missing values\n",
        "            mode_value = df[col].mode()[0]  # Get the most frequent value (mode)\n",
        "            df[col]=df[col].fillna(mode_value)  # Replace NaN with mode value\n",
        "    return df"
      ]
    },
    {
      "cell_type": "code",
      "execution_count": null,
      "metadata": {
        "id": "CawNEBgLO6m1"
      },
      "outputs": [],
      "source": [
        "dfClean = fill_missing_with_mode(dfClean_names)"
      ]
    },
    {
      "cell_type": "markdown",
      "metadata": {
        "id": "O0p2J0jfPTBl"
      },
      "source": [
        "**Original values**"
      ]
    },
    {
      "cell_type": "code",
      "execution_count": null,
      "metadata": {
        "id": "2hSNaXryZUe_"
      },
      "outputs": [],
      "source": [
        "df=pd.read_csv(\"https://raw.githubusercontent.com/urosgodnov/datasets/refs/heads/master/laptop_price_with_missing_values.csv\")\n",
        "df=clean_names(df)\n",
        "\n",
        "df[df.isnull().any(axis=1)].head()"
      ]
    },
    {
      "cell_type": "code",
      "execution_count": null,
      "metadata": {
        "id": "HZDUGG5mGqy-"
      },
      "outputs": [],
      "source": [
        "df.iloc[[1207,1226],:]"
      ]
    },
    {
      "cell_type": "markdown",
      "metadata": {
        "id": "08e02R_SbCDw"
      },
      "source": [
        "**Imputed values**"
      ]
    },
    {
      "cell_type": "code",
      "execution_count": null,
      "metadata": {
        "id": "11ZpIO9MaGWB"
      },
      "outputs": [],
      "source": [
        "dfClean.iloc[[1207,1226],:]"
      ]
    },
    {
      "cell_type": "markdown",
      "metadata": {
        "id": "OKl58FSgIKF4"
      },
      "source": [
        "**Advanced imputation with scikit-learn**\n",
        "- SimpleImputer is a class in scikit-learn that provides basic strategies to handle missing data by imputing values in place of the missing values. It works by filling the missing data with a specific statistic (mean, median, most frequent value) or a constant value. It is best suited for simple datasets where you don't need complex relationships between missing and non-missing data.\n",
        "- KNNImputer is a more sophisticated technique for handling missing data by using the k-Nearest Neighbors algorithm. It estimates missing values based on the values of the nearest neighbors. Specifically, it looks at the k closest samples (or neighbors) to the missing value, based on some distance metric (like Euclidean distance), and imputes the missing value using the mean of the neighbor values.Key Parameters:\n",
        "-- n_neighbors: The number of nearest neighbors to use for imputation. A larger value of n_neighbors uses more neighbors to impute missing data.\n",
        "-- weights: How the contribution of each neighbor should be weighted:\n",
        "'uniform': All neighbors contribute equally to the imputation.\n",
        "-- 'distance': Closer neighbors contribute more to the imputation.\n",
        "metric: The distance metric to measure the closeness of neighbors. The default is 'nan_euclidean', which accounts for missing values by using only the available features to calculate the distance."
      ]
    },
    {
      "cell_type": "markdown",
      "metadata": {
        "id": "uf3-4-3Jc-S9"
      },
      "source": [
        "**SimpleImputer**"
      ]
    },
    {
      "cell_type": "code",
      "execution_count": null,
      "metadata": {
        "id": "oB_0UYrFcEn-"
      },
      "outputs": [],
      "source": [
        "from sklearn.impute import SimpleImputer, KNNImputer\n",
        "df_impute=clean_names(df)"
      ]
    },
    {
      "cell_type": "code",
      "execution_count": null,
      "metadata": {
        "id": "VeMy7tqQcHKR"
      },
      "outputs": [],
      "source": [
        "numeric_imputer = SimpleImputer(strategy='mean')\n",
        "df_impute['price_euro'] = numeric_imputer.fit_transform(df_impute[['price_euro']]).round(2)\n",
        "\n",
        "# Impute missing categorical values with the most frequent value\n",
        "categorical_imputer = SimpleImputer(strategy='most_frequent')\n",
        "df_impute['screenresolution'] = categorical_imputer.fit_transform(df_impute[['screenresolution']]).ravel()"
      ]
    },
    {
      "cell_type": "code",
      "execution_count": null,
      "metadata": {
        "id": "3ueu2KX_cwcT"
      },
      "outputs": [],
      "source": [
        "df_impute.iloc[[1207,1226],:]"
      ]
    },
    {
      "cell_type": "markdown",
      "metadata": {
        "id": "EhLexpXidI2d"
      },
      "source": [
        "**KNNImputer**"
      ]
    },
    {
      "cell_type": "markdown",
      "metadata": {
        "id": "lNiJcj6YRIg7"
      },
      "source": [
        "**To handle multiple categorical columns automatically while using KNNImputer, you need to apply a method that**:\n",
        "\n",
        "- Encodes categorical columns into numeric form (so KNNImputer can work).\n",
        "- Imputes the missing values using KNNImputer.\n",
        "- Decodes the imputed numeric values back into their original categorical form.\n",
        "columns:\n",
        "\n",
        "Steps:\n",
        "- Identify categorical and numeric columns.\n",
        "- Encode categorical columns using OrdinalEncoder or similar.\n",
        "- Apply KNNImputer to the entire dataset.\n",
        "- Decode categorical columns back to their original categories.\n",
        "\n",
        "![image.png](data:image/png;base64,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)"
      ]
    },
    {
      "cell_type": "markdown",
      "metadata": {
        "id": "NEtKtsMkpBx2"
      },
      "source": [
        "![image.png](data:image/png;base64,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)"
      ]
    },
    {
      "cell_type": "markdown",
      "metadata": {
        "id": "Wb5_wb0-pJmX"
      },
      "source": [
        "- Each '*' represents a person with known Weight.\n",
        "- '?' represents Person B with missing Weight.\n",
        "Steps Visualized:\n",
        "\n",
        "- Person B (?) is missing Weight.\n",
        "- We calculate distances to other known points.\n",
        "Person D () is the closest neighbor, followed by Person A ().\n",
        "-We use the Weights of Person D (72 kg) and Person A (70 kg) to estimate Person B's Weight as 71 kg."
      ]
    },
    {
      "cell_type": "code",
      "execution_count": null,
      "metadata": {
        "id": "2Bshg7MHdNoB"
      },
      "outputs": [],
      "source": [
        "import pandas as pd\n",
        "import numpy as np\n",
        "from sklearn.impute import KNNImputer, SimpleImputer\n",
        "\n",
        "# Assuming df is your DataFrame\n",
        "df_imputeKNN = clean_names(df)\n",
        "\n",
        "# Identify categorical and numerical columns\n",
        "categorical_cols = df_imputeKNN.select_dtypes(include=['object']).columns\n",
        "numeric_cols = df_imputeKNN.select_dtypes(include=[np.number]).columns\n",
        "\n",
        "# Impute numerical columns with KNNImputer\n",
        "numeric_imputer = KNNImputer(n_neighbors=5)\n",
        "df_imputeKNN[numeric_cols] = numeric_imputer.fit_transform(df_imputeKNN[numeric_cols])\n",
        "\n",
        "# Impute categorical columns with SimpleImputer\n",
        "categorical_imputer = SimpleImputer(strategy='most_frequent')\n",
        "df_imputeKNN[categorical_cols] = categorical_imputer.fit_transform(df_imputeKNN[categorical_cols])\n",
        "\n",
        "df_imputeKNN.iloc[[1207,1226],:]"
      ]
    },
    {
      "cell_type": "code",
      "execution_count": null,
      "metadata": {
        "id": "PQ4zFjGYmqCH"
      },
      "outputs": [],
      "source": [
        "comparison_df = pd.DataFrame({\n",
        "    'Median imputed': dfClean['price_euro'].median(),\n",
        "    'Mean Imputed': dfClean['price_euro'].mean(),\n",
        "    'KNN Imputed': df_imputeKNN.iloc[1226,]\n",
        "}, index=['price_euro'])\n",
        "\n",
        "comparison_df"
      ]
    },
    {
      "cell_type": "markdown",
      "metadata": {
        "id": "HxOHQ860skOI"
      },
      "source": [
        " We **should scale your features before using the KNNImputer**. Scaling is important because the K-Nearest Neighbors (KNN) algorithm relies on distance calculations to find the nearest neighbors.\n",
        " If our features are on different scales, features with larger scales can dominate the distance calculations, which may lead to biased imputations"
      ]
    },
    {
      "cell_type": "markdown",
      "metadata": {
        "id": "hmkNJa0ztD-U"
      },
      "source": [
        "Why Scaling Is Important Before KNNImputer\n",
        "Distance-Based Method:\n",
        "\n",
        "- The KNNImputer uses algorithms similar to KNN classifiers or regressors, which calculate the distance between data points.\n",
        "Common distance metrics (like Euclidean distance) are sensitive to the scale of the features.\n",
        "\n",
        "- Feature Influence:Features with larger numeric ranges can disproportionately influence the distance calculation.\n",
        "This can cause the imputer to consider neighbors based more on the larger-scaled features, ignoring smaller-scaled features.\n",
        "Improved Imputation Accuracy:\n",
        "\n",
        "- Scaling ensures that all features contribute equally to the distance computation.\n",
        "Leads to more accurate and reliable imputations."
      ]
    },
    {
      "cell_type": "code",
      "execution_count": null,
      "metadata": {
        "id": "-vZnm0Tss2-E"
      },
      "outputs": [],
      "source": [
        "from sklearn.preprocessing import StandardScaler"
      ]
    },
    {
      "cell_type": "code",
      "execution_count": null,
      "metadata": {
        "id": "SDFYLNTwvEfG"
      },
      "outputs": [],
      "source": [
        "# Assuming df is your DataFrame\n",
        "df_imputeKNN_standard=df.copy()\n",
        "df_imputeKNN_standard = clean_names(df_imputeKNN_standard)\n",
        "\n",
        "# Identify categorical and numerical columns\n",
        "categorical_cols = df_imputeKNN_standard.select_dtypes(include=['object']).columns\n",
        "numeric_cols = df_imputeKNN_standard.select_dtypes(include=[np.number]).columns\n",
        "\n",
        "# Impute categorical columns with SimpleImputer\n",
        "categorical_imputer = SimpleImputer(strategy='most_frequent')\n",
        "df_imputeKNN_standard[categorical_cols] = categorical_imputer.fit_transform(df_imputeKNN_standard[categorical_cols])\n",
        "\n",
        "\n",
        "# Scale numerical columns\n",
        "scaler = StandardScaler()\n",
        "df_imputeKNN_standard[numeric_cols] = scaler.fit_transform(df_imputeKNN_standard[numeric_cols])\n",
        "\n",
        "df_imputeKNN_standard.head()"
      ]
    },
    {
      "cell_type": "markdown",
      "source": [
        "**Robust scaler**\n",
        "\n",
        "*Standard Scaling*: Uses mean and standard deviation.\n",
        "\n",
        "*Robust Scaling*: Uses median and interquartile range."
      ],
      "metadata": {
        "id": "mW8SeuiCAsUz"
      }
    },
    {
      "cell_type": "code",
      "source": [
        "from sklearn.preprocessing import RobustScaler\n",
        "\n",
        "df_imputeKNN_robust=df.copy()\n",
        "\n",
        "df_imputeKNN_robust = clean_names(df_imputeKNN_robust)\n",
        "\n",
        "# Identify categorical and numerical columns\n",
        "categorical_cols = df_imputeKNN_robust.select_dtypes(include=['object']).columns\n",
        "numeric_cols = df_imputeKNN_robust.select_dtypes(include=[np.number]).columns\n",
        "\n",
        "# Impute categorical columns with SimpleImputer\n",
        "categorical_imputer = SimpleImputer(strategy='most_frequent')\n",
        "df_imputeKNN_robust[categorical_cols] = categorical_imputer.fit_transform(df_imputeKNN_robust[categorical_cols])\n",
        "\n",
        "\n",
        "robust_scaler=RobustScaler()\n",
        "\n",
        "df_imputeKNN_robust[numeric_cols] = robust_scaler.fit_transform(df_imputeKNN_robust[numeric_cols])\n",
        "\n",
        "df_imputeKNN_robust.head()"
      ],
      "metadata": {
        "id": "4PB_e3zxBNWO"
      },
      "execution_count": null,
      "outputs": []
    },
    {
      "cell_type": "markdown",
      "source": [
        "**Displaying 2 df side by side**"
      ],
      "metadata": {
        "id": "qK73dBe4CMAe"
      }
    },
    {
      "cell_type": "code",
      "source": [
        "from IPython.display import HTML\n",
        "\n",
        "df1_html = df_imputeKNN_standard[[\"weight_kg\", \"price_euro\"]].head().to_html()\n",
        "df2_html = df_imputeKNN_robust[[\"weight_kg\", \"price_euro\"]].head().to_html()\n",
        "\n",
        "display(HTML(f\"\"\"\n",
        "<div style=\"display: flex; justify-content: space-around;\">\n",
        "    <div>{df1_html}</div>\n",
        "    <div>{df2_html}</div>\n",
        "</div>\n",
        "\"\"\"))\n"
      ],
      "metadata": {
        "id": "1TURfFasCQwH"
      },
      "execution_count": null,
      "outputs": []
    },
    {
      "cell_type": "markdown",
      "source": [
        "### Using KNN on scaled dataframes to fill missing values"
      ],
      "metadata": {
        "id": "EzBIVCUDFtaP"
      }
    },
    {
      "cell_type": "code",
      "source": [
        "import pandas as pd\n",
        "from sklearn.impute import KNNImputer\n",
        "\n",
        "numeric_imputer = KNNImputer(n_neighbors=5)\n",
        "\n",
        "\n",
        "# Inverse transform the scaled numeric columns\n",
        "df_imputeKNN_standard[numeric_cols] = pd.DataFrame(\n",
        "    scaler.inverse_transform(df_imputeKNN_standard[numeric_cols]),\n",
        "    columns=numeric_cols,\n",
        "    index=df_imputeKNN_standard.index\n",
        ")\n",
        "\n",
        "df_imputeKNN_robust[numeric_cols] = pd.DataFrame(\n",
        "    robust_scaler.inverse_transform(df_imputeKNN_robust[numeric_cols]),\n",
        "    columns=numeric_cols,\n",
        "    index=df_imputeKNN_robust.index\n",
        ")\n"
      ],
      "metadata": {
        "id": "5icOv6V4C69f"
      },
      "execution_count": null,
      "outputs": []
    },
    {
      "cell_type": "code",
      "source": [
        "comparison_df = pd.DataFrame({\n",
        "    'Median imputed': dfClean['price_euro'].median(),\n",
        "    'Mean Imputed': dfClean['price_euro'].mean(),\n",
        "    'KNN Imputed without scaling': df_imputeKNN.iloc[1226,],\n",
        "    'KNN Imputed with standard scaling': df_imputeKNN_standard.iloc[1226,],\n",
        "    'KNN Imputed with robust scaling': df_imputeKNN_robust.iloc[1226,]\n",
        "}, index=['price_euro'])\n",
        "\n",
        "comparison_df"
      ],
      "metadata": {
        "id": "x5XvLqd9GqSE"
      },
      "execution_count": null,
      "outputs": []
    },
    {
      "cell_type": "markdown",
      "source": [
        "**In our case we only have a few price_euro missing data, thus the scaling doesnt influence the data distribution!**"
      ],
      "metadata": {
        "id": "xhdYWO0FKjkS"
      }
    }
  ],
  "metadata": {
    "colab": {
      "provenance": [],
      "authorship_tag": "ABX9TyONBz11SFENEljJBqI106CW",
      "include_colab_link": true
    },
    "kernelspec": {
      "display_name": "Python 3",
      "name": "python3"
    },
    "language_info": {
      "name": "python"
    }
  },
  "nbformat": 4,
  "nbformat_minor": 0
}
{
  "cells": [
    {
      "cell_type": "markdown",
      "metadata": {
        "id": "view-in-github",
        "colab_type": "text"
      },
      "source": [
        "<a href=\"https://colab.research.google.com/github/urosgodnov/juypterNotebooks/blob/main/DataMining/textMining_scraping_data_with_colab.ipynb\" target=\"_parent\"><img src=\"https://colab.research.google.com/assets/colab-badge.svg\" alt=\"Open In Colab\"/></a>"
      ]
    },
    {
      "cell_type": "markdown",
      "source": [
        "# Permanently install libraries"
      ],
      "metadata": {
        "id": "D6XABwhDvHvQ"
      },
      "id": "D6XABwhDvHvQ"
    },
    {
      "cell_type": "markdown",
      "source": [
        "## Initializing gdrive"
      ],
      "metadata": {
        "id": "4eai3eHGvQq9"
      },
      "id": "4eai3eHGvQq9"
    },
    {
      "cell_type": "code",
      "source": [
        "# permanently install packageg in google colab\n",
        "from google.colab import drive\n",
        "drive.mount(\"/content/drive\")"
      ],
      "metadata": {
        "colab": {
          "base_uri": "https://localhost:8080/"
        },
        "id": "FDnUAoJ1syHI",
        "outputId": "92269696-2fe0-4eef-f433-d133d0324925"
      },
      "id": "FDnUAoJ1syHI",
      "execution_count": null,
      "outputs": [
        {
          "output_type": "stream",
          "name": "stdout",
          "text": [
            "Drive already mounted at /content/drive; to attempt to forcibly remount, call drive.mount(\"/content/drive\", force_remount=True).\n"
          ]
        }
      ]
    },
    {
      "cell_type": "markdown",
      "source": [
        "## Creating links"
      ],
      "metadata": {
        "id": "Wo1c011Yvbdw"
      },
      "id": "Wo1c011Yvbdw"
    },
    {
      "cell_type": "code",
      "source": [
        "import os\n",
        "nb_path = '/content/drive/MyDrive/Google_Colab_modules'\n",
        "\n",
        "if not os.path.exists(nb_path):\n",
        "  os.symlink('/content/drive/MyDrive/Google_Colab_modules', nb_path)  # Create the symlink only if it doesn't exist\n",
        "else:\n",
        "  print(f\"Path '{nb_path}' already exists. Skipping symlink creation.\")\n"
      ],
      "metadata": {
        "colab": {
          "base_uri": "https://localhost:8080/"
        },
        "id": "CbhIct5IuPfZ",
        "outputId": "83af5d29-cc76-43ff-8537-6a9b1aeae520"
      },
      "id": "CbhIct5IuPfZ",
      "execution_count": null,
      "outputs": [
        {
          "output_type": "stream",
          "name": "stdout",
          "text": [
            "Path '/content/drive/MyDrive/Google_Colab_modules' already exists. Skipping symlink creation.\n"
          ]
        }
      ]
    },
    {
      "cell_type": "markdown",
      "source": [
        "## Installing to destination folder in gdrive"
      ],
      "metadata": {
        "id": "r7mo4dCFvfBZ"
      },
      "id": "r7mo4dCFvfBZ"
    },
    {
      "cell_type": "code",
      "source": [
        "#install the module in the\n",
        "!pip install --target=$nb_path selenium"
      ],
      "metadata": {
        "id": "ULxTpXSVvASS"
      },
      "id": "ULxTpXSVvASS",
      "execution_count": null,
      "outputs": []
    },
    {
      "cell_type": "code",
      "source": [
        "!pip install --target=$nb_path webdriver_manager"
      ],
      "metadata": {
        "id": "3yipFmyoy9Bh"
      },
      "id": "3yipFmyoy9Bh",
      "execution_count": null,
      "outputs": []
    },
    {
      "cell_type": "markdown",
      "source": [
        "## Connecting the path"
      ],
      "metadata": {
        "id": "6AJokRDsvrNZ"
      },
      "id": "6AJokRDsvrNZ"
    },
    {
      "cell_type": "markdown",
      "source": [
        "In the future, while all modules will be installed, we will only use this command."
      ],
      "metadata": {
        "id": "LzuIZs24vwxo"
      },
      "id": "LzuIZs24vwxo"
    },
    {
      "cell_type": "code",
      "source": [
        "import sys\n",
        "\n",
        "sys.path.append(\"/content/drive/MyDrive/Google_Colab_modules\")"
      ],
      "metadata": {
        "id": "YY7iYvEYtTE6"
      },
      "id": "YY7iYvEYtTE6",
      "execution_count": null,
      "outputs": []
    },
    {
      "cell_type": "markdown",
      "source": [
        "# Webscraping"
      ],
      "metadata": {
        "id": "kWcmVdmHv6C9"
      },
      "id": "kWcmVdmHv6C9"
    },
    {
      "cell_type": "code",
      "execution_count": null,
      "id": "09a6b4f9-7b96-431f-88c3-44b8371b79d0",
      "metadata": {
        "tags": [],
        "id": "09a6b4f9-7b96-431f-88c3-44b8371b79d0"
      },
      "outputs": [],
      "source": [
        "from selenium import webdriver\n",
        "from selenium.webdriver.chrome.options import Options\n",
        "from webdriver_manager.chrome import ChromeDriverManager\n",
        "from selenium.webdriver.common.by import By\n",
        "from selenium.webdriver.support.wait import WebDriverWait\n",
        "from selenium.webdriver.chrome.service import Service\n",
        "from selenium.webdriver.support import expected_conditions as EC\n",
        "from selenium.common.exceptions import (\n",
        "    NoSuchElementException,\n",
        "    ElementClickInterceptedException,\n",
        "    TimeoutException\n",
        ")\n",
        "from datetime import datetime\n",
        "\n"
      ]
    },
    {
      "cell_type": "code",
      "source": [
        "import pandas as pd\n",
        "import time"
      ],
      "metadata": {
        "id": "WJ1u2hOTKTG1"
      },
      "id": "WJ1u2hOTKTG1",
      "execution_count": null,
      "outputs": []
    },
    {
      "cell_type": "code",
      "execution_count": null,
      "id": "d6e95cc9-4ecb-48af-9021-4ec8aae28cef",
      "metadata": {
        "tags": [],
        "id": "d6e95cc9-4ecb-48af-9021-4ec8aae28cef"
      },
      "outputs": [],
      "source": [
        "options = webdriver.ChromeOptions()\n",
        "options.add_argument(\"--verbose\")\n",
        "options.add_argument('--no-sandbox')\n",
        "options.add_argument('--headless')\n",
        "options.add_argument('--disable-gpu')\n",
        "options.add_argument(\"--window-size=1920, 1200\")\n",
        "options.add_argument('--disable-dev-shm-usage')\n",
        "options.add_argument('--user-agent=Mozilla/5.0 (Windows NT 10.0; Win64; x64) AppleWebKit/537.36 (KHTML, like \\\n",
        "Gecko) Chrome/90.0.4430.212 Safari/537.36')"
      ]
    },
    {
      "cell_type": "code",
      "source": [
        "driver = webdriver.Chrome(options=options)"
      ],
      "metadata": {
        "id": "zfGXabQEKxDZ"
      },
      "id": "zfGXabQEKxDZ",
      "execution_count": null,
      "outputs": []
    },
    {
      "cell_type": "code",
      "source": [
        "l=\"https://www.imdb.com/title/tt1745960/reviews/?ref_=tt_urv_sm\"\n",
        "driver.get(l)"
      ],
      "metadata": {
        "id": "B2cD1nDRwdPR"
      },
      "id": "B2cD1nDRwdPR",
      "execution_count": null,
      "outputs": []
    },
    {
      "cell_type": "code",
      "execution_count": null,
      "id": "82c31512-4601-4965-8697-9138136dc9da",
      "metadata": {
        "tags": [],
        "id": "82c31512-4601-4965-8697-9138136dc9da"
      },
      "outputs": [],
      "source": [
        "wait = WebDriverWait(driver, timeout=5)\n"
      ]
    },
    {
      "cell_type": "code",
      "execution_count": null,
      "id": "ad5c3ccb-618f-4cd7-b09d-3798a0760d8f",
      "metadata": {
        "tags": [],
        "id": "ad5c3ccb-618f-4cd7-b09d-3798a0760d8f"
      },
      "outputs": [],
      "source": [
        "i=1\n",
        "while True:\n",
        "    try:\n",
        "        # Locate the \"25 More\" button\n",
        "        button = wait.until(EC.presence_of_element_located((By.XPATH, \"//span[@class='ipc-see-more__text']\")))\n",
        "\n",
        "        # Click the button using JavaScript\n",
        "        driver.execute_script(\"arguments[0].click();\", button)\n",
        "        print('Clicked the \"25 More\" button', i, ' time(s)!')\n",
        "        i=i+1\n",
        "        time.sleep(2)\n",
        "\n",
        "\n",
        "    except NoSuchElementException:\n",
        "        print('The \"25 More\" button no longer exists. Exiting loop.')\n",
        "        break  # Exit the loop when the button is no longer found\n",
        "\n",
        "    except Exception as e:\n",
        "        print('An unexpected error occurred')\n",
        "        break  # Exit the loop for other unexpected errors\n",
        "\n",
        "\n"
      ]
    },
    {
      "cell_type": "code",
      "execution_count": null,
      "id": "58ce9787-9d20-4c1e-9c13-21daecb313ef",
      "metadata": {
        "tags": [],
        "id": "58ce9787-9d20-4c1e-9c13-21daecb313ef"
      },
      "outputs": [],
      "source": [
        "from bs4 import BeautifulSoup\n",
        "content = driver.page_source\n",
        "soup = BeautifulSoup(content)\n",
        "result=[]\n",
        "df = pd.DataFrame(columns=[\"Author\",\"Title\",\"Rating\",\"Text\",\"Date\"])"
      ]
    },
    {
      "cell_type": "code",
      "execution_count": null,
      "id": "b81fb45a-4a21-4fcf-96b1-05c5578405e8",
      "metadata": {
        "tags": [],
        "id": "b81fb45a-4a21-4fcf-96b1-05c5578405e8"
      },
      "outputs": [],
      "source": [
        "def GetAReview(review):\n",
        "  author = rev.findAll('a', attrs={'class':'ipc-link ipc-link--base'})[0].text\n",
        "  title = rev.find('h3', attrs={'class':'ipc-title__text'}).text.strip()\n",
        "  rating =rev.findAll('span', attrs={'class':'ipc-rating-star--rating'})[0].text.replace(\"\\n\",\"\").strip()\n",
        "  review = rev.findAll('div', attrs={'class':'ipc-html-content-inner-div'})[0].text\n",
        "  date = rev.findAll('li', attrs={'class':'ipc-inline-list__item review-date'})[0].text\n",
        "  date=datetime.strptime(date, '%b %d, %Y').strftime('%Y-%m-%d')\n",
        "\n",
        "  return pd.DataFrame({\"Author\":author, \"Title\":title, \"Rating\":rating, \"Text\":review, \"Date\":date},index=[0])\n"
      ]
    },
    {
      "cell_type": "code",
      "execution_count": null,
      "id": "bffaf76b-7795-4a68-880f-d460e00a734f",
      "metadata": {
        "tags": [],
        "id": "bffaf76b-7795-4a68-880f-d460e00a734f"
      },
      "outputs": [],
      "source": [
        "for rev in soup.findAll('article'):\n",
        "  try:\n",
        "    result.append(GetAReview(rev))\n",
        "  except:\n",
        "    continue"
      ]
    },
    {
      "cell_type": "code",
      "execution_count": null,
      "id": "fb8d7f3c-817a-44d4-b88c-505292710070",
      "metadata": {
        "tags": [],
        "id": "fb8d7f3c-817a-44d4-b88c-505292710070"
      },
      "outputs": [],
      "source": [
        "df=pd.concat(result, axis=0, ignore_index=True)\n",
        "df.info()"
      ]
    },
    {
      "cell_type": "code",
      "source": [
        "df.head()"
      ],
      "metadata": {
        "id": "4FEuCiQjsKr6"
      },
      "id": "4FEuCiQjsKr6",
      "execution_count": null,
      "outputs": []
    },
    {
      "cell_type": "code",
      "execution_count": null,
      "id": "e268efef-516d-4441-8870-9316fa3c2880",
      "metadata": {
        "tags": [],
        "id": "e268efef-516d-4441-8870-9316fa3c2880"
      },
      "outputs": [],
      "source": [
        "df.to_csv(\"Elevation.csv\")"
      ]
    }
  ],
  "metadata": {
    "kernelspec": {
      "display_name": "Python 3 (ipykernel)",
      "language": "python",
      "name": "python3"
    },
    "language_info": {
      "codemirror_mode": {
        "name": "ipython",
        "version": 3
      },
      "file_extension": ".py",
      "mimetype": "text/x-python",
      "name": "python",
      "nbconvert_exporter": "python",
      "pygments_lexer": "ipython3",
      "version": "3.10.8"
    },
    "colab": {
      "provenance": [],
      "include_colab_link": true
    }
  },
  "nbformat": 4,
  "nbformat_minor": 5
}
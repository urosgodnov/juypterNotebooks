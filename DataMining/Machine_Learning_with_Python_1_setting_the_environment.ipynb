{
  "nbformat": 4,
  "nbformat_minor": 0,
  "metadata": {
    "colab": {
      "provenance": [],
      "collapsed_sections": [
        "rjMDRMhiiD3c",
        "gWTexF15kDzs"
      ],
      "authorship_tag": "ABX9TyOWBynqD3HMvj0Z/cIuiSxU",
      "include_colab_link": true
    },
    "kernelspec": {
      "name": "python3",
      "display_name": "Python 3"
    },
    "language_info": {
      "name": "python"
    }
  },
  "cells": [
    {
      "cell_type": "markdown",
      "metadata": {
        "id": "view-in-github",
        "colab_type": "text"
      },
      "source": [
        "<a href=\"https://colab.research.google.com/github/urosgodnov/juypterNotebooks/blob/main/DataMining/Machine_Learning_with_Python_1_setting_the_environment.ipynb\" target=\"_parent\"><img src=\"https://colab.research.google.com/assets/colab-badge.svg\" alt=\"Open In Colab\"/></a>"
      ]
    },
    {
      "cell_type": "markdown",
      "source": [
        "**Using Python to implement machine learning process\n",
        "by dr. Uros Godnov**"
      ],
      "metadata": {
        "id": "K028aoI3dM0U"
      }
    },
    {
      "cell_type": "markdown",
      "source": [
        "# Google Colab"
      ],
      "metadata": {
        "id": "_A7APu5ddqfr"
      }
    },
    {
      "cell_type": "markdown",
      "source": [
        "- Free Cloud-Based Environment: Google Colab\n",
        "(Collaboratory) allows users to write and execute Python code in a web-based environment, without needing to install any software locally.\n",
        "\n",
        "- Integration with Google Drive: You can save and load files from your Google Drive directly, making it easy to work with data stored online.\n",
        "\n",
        "- GPU and TPU Support: Google Colab provides free access to GPUs (Graphics Processing Units) and TPUs (Tensor Processing Units), which accelerates tasks like machine learning, deep learning, and large-scale computations.\n",
        "\n",
        "- Jupyter Notebook Interface: Colab uses the familiar Jupyter Notebook interface, supporting interactive code execution, text, images, and visualizations within cells.\n",
        "\n",
        "- Pre-installed Libraries: It comes with many commonly used Python libraries pre-installed (e.g., NumPy, TensorFlow, Keras, Pandas), making it easy to get started with data science and machine learning projects.\n",
        "\n",
        "- Collaborative Features: Similar to Google Docs, multiple users can collaborate in real-time on the same notebook, making it ideal for team projects.\n",
        "\n",
        "- Limitations: While Google Colab is powerful, it has limitations on session duration (up to 12 hours) and RAM usage, especially in the free tier.\n",
        "\n",
        "- RunType: Python and R"
      ],
      "metadata": {
        "id": "5g9pohSidOFW"
      }
    },
    {
      "cell_type": "markdown",
      "source": [
        "# Loading modules and functions"
      ],
      "metadata": {
        "id": "bhH3-abDiNhL"
      }
    },
    {
      "cell_type": "code",
      "source": [
        "import pandas as pd\n",
        "from google.colab import drive"
      ],
      "metadata": {
        "id": "kfYCyJZRiXfV"
      },
      "execution_count": null,
      "outputs": []
    },
    {
      "cell_type": "markdown",
      "source": [
        "**from … import and aliasing modules**"
      ],
      "metadata": {
        "id": "y8m5Q0jDZk2E"
      }
    },
    {
      "cell_type": "code",
      "source": [
        "from random import random as rd\n",
        "from random import randint as rdint"
      ],
      "metadata": {
        "id": "kYiXE-zCZpwb"
      },
      "execution_count": null,
      "outputs": []
    },
    {
      "cell_type": "markdown",
      "source": [
        "**using help() on a function**"
      ],
      "metadata": {
        "id": "NTw-HGeyZ5Ku"
      }
    },
    {
      "cell_type": "code",
      "source": [
        "help(rd)\n",
        "help(rdint)"
      ],
      "metadata": {
        "id": "UUmqyAZBZv-M"
      },
      "execution_count": null,
      "outputs": []
    },
    {
      "cell_type": "code",
      "source": [
        "rd()"
      ],
      "metadata": {
        "id": "r2YQ7nGuaEfO"
      },
      "execution_count": null,
      "outputs": []
    },
    {
      "cell_type": "code",
      "source": [
        "rdint(1,100)"
      ],
      "metadata": {
        "id": "kb1A98-Sa_EE"
      },
      "execution_count": null,
      "outputs": []
    },
    {
      "cell_type": "markdown",
      "source": [
        "**seed**\n",
        "\n",
        "The function seed is typically used to set the seed for a random number generator in various Python libraries, like random, numpy, or torch, to ensure reproducibility of results. Setting the seed ensures that the sequence of random numbers generated is the same across different runs, which is particularly useful in testing, debugging, and experimentation in machine learning models or any system that relies on randomness."
      ],
      "metadata": {
        "id": "N_551pD8afo0"
      }
    },
    {
      "cell_type": "code",
      "source": [
        "import random"
      ],
      "metadata": {
        "id": "o5xLsEUWak8z"
      },
      "execution_count": null,
      "outputs": []
    },
    {
      "cell_type": "code",
      "source": [
        "random.seed(42)\n",
        "rdint(1,100)"
      ],
      "metadata": {
        "id": "ZssDAa17aoYM"
      },
      "execution_count": null,
      "outputs": []
    },
    {
      "cell_type": "markdown",
      "source": [
        "## Reading data"
      ],
      "metadata": {
        "id": "EksYLysLh6qb"
      }
    },
    {
      "cell_type": "markdown",
      "source": [
        "### From GDrive"
      ],
      "metadata": {
        "id": "rjMDRMhiiD3c"
      }
    },
    {
      "cell_type": "code",
      "execution_count": null,
      "metadata": {
        "id": "5T5Qe6tJdFeF"
      },
      "outputs": [],
      "source": [
        "# drive.mount('/content/drive')"
      ]
    },
    {
      "cell_type": "code",
      "source": [
        "# df=pd.read_csv('/content/drive/MyDrive/Pandas_data/laptop_price_with_missing_values.csv')\n",
        "# df.head()"
      ],
      "metadata": {
        "id": "SVQP8-Nogr5j"
      },
      "execution_count": null,
      "outputs": []
    },
    {
      "cell_type": "markdown",
      "source": [
        "### From online resource"
      ],
      "metadata": {
        "id": "gWTexF15kDzs"
      }
    },
    {
      "cell_type": "code",
      "source": [
        "df=pd.read_csv(\"https://raw.githubusercontent.com/urosgodnov/datasets/refs/heads/master/laptop_price_with_missing_values.csv\")\n"
      ],
      "metadata": {
        "id": "oB_HDRV6kMN4"
      },
      "execution_count": null,
      "outputs": []
    },
    {
      "cell_type": "code",
      "source": [
        "df.head()"
      ],
      "metadata": {
        "id": "fCIbHi64ka2j"
      },
      "execution_count": null,
      "outputs": []
    },
    {
      "cell_type": "markdown",
      "source": [
        "### From disk\n"
      ],
      "metadata": {
        "id": "IE0bwCV2bfnN"
      }
    },
    {
      "cell_type": "code",
      "source": [
        "from google.colab import files"
      ],
      "metadata": {
        "id": "Tce2VYJBbwhi"
      },
      "execution_count": null,
      "outputs": []
    },
    {
      "cell_type": "code",
      "source": [
        "uploaded = files.upload()"
      ],
      "metadata": {
        "id": "8MD7pHdtbxYu"
      },
      "execution_count": null,
      "outputs": []
    },
    {
      "cell_type": "markdown",
      "source": [
        "After the file is stored in uploaded variable, we have to read it with pd.read_*. The file is visible under **Files** option in Google Colab.\n"
      ],
      "metadata": {
        "id": "NwucDEvicIWI"
      }
    },
    {
      "cell_type": "code",
      "source": [
        "df_xlsx=pd.read_excel(\"/content/Meritve 0014.xlsx\")\n",
        "df_xlsx.iloc[0:5,1:]"
      ],
      "metadata": {
        "id": "McQsEqJmcErV"
      },
      "execution_count": null,
      "outputs": []
    },
    {
      "cell_type": "code",
      "source": [],
      "metadata": {
        "id": "1LAN_0fgb5Vl"
      },
      "execution_count": null,
      "outputs": []
    },
    {
      "cell_type": "markdown",
      "source": [
        "**changing pandas behavior**"
      ],
      "metadata": {
        "id": "Oz6euwxZlLPc"
      }
    },
    {
      "cell_type": "code",
      "source": [
        "pd.set_option('display.max_rows', 20)         # Show up to 20 rows\n",
        "pd.set_option('display.max_columns', 10)      # Show up to 10 columns\n",
        "pd.set_option('display.precision', 3)         # Set float precision to 3 decimals\n",
        "pd.set_option('display.max_colwidth', 50)     # Limit column width to 50 characters\n"
      ],
      "metadata": {
        "id": "ENUTFJbnklPN"
      },
      "execution_count": null,
      "outputs": []
    },
    {
      "cell_type": "code",
      "source": [
        "df.head()"
      ],
      "metadata": {
        "collapsed": true,
        "id": "lpHY1rddlTZO"
      },
      "execution_count": null,
      "outputs": []
    },
    {
      "cell_type": "markdown",
      "source": [
        "## Installing new modules into Colab"
      ],
      "metadata": {
        "id": "YuAXpel_eCAO"
      }
    },
    {
      "cell_type": "markdown",
      "source": [
        "Shell Command Execution:\n",
        "- In Colab, the ! allows you to run shell commands (like pip install) from within a Python notebook. Colab is a notebook environment, so using ! tells the notebook to execute the command in the underlying Linux shell instead of as Python code.\n",
        "\n",
        "- Installing External Libraries: Colab comes with many pre-installed libraries, but if you need an external package, you use !pip install to install it just as you would in a terminal.\n",
        "\n",
        "- Alternative to %pip: In environments like Jupyter, %pip can be used as a magic command to install Python packages. However, in Colab, !pip is more commonly used to leverage the shell's functionality.\n",
        "\n",
        "- Exclude messages while installing: > /dev/null 2>&1"
      ],
      "metadata": {
        "id": "xo7A53m9eGrz"
      }
    },
    {
      "cell_type": "code",
      "source": [
        "!pip install sweetviz pyjanitor > /dev/null 2>&1"
      ],
      "metadata": {
        "id": "mVQ55bZkecw2"
      },
      "execution_count": null,
      "outputs": []
    },
    {
      "cell_type": "markdown",
      "source": [
        "**Problem**:\n",
        "\n",
        "- In Google Colab, the environment resets when you close or restart the notebook.\n",
        "- Any installed packages using !pip install are lost after the environment resets.\n",
        "- This happens because Colab uses ephemeral virtual machines, which means:\n",
        "  1. Installed packages and data do not persist after the session ends.\n",
        "  2. Each session starts with a clean environment.\n",
        "\n",
        "**Solution**:\n",
        "- Install the needed libraries in a separate file on Google Drive.\n",
        "- Every time you need the libraries, mount the drive and import the file with the libraries"
      ],
      "metadata": {
        "id": "YUA4NvJnfjRg"
      }
    },
    {
      "cell_type": "code",
      "source": [
        "import os, sys\n",
        "from google.colab import drive\n",
        "drive.mount('/content/gdrive')\n",
        "\n",
        "# Create a path variable\n",
        "\n",
        "nb_path = '/content/notebooks'\n",
        "\n"
      ],
      "metadata": {
        "id": "hM3PtSFPgJYi"
      },
      "execution_count": null,
      "outputs": []
    },
    {
      "cell_type": "code",
      "source": [
        "# Create a symlink to the Google Drive\n",
        "try:\n",
        "  os.symlink('/content/gdrive/MyDrive/Google_Colab_modules', nb_path)\n",
        "  # Append the path variable\n",
        "  sys.path.insert(0, nb_path)\n",
        "except:\n",
        "  print(\"Symlink already exists\")\n"
      ],
      "metadata": {
        "id": "fmueFtk9hV3J"
      },
      "execution_count": null,
      "outputs": []
    },
    {
      "cell_type": "code",
      "source": [
        "# I specified the nb_path to install the library in it\n",
        "!pip install --target=$nb_path ydata-profiling sweetviz > /dev/null 2>&1"
      ],
      "metadata": {
        "id": "O5pvus_uh5b-"
      },
      "execution_count": null,
      "outputs": []
    },
    {
      "cell_type": "markdown",
      "source": [
        "**Importing the modules from gdrive**"
      ],
      "metadata": {
        "id": "bndC5c0RpIMl"
      }
    },
    {
      "cell_type": "code",
      "source": [
        "# Importing libraries\n",
        "from google.colab import drive\n",
        "import sys\n",
        "# Mount google drive\n",
        "drive.mount('/content/gdrive')\n",
        "# Changing path dirctory\n",
        "sys.path.append('/content/gdrive/MyDrive/Google_Colab_modules')\n",
        "\n",
        "import sweetviz as sv\n",
        "import ydata_profiling as ydp\n"
      ],
      "metadata": {
        "id": "Rrxcsef5owHX"
      },
      "execution_count": null,
      "outputs": []
    },
    {
      "cell_type": "markdown",
      "source": [],
      "metadata": {
        "id": "Z54MP2NKf0wW"
      }
    }
  ]
}
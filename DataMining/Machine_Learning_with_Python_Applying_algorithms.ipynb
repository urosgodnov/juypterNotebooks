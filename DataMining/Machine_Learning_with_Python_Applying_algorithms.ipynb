{
  "nbformat": 4,
  "nbformat_minor": 0,
  "metadata": {
    "colab": {
      "provenance": [],
      "toc_visible": true,
      "authorship_tag": "ABX9TyPoWppx1iEOoNd34AFbcsPS",
      "include_colab_link": true
    },
    "kernelspec": {
      "name": "python3",
      "display_name": "Python 3"
    },
    "language_info": {
      "name": "python"
    }
  },
  "cells": [
    {
      "cell_type": "markdown",
      "metadata": {
        "id": "view-in-github",
        "colab_type": "text"
      },
      "source": [
        "<a href=\"https://colab.research.google.com/github/urosgodnov/juypterNotebooks/blob/main/DataMining/Machine_Learning_with_Python_Applying_algorithms.ipynb\" target=\"_parent\"><img src=\"https://colab.research.google.com/assets/colab-badge.svg\" alt=\"Open In Colab\"/></a>"
      ]
    },
    {
      "cell_type": "markdown",
      "source": [
        "**Recommended Pipeline Order**\n",
        "\n",
        "To maintain a robust and leakage-free pipeline, follow this sequence:\n",
        "\n",
        "- Data Importing and Splitting:\n",
        "\n",
        "  - Separate X and y: Split your dataset into features (X) and target (y) before any transformations.\n",
        "\n",
        "  - Train-Test Split: Divide the data into training and testing sets to prevent data leakage.\n",
        "\n",
        "- Pipeline Steps on Training Data:\n",
        "\n",
        "  - Preprocessing:\n",
        "   - Handle Missing Values: Impute or remove missing data.\n",
        "   - Encode Categorical Variables: Apply encoding techniques like OrdinalEncoder or OneHotEncoder.\n",
        "   - Scaling/Standardization: Use StandardScaler or similar to normalize numerical features.\n",
        "\n",
        "  - Balancing:\n",
        "   - Resampling Techniques: Apply methods like SMOTE, RandomOverSampler, or RandomUnderSampler to balance classes.\n",
        "\n",
        "- Feature Selection:\n",
        "  - Variance Thresholding: Remove low-variance features.\n",
        "SelectKBest / RFE: Select top features based on statistical tests or model-based importance.\n",
        "\n",
        "- Model Training:\n",
        "  - Classifier: Train your classification model (e.g., Logistic Regression, Random Forest).\n",
        "\n",
        "- Testing Data:\n",
        "\n",
        "Apply the same preprocessing steps (without balancing) to the test set.\n",
        "Evaluate the model's performance on the test data."
      ],
      "metadata": {
        "id": "P7A_mux9raco"
      }
    },
    {
      "cell_type": "markdown",
      "source": [
        "# Applying algorithm - regression"
      ],
      "metadata": {
        "id": "hHqVzs9jL5C2"
      }
    },
    {
      "cell_type": "code",
      "source": [
        "from sklearn.pipeline import Pipeline\n",
        "from sklearn.impute import SimpleImputer\n",
        "from sklearn.preprocessing import StandardScaler, OrdinalEncoder, OneHotEncoder, FunctionTransformer\n",
        "from sklearn.feature_selection import SelectKBest, f_classif, f_regression\n",
        "from sklearn.metrics import mean_squared_error, mean_absolute_error, r2_score\n",
        "from sklearn.compose import ColumnTransformer\n",
        "from sklearn.model_selection import train_test_split\n",
        "import pandas as pd\n",
        "import numpy as np\n",
        "import matplotlib.pyplot as plt\n",
        "import seaborn as sns\n",
        "from sklearn.linear_model import LinearRegression\n",
        "import re\n",
        "from imblearn.pipeline import Pipeline as ImbPipeline"
      ],
      "metadata": {
        "id": "ucpoxxQTsHAO"
      },
      "execution_count": null,
      "outputs": []
    },
    {
      "cell_type": "code",
      "source": [
        "def clean_names(df):\n",
        "    # Function to clean individual column names\n",
        "    def clean_column_name(name):\n",
        "        name = name.strip()  # Remove leading and trailing spaces\n",
        "        name = name.lower()  # Convert to lowercase\n",
        "        name = re.sub(r'[^\\w\\s]', '', name)  # Remove special characters except for underscores and alphanumeric\n",
        "        name = re.sub(r'\\s+', '_', name)  # Replace spaces with underscores\n",
        "        return name\n",
        "\n",
        "    # Apply the cleaning function to all column names\n",
        "    df.columns = [clean_column_name(col) for col in df.columns]\n",
        "    return df"
      ],
      "metadata": {
        "id": "biA8bMBstefZ"
      },
      "execution_count": null,
      "outputs": []
    },
    {
      "cell_type": "code",
      "source": [
        "def replace_infrequent_categories(X, threshold=40):\n",
        "    X = X.copy()  # Avoid modifying the original DataFrame\n",
        "\n",
        "    # Select categorical columns (object or category dtype)\n",
        "    categorical_cols = X.select_dtypes(exclude=[\"number\"]).columns.tolist()\n",
        "\n",
        "    for col in categorical_cols:\n",
        "        # Count frequencies including NaN\n",
        "        counts = X[col].value_counts(dropna=False)\n",
        "\n",
        "        # Identify categories to keep (frequency > threshold or NaN)\n",
        "        frequent_categories = counts[counts > threshold].index.tolist()\n",
        "\n",
        "        # Replace infrequent categories with 'Other'\n",
        "        X[col] = X[col].apply(\n",
        "            lambda x: x if (pd.isnull(x) or x in frequent_categories) else \"Other\"\n",
        "        )\n",
        "\n",
        "    return X"
      ],
      "metadata": {
        "id": "SUIwd6Llv8bQ"
      },
      "execution_count": null,
      "outputs": []
    },
    {
      "cell_type": "code",
      "source": [
        "def remove_outliers(df, cols, threshold=3):\n",
        "    df = df.copy()\n",
        "    for col in cols:\n",
        "        if col in df.columns:\n",
        "            z_scores = (df[col] - df[col].mean()) / df[col].std()\n",
        "            df = df[(z_scores.abs() <= threshold)]\n",
        "    return df"
      ],
      "metadata": {
        "id": "5uBrU67C5qdR"
      },
      "execution_count": null,
      "outputs": []
    },
    {
      "cell_type": "code",
      "source": [
        "df=pd.read_csv(\"https://raw.githubusercontent.com/urosgodnov/datasets/refs/heads/master/laptip_prices_without_missing_values.csv\")\n",
        "\n",
        "df=clean_names(df)\n",
        "\n",
        "df.head()"
      ],
      "metadata": {
        "id": "D6e5rY8asQwh"
      },
      "execution_count": null,
      "outputs": []
    },
    {
      "cell_type": "markdown",
      "source": [
        "**Spliting columns**"
      ],
      "metadata": {
        "id": "4ueqHKukuC8t"
      }
    },
    {
      "cell_type": "code",
      "source": [
        "# Identify categorical and numerical columns\n",
        "categorical_cols = X.select_dtypes(include=['object', 'category']).columns.tolist()\n",
        "numerical_cols = X.select_dtypes(include=['int64', 'float64']).columns.tolist()\n",
        "\n",
        "# Remove outliers from numerical columns\n",
        "df = remove_outliers(df, numerical_cols + ['price_euro'])\n",
        "\n",
        "# independent and dependent variables\n",
        "X = df.drop('price_euro', axis=1)\n",
        "y = df['price_euro']"
      ],
      "metadata": {
        "id": "8gidsNYAuF2-"
      },
      "execution_count": null,
      "outputs": []
    },
    {
      "cell_type": "markdown",
      "source": [
        "## Training and testing dataset with standardization"
      ],
      "metadata": {
        "id": "qShmLarkL9dm"
      }
    },
    {
      "cell_type": "code",
      "source": [
        "X_train, X_test, y_train, y_test = train_test_split(\n",
        "    X, y, test_size=0.3, random_state=42\n",
        ")"
      ],
      "metadata": {
        "id": "Krrkl0sKMEFu"
      },
      "execution_count": null,
      "outputs": []
    },
    {
      "cell_type": "code",
      "source": [
        "# Wrap the custom function using FunctionTransformer\n",
        "frequency_transformer = FunctionTransformer(\n",
        "    replace_infrequent_categories,\n",
        "    kw_args={'threshold': 40},  # Pass additional arguments if needed\n",
        "    validate=False               # Allows the transformer to accept pandas DataFrame\n",
        ")"
      ],
      "metadata": {
        "id": "nJR0DsNbwUU5"
      },
      "execution_count": null,
      "outputs": []
    },
    {
      "cell_type": "code",
      "source": [
        "# Define the preprocessor\n",
        "preprocessor = ColumnTransformer(\n",
        "    transformers=[\n",
        "        ('num', StandardScaler(), numerical_cols),                # Scale numerical features\n",
        "        ('cat', OrdinalEncoder(), categorical_cols)  # Encode categorical features\n",
        "    ],\n",
        "    remainder='passthrough'  # Keep other columns unchanged\n",
        ")"
      ],
      "metadata": {
        "id": "1oskQL7hwUg7"
      },
      "execution_count": null,
      "outputs": []
    },
    {
      "cell_type": "markdown",
      "source": [
        "## Linear regression"
      ],
      "metadata": {
        "id": "YPecrXb31JtX"
      }
    },
    {
      "cell_type": "code",
      "source": [
        "pipeline = ImbPipeline(steps=[\n",
        "    ('frequency_transformer', frequency_transformer),        # Custom frequency encoding\n",
        "    ('preprocessor', preprocessor),                          # Preprocessing step\n",
        "    ('feature_selection', SelectKBest(score_func=f_regression, k=5)),  # Feature selection step\n",
        "    ('regression', LinearRegression())                       # Regression model\n",
        "])"
      ],
      "metadata": {
        "id": "BSREyAsHwUrt"
      },
      "execution_count": null,
      "outputs": []
    },
    {
      "cell_type": "code",
      "source": [
        "# Fit the pipeline on the training data\n",
        "pipeline.fit(X_train, y_train)\n",
        "\n",
        "# Predict on the training and testing data\n",
        "y_train_pred = pipeline.predict(X_train)\n",
        "y_test_pred = pipeline.predict(X_test)"
      ],
      "metadata": {
        "id": "Xvq7X4o8wU1m"
      },
      "execution_count": null,
      "outputs": []
    },
    {
      "cell_type": "markdown",
      "source": [
        "**Accessing a step in pipeline**\n",
        "\n",
        "e.g. after function"
      ],
      "metadata": {
        "id": "mrcQa5c126qz"
      }
    },
    {
      "cell_type": "code",
      "source": [
        "frequency_transformer = pipeline.named_steps['frequency_transformer']\n",
        "\n",
        "# Transform the training data (e.g., after preprocessing)\n",
        "X_train_transformed = frequency_transformer.transform(X_train)\n",
        "\n",
        "# Convert to DataFrame for better readability (if necessary)\n",
        "pd.DataFrame(X_train_transformed).head()"
      ],
      "metadata": {
        "id": "NDi4cgZ93FlI"
      },
      "execution_count": null,
      "outputs": []
    },
    {
      "cell_type": "markdown",
      "source": [
        "### Metric - how good is our model"
      ],
      "metadata": {
        "id": "P-Hi9qSddd0q"
      }
    },
    {
      "cell_type": "code",
      "source": [
        "comparison_df = pd.DataFrame({\n",
        "    'Actual': y_test,\n",
        "    'Predicted': y_test_pred\n",
        "})\n",
        "comparison_df.head()"
      ],
      "metadata": {
        "id": "N--dcI-50NXj"
      },
      "execution_count": null,
      "outputs": []
    },
    {
      "cell_type": "code",
      "source": [
        "# Evaluate on testing data\n",
        "print(\"\\nTesting Metrics:\")\n",
        "print(\"Mean Squared Error (MSE):\", mean_squared_error(y_test, y_test_pred))\n",
        "print(\"Mean Absolute Error (MAE):\", mean_absolute_error(y_test, y_test_pred))\n",
        "print(\"R^2 Score:\", r2_score(y_test, y_test_pred))"
      ],
      "metadata": {
        "id": "_Ym_7x3Zzdos"
      },
      "execution_count": null,
      "outputs": []
    },
    {
      "cell_type": "code",
      "source": [
        "# Plot predicted vs actual values for testing data\n",
        "plt.figure(figsize=(8, 6))\n",
        "plt.scatter(y_test, y_test_pred, alpha=0.7)\n",
        "plt.plot([y_test.min(), y_test.max()], [y_test.min(), y_test.max()], color='red', linestyle='--')\n",
        "plt.xlabel(\"Actual Prices\")\n",
        "plt.ylabel(\"Predicted Prices\")\n",
        "plt.title(\"Actual vs Predicted Prices\")\n",
        "plt.show()"
      ],
      "metadata": {
        "id": "G5qQKmY_z7pf"
      },
      "execution_count": null,
      "outputs": []
    },
    {
      "cell_type": "markdown",
      "source": [
        "## AdaBoost regression"
      ],
      "metadata": {
        "id": "leiwYgX_mzKZ"
      }
    },
    {
      "cell_type": "code",
      "source": [
        "from sklearn.ensemble import AdaBoostRegressor"
      ],
      "metadata": {
        "id": "y9ZCJbEYm4bA"
      },
      "execution_count": null,
      "outputs": []
    },
    {
      "cell_type": "code",
      "source": [
        "pipeline = ImbPipeline(steps=[\n",
        "    ('frequency_transformer', frequency_transformer),        # Custom frequency encoding\n",
        "    ('preprocessor', preprocessor),                          # Preprocessing step\n",
        "    ('feature_selection', SelectKBest(score_func=f_regression, k=3)),  # Feature selection step\n",
        "    ('regression', AdaBoostRegressor(estimator=LinearRegression(), n_estimators=1000, learning_rate=1.0))                       # Regression model\n",
        "])"
      ],
      "metadata": {
        "id": "rsGN8E-5m984"
      },
      "execution_count": null,
      "outputs": []
    },
    {
      "cell_type": "code",
      "source": [
        "# Fit the pipeline on the training data\n",
        "pipeline.fit(X_train, y_train)\n",
        "\n",
        "# Predict on the training and testing data\n",
        "y_train_pred = pipeline.predict(X_train)\n",
        "y_test_pred = pipeline.predict(X_test)"
      ],
      "metadata": {
        "id": "JlDE7t9Pn3Mc"
      },
      "execution_count": null,
      "outputs": []
    },
    {
      "cell_type": "markdown",
      "source": [
        "**Showing the original and predicted value**"
      ],
      "metadata": {
        "id": "zThIwd65n1eg"
      }
    },
    {
      "cell_type": "code",
      "source": [
        "comparison_df = pd.DataFrame({\n",
        "    'Actual': y_test,\n",
        "    'Predicted': y_test_pred\n",
        "})\n",
        "comparison_df.head()"
      ],
      "metadata": {
        "id": "Dbh91luD4CtE"
      },
      "execution_count": null,
      "outputs": []
    },
    {
      "cell_type": "markdown",
      "source": [
        "### Metric - how good is our model"
      ],
      "metadata": {
        "id": "UVSDz5UVoREV"
      }
    },
    {
      "cell_type": "code",
      "source": [
        "print(\"\\nTesting Metrics:\")\n",
        "print(\"Mean Squared Error (MSE):\", mean_squared_error(y_test, y_test_pred))\n",
        "print(\"Mean Absolute Error (MAE):\", mean_absolute_error(y_test, y_test_pred))\n",
        "print(\"R^2 Score:\", r2_score(y_test, y_test_pred))"
      ],
      "metadata": {
        "id": "eWewnRu2oP3-"
      },
      "execution_count": null,
      "outputs": []
    },
    {
      "cell_type": "markdown",
      "source": [
        "**Model vizualization**"
      ],
      "metadata": {
        "id": "kzCER5dFohiw"
      }
    },
    {
      "cell_type": "code",
      "source": [
        "plt.figure(figsize=(8, 6))\n",
        "plt.scatter(y_test, y_test_pred, alpha=0.7)\n",
        "plt.plot([y_test.min(), y_test.max()], [y_test.min(), y_test.max()], color='red', linestyle='--')\n",
        "plt.xlabel(\"Actual Prices\")\n",
        "plt.ylabel(\"Predicted Prices\")\n",
        "plt.title(\"Actual vs Predicted Prices\")\n",
        "plt.show()"
      ],
      "metadata": {
        "id": "wqqTtvL5ohy3"
      },
      "execution_count": null,
      "outputs": []
    },
    {
      "cell_type": "markdown",
      "source": [
        "## XGBoost Linear Regression"
      ],
      "metadata": {
        "id": "89zo-1HWZ6vx"
      }
    },
    {
      "cell_type": "code",
      "source": [
        "import xgboost as xgb\n",
        "from xgboost import XGBRegressor\n",
        "from sklearn.model_selection import RandomizedSearchCV,GridSearchCV\n",
        "from sklearn.base import BaseEstimator, TransformerMixin"
      ],
      "metadata": {
        "id": "BTt81i5WbHC7"
      },
      "execution_count": null,
      "outputs": []
    },
    {
      "cell_type": "code",
      "source": [
        "param_grid = {\n",
        "    'alpha': [0.01, 0.05, 0.5, 1.0],          # L1 regularization\n",
        "    'lambda_': [0.1, 0.5, 1.0],              # L2 regularization\n",
        "    'learning_rate': [0.01, 0.05, 0.1, 0.2],  # Learning rate\n",
        "    'n_estimators': [100, 200, 300, 400],     # Number of boosting rounds\n",
        "    'lambda_bias': [0.01, 0.1, 0.5, 1.0]      # L2 regularization for the bias term\n",
        "}\n",
        "\n",
        "model = XGBRegressor(booster='gblinear', objective='reg:squarederror')\n",
        "\n",
        "grid_search = GridSearchCV(\n",
        "    estimator=model,\n",
        "    param_grid=param_grid,\n",
        "    cv=5,\n",
        "    scoring='neg_mean_squared_error',\n",
        "    verbose=1\n",
        ")\n",
        "\n",
        "\n",
        "pipeline = ImbPipeline(steps=[\n",
        "    ('frequency_transformer', frequency_transformer),                   # Custom frequency encoding (placeholder)\n",
        "    ('preprocessor', preprocessor),                                     # Preprocessing step (placeholder)\n",
        "    ('feature_selection', SelectKBest(score_func=f_regression, k=5)),   # Feature selection step\n",
        "    ('regression', grid_search)                                         # Regression model w/ hyperparam search\n",
        "])\n"
      ],
      "metadata": {
        "id": "lmbyS8JY7jPY"
      },
      "execution_count": null,
      "outputs": []
    },
    {
      "cell_type": "code",
      "source": [
        "# Fit the pipeline on the training data\n",
        "pipeline.fit(X_train, y_train)\n",
        "\n",
        "# Predict on the training and testing data\n",
        "y_train_pred = pipeline.predict(X_train)\n",
        "y_test_pred = pipeline.predict(X_test)\n"
      ],
      "metadata": {
        "id": "jfxG5HUPbdcX"
      },
      "execution_count": null,
      "outputs": []
    },
    {
      "cell_type": "code",
      "source": [
        "# Print the best parameters and best score\n",
        "print(\"Best parameters found: \", grid_search.best_params_)\n",
        "print(\"Best cross-validation score: \", grid_search.best_score_)\n",
        "\n",
        "# Access the best model\n",
        "best_model = grid_search.best_estimator_\n",
        "\n"
      ],
      "metadata": {
        "id": "GLwlSS83hReW"
      },
      "execution_count": null,
      "outputs": []
    },
    {
      "cell_type": "markdown",
      "source": [
        "**Showing the original and predicted value**"
      ],
      "metadata": {
        "id": "_3HNHa2DcAqU"
      }
    },
    {
      "cell_type": "code",
      "source": [
        "# Make predictions on the test data\n",
        "y_pred_scaled = best_model.predict(X_test_encode_final)\n",
        "\n",
        "# If you've scaled your target variable (y), you need to inverse transform it back to the original scale\n",
        "# Assuming you used a StandardScaler or similar to scale y, inverse transform both y_test_scaled and y_pred_scaled.\n",
        "y_pred_original = scaler_y.inverse_transform(y_pred_scaled.reshape(-1, 1))  # Inverse transform the predictions\n",
        "y_test_original = scaler_y.inverse_transform(y_test_scaled.reshape(-1, 1))  # Inverse transform the actual values\n",
        "\n",
        "results_df = pd.DataFrame({'y_test_original': y_test_original.flatten(), 'y_pred_original': y_pred_original.flatten()})\n",
        "\n",
        "results_df.head(10)"
      ],
      "metadata": {
        "id": "upSOF9TycD-N"
      },
      "execution_count": null,
      "outputs": []
    },
    {
      "cell_type": "markdown",
      "source": [
        "### Metric - how good is our model"
      ],
      "metadata": {
        "id": "47MBl1Euc8iH"
      }
    },
    {
      "cell_type": "code",
      "source": [
        "mae = mean_absolute_error(y_test_original, y_pred_original)\n",
        "mse = mean_squared_error(y_test_original, y_pred_original)\n",
        "rmse = np.sqrt(mse)\n",
        "r2 = r2_score(y_test_original, y_pred_original)\n",
        "\n",
        "# Create a dictionary of the results\n",
        "results_dict = {'MAE': [mae], 'MSE': [mse], 'RMSE': [rmse], 'R-squared': [r2]}\n",
        "\n",
        "# Create a DataFrame from the dictionary\n",
        "results_df = pd.DataFrame(results_dict)\n",
        "print(results_df)"
      ],
      "metadata": {
        "id": "eIYR0jbHc-1_"
      },
      "execution_count": null,
      "outputs": []
    },
    {
      "cell_type": "markdown",
      "source": [
        "**Model vizualization**"
      ],
      "metadata": {
        "id": "Ml0Mc6UQiqDd"
      }
    },
    {
      "cell_type": "code",
      "source": [
        "import matplotlib.pyplot as plt\n",
        "\n",
        "plt.scatter(y_test_original, y_pred_original)\n",
        "plt.xlabel('True Values')\n",
        "plt.ylabel('Predictions')\n",
        "plt.title('True vs Predicted Values')\n",
        "plt.show()"
      ],
      "metadata": {
        "id": "ENWE5LH2ipEE"
      },
      "execution_count": null,
      "outputs": []
    },
    {
      "cell_type": "markdown",
      "source": [
        "## Summary"
      ],
      "metadata": {
        "id": "mU6G8VXyo9P9"
      }
    },
    {
      "cell_type": "markdown",
      "source": [
        "- Linear Regression: Best for simple linear problems, fast and easy to interpret, but limited to linearly separable data.\n",
        "- AdaBoost Regression: More powerful than Linear Regression by focusing on hard-to-predict samples, handles both linear and non-linear relationships, but can be sensitive to outliers and overfitting.\n",
        "- XGBoost Regression: A state-of-the-art model for complex problems, very flexible, handles non-linear data extremely well, and is great for large datasets, but requires careful tuning.\n",
        "\n",
        "Each model has its own strengths depending on the nature of the problem.\n",
        "If you have simple, linear data, Linear Regression works well. For more complex datasets, AdaBoost and XGBoost can yield better performance, with XGBoost being particularly powerful for large datasets and non-linear relationships."
      ],
      "metadata": {
        "id": "9gD18bRCpqoq"
      }
    },
    {
      "cell_type": "markdown",
      "source": [
        "# Applying algorithm - clasification"
      ],
      "metadata": {
        "id": "ZbclcJFgz4Cc"
      }
    },
    {
      "cell_type": "markdown",
      "source": [
        "## Logistic regression"
      ],
      "metadata": {
        "id": "MJI8iVGa0vXE"
      }
    },
    {
      "cell_type": "code",
      "source": [
        "# Import necessary libraries\n",
        "from sklearn.datasets import load_breast_cancer\n",
        "from sklearn.model_selection import train_test_split\n",
        "from sklearn.linear_model import LogisticRegression\n",
        "\n",
        "import seaborn as sns\n",
        "import matplotlib.pyplot as plt"
      ],
      "metadata": {
        "id": "KUgZqvGM0BXq"
      },
      "execution_count": null,
      "outputs": []
    },
    {
      "cell_type": "code",
      "source": [
        "# Load the Breast Cancer dataset\n",
        "data = load_breast_cancer()\n",
        "\n",
        "# Convert the dataset into a Pandas DataFrame\n",
        "df = pd.DataFrame(data.data, columns=data.feature_names)\n",
        "\n",
        "# Add the target (0: malignant, 1: benign) to the DataFrame\n",
        "df['target'] = data.target\n",
        "\n",
        "df.head()"
      ],
      "metadata": {
        "id": "mxmSFpDH0DFl"
      },
      "execution_count": null,
      "outputs": []
    },
    {
      "cell_type": "markdown",
      "source": [
        "### Basic data overview"
      ],
      "metadata": {
        "id": "uMN1-iUA0p4U"
      }
    },
    {
      "cell_type": "code",
      "source": [
        "df.describe()"
      ],
      "metadata": {
        "id": "Ls83xjN5044x"
      },
      "execution_count": null,
      "outputs": []
    },
    {
      "cell_type": "markdown",
      "source": [
        "**Distribution of target variable**"
      ],
      "metadata": {
        "id": "RwP8Ikx31Jf-"
      }
    },
    {
      "cell_type": "code",
      "source": [
        "df['target'].value_counts().plot.bar()"
      ],
      "metadata": {
        "id": "vnr61uXv1Nox"
      },
      "execution_count": null,
      "outputs": []
    },
    {
      "cell_type": "markdown",
      "source": [
        "The bar chart you've provided shows a **class imbalance** in the target variable, where one class (labeled as 1) has significantly more samples than the other class (labeled as 0).\n",
        "\n",
        "This type of imbalance can negatively impact machine learning models, especially classification models, because the model may be biased toward predicting the majority class."
      ],
      "metadata": {
        "id": "b7BwhmuP4AkW"
      }
    },
    {
      "cell_type": "markdown",
      "source": [
        "**Correlation matrix**"
      ],
      "metadata": {
        "id": "ZKHxXhrF4dVA"
      }
    },
    {
      "cell_type": "code",
      "source": [
        "# Calculate the correlation matrix\n",
        "corr_matrix = df.corr()\n",
        "\n",
        "# Plotting the correlation matrix using seaborn heatmap\n",
        "plt.figure(figsize=(12, 10))  # Adjust figure size if needed\n",
        "sns.heatmap(corr_matrix, annot=True, cmap='coolwarm', fmt=\".2f\", annot_kws={'size': 8})\n",
        "# Reduced font size for annotations\n",
        "plt.title('Correlation Matrix')\n",
        "plt.xticks(rotation=45, ha='right')  # Rotate x-axis labels for better readability\n",
        "plt.yticks(rotation=0) # Rotate y-axis labels\n",
        "plt.tight_layout() # Adjust layout to prevent labels from overlapping\n",
        "plt.show()"
      ],
      "metadata": {
        "id": "Nzi5yaQ34h68"
      },
      "execution_count": null,
      "outputs": []
    },
    {
      "cell_type": "markdown",
      "source": [
        "**How serious is the multicollinearity**"
      ],
      "metadata": {
        "id": "7XFjbs6J5l7x"
      }
    },
    {
      "cell_type": "code",
      "source": [
        "features=df.columns.to_list()\n",
        "features.remove('target')\n",
        "features"
      ],
      "metadata": {
        "id": "jx5RCxSg5tmq"
      },
      "execution_count": null,
      "outputs": []
    },
    {
      "cell_type": "code",
      "source": [
        "from statsmodels.stats.outliers_influence import variance_inflation_factor\n",
        "\n",
        "def calculate_vif(df, features):\n",
        "    vif_data = pd.DataFrame()\n",
        "    vif_data[\"feature\"] = features\n",
        "    vif_data[\"VIF\"] = [variance_inflation_factor(df[features].values, i) for i in range(len(features))]\n",
        "    return vif_data\n",
        "\n",
        "   # Example usage (assuming 'df' is your DataFrame and 'features' is a list of your feature columns)\n",
        "features = features  # Replace with your actual feature columns\n",
        "vif_df = calculate_vif(df, features)\n",
        "print(vif_df)"
      ],
      "metadata": {
        "id": "K8HRS-OZ5cIA"
      },
      "execution_count": null,
      "outputs": []
    },
    {
      "cell_type": "markdown",
      "source": [
        "### Dimension reduction with Lasso and VIF"
      ],
      "metadata": {
        "id": "Ymf6Cx8Z6xNv"
      }
    },
    {
      "cell_type": "markdown",
      "source": [
        "![image.png](data:image/png;base64,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)"
      ],
      "metadata": {
        "id": "wgDQpEwnBfls"
      }
    },
    {
      "cell_type": "code",
      "source": [
        "from sklearn.linear_model import Lasso\n",
        "from sklearn.linear_model import LassoCV"
      ],
      "metadata": {
        "id": "y268UZwl63PM"
      },
      "execution_count": null,
      "outputs": []
    },
    {
      "cell_type": "code",
      "source": [
        "# X = Features, y = Target\n",
        "X = df.drop(columns=['target'])  # Features (dropping the target)\n",
        "y = df['target']  # Target variable\n",
        "\n",
        "# Split the data into training and testing sets\n",
        "X_train, X_test, y_train, y_test = train_test_split(X, y, test_size=0.3, random_state=42)\n",
        "\n",
        "# Standardize the features (Lasso prefers normalized data)\n",
        "scaler = StandardScaler()\n",
        "X_train_scaled = scaler.fit_transform(X_train)\n",
        "X_test_scaled = scaler.transform(X_test)\n",
        "\n",
        "lasso_cv = LassoCV(cv=5, random_state=42).fit(X_train_scaled, y_train)\n",
        "\n",
        "# The best alpha value found by cross-validation\n",
        "print(f\"Best alpha: {lasso_cv.alpha_}\")\n",
        "\n",
        "# Fit Lasso with the best alpha\n",
        "lasso_best = Lasso(alpha=lasso_cv.alpha_)\n",
        "lasso_best.fit(X_train_scaled, y_train)\n",
        "\n",
        "# Get the coefficients of the selected features\n",
        "lasso_best_coef = pd.DataFrame({\n",
        "    'Feature': X.columns,\n",
        "    'Coefficient': lasso_best.coef_\n",
        "})\n",
        "\n",
        "# Keep only the features with non-zero coefficients\n",
        "selected_features = lasso_best_coef[lasso_best_coef['Coefficient'] != 0]"
      ],
      "metadata": {
        "id": "J1R_XoZm7JOL"
      },
      "execution_count": null,
      "outputs": []
    },
    {
      "cell_type": "markdown",
      "source": [
        "**Selected features**"
      ],
      "metadata": {
        "id": "7DUULsOE77Km"
      }
    },
    {
      "cell_type": "code",
      "source": [
        "lasso_best_coef"
      ],
      "metadata": {
        "id": "roAOaUZL79xT"
      },
      "execution_count": null,
      "outputs": []
    },
    {
      "cell_type": "code",
      "source": [
        "selected_features.Feature.to_list()"
      ],
      "metadata": {
        "id": "o2NrmqqB7_fK"
      },
      "execution_count": null,
      "outputs": []
    },
    {
      "cell_type": "code",
      "source": [
        "features = selected_features.Feature.to_list()\n",
        "vif_df = calculate_vif(df, features)\n",
        "print(vif_df)"
      ],
      "metadata": {
        "id": "td87M8eN8zh-"
      },
      "execution_count": null,
      "outputs": []
    },
    {
      "cell_type": "code",
      "source": [
        "features=selected_features.Feature.to_list()\n",
        "features.remove('mean smoothness')\n",
        "features.remove('mean texture')\n",
        "features.remove('mean symmetry')\n",
        "features.remove('mean concavity')\n",
        "features.remove('worst radius')\n",
        "features.remove('worst smoothness')\n",
        "features.remove('worst concave points')\n",
        "features.remove('radius error')\n",
        "features.remove('worst compactness')\n",
        "features.remove('worst symmetry')\n",
        "features.remove('mean compactness')\n",
        "features.remove('perimeter error')\n",
        "features.remove('worst texture')\n",
        "features.remove('worst fractal dimension')\n",
        "features.remove('concave points error')\n",
        "features.remove('worst area')\n",
        "features.remove('mean concave points')\n",
        "features.remove('compactness error')\n",
        "features.remove('symmetry error')\n",
        "# Recalculate VIF after dropping the feature\n",
        "vif_reduced = calculate_vif(df, features)\n",
        "vif_reduced"
      ],
      "metadata": {
        "id": "OBmLjYE-9N4L"
      },
      "execution_count": null,
      "outputs": []
    },
    {
      "cell_type": "markdown",
      "source": [
        "![image.png](data:image/png;base64,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)"
      ],
      "metadata": {
        "id": "ESq03C-XAWp1"
      }
    },
    {
      "cell_type": "markdown",
      "source": [
        "**Rechecking correlation matrix**"
      ],
      "metadata": {
        "id": "CQ0CT1vEAwRL"
      }
    },
    {
      "cell_type": "code",
      "source": [
        "# Plotting the correlation matrix using seaborn heatmap\n",
        "\n",
        "corr_matrix = df[features].corr()\n",
        "plt.figure(figsize=(12, 10))  # Adjust figure size if needed\n",
        "sns.heatmap(corr_matrix, annot=True, cmap='coolwarm', fmt=\".2f\", annot_kws={'size': 8})\n",
        "# Reduced font size for annotations\n",
        "plt.title('Correlation Matrix')\n",
        "plt.xticks(rotation=45, ha='right')  # Rotate x-axis labels for better readability\n",
        "plt.yticks(rotation=0) # Rotate y-axis labels\n",
        "plt.tight_layout() # Adjust layout to prevent labels from overlapping\n",
        "plt.show()"
      ],
      "metadata": {
        "id": "xxABf3B9AA1H"
      },
      "execution_count": null,
      "outputs": []
    },
    {
      "cell_type": "markdown",
      "source": [
        "**Applying model**"
      ],
      "metadata": {
        "id": "3Jy4K6ksCLSO"
      }
    },
    {
      "cell_type": "code",
      "source": [
        "features.append('target')\n",
        "df=df[features]\n",
        "df.head()"
      ],
      "metadata": {
        "id": "0u31JIyDCPoK"
      },
      "execution_count": null,
      "outputs": []
    },
    {
      "cell_type": "code",
      "source": [
        "# Convert to feature matrix (X) and target vector (y)\n",
        "X = df.drop('target', axis=1)\n",
        "y = df.target\n",
        "\n",
        "# Split the data into training and testing sets (70% train, 30% test)\n",
        "X_train, X_test, y_train, y_test = train_test_split(X, y, test_size=0.3, random_state=42)\n",
        "\n",
        "# Standardize the feature data (important for logistic regression)\n",
        "scaler = StandardScaler()\n",
        "X_train_scaled = scaler.fit_transform(X_train)\n",
        "X_test_scaled = scaler.transform(X_test)\n",
        "\n",
        "\n",
        "# Initialize Logistic Regression model\n",
        "log_reg = LogisticRegression(max_iter=1000, random_state=42)\n",
        "\n",
        "# Fit the model to the training data\n",
        "log_reg.fit(X_train_scaled, y_train)\n",
        "\n",
        "# Predict on the test data\n",
        "y_pred = log_reg.predict(X_test_scaled)"
      ],
      "metadata": {
        "id": "Ca2x3R9PDJKG"
      },
      "execution_count": null,
      "outputs": []
    },
    {
      "cell_type": "code",
      "source": [
        "results_df = pd.DataFrame({'y_original': y_test, 'y_prediction': y_pred})\n",
        "\n",
        "results_df.head(10)"
      ],
      "metadata": {
        "id": "ITXILscqDkoZ"
      },
      "execution_count": null,
      "outputs": []
    },
    {
      "cell_type": "markdown",
      "source": [
        "### How good is our model"
      ],
      "metadata": {
        "id": "sAWm33l6D90a"
      }
    },
    {
      "cell_type": "code",
      "source": [
        "from sklearn.metrics import confusion_matrix, accuracy_score, precision_score, recall_score, f1_score, ConfusionMatrixDisplay\n"
      ],
      "metadata": {
        "id": "OFrHgBejEAtM"
      },
      "execution_count": null,
      "outputs": []
    },
    {
      "cell_type": "markdown",
      "source": [
        "**Confusion matrix**"
      ],
      "metadata": {
        "id": "fUko2uoXEPj7"
      }
    },
    {
      "cell_type": "code",
      "source": [
        "conf_matrix = confusion_matrix(y_test, y_pred)\n",
        "disp = ConfusionMatrixDisplay(confusion_matrix=conf_matrix, display_labels=['benign','malignant'])\n",
        "disp.plot(cmap=\"Blues\")"
      ],
      "metadata": {
        "id": "62DEYCysESEg"
      },
      "execution_count": null,
      "outputs": []
    },
    {
      "cell_type": "markdown",
      "source": [
        "![image.png](data:image/png;base64,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)"
      ],
      "metadata": {
        "id": "m24XLvQ0KIbc"
      }
    },
    {
      "cell_type": "code",
      "source": [
        "# Calculate accuracy, precision, recall, and F1-score\n",
        "accuracy = accuracy_score(y_test, y_pred)\n",
        "precision = precision_score(y_test, y_pred, average='binary')\n",
        "recall = recall_score(y_test, y_pred, average='binary')\n",
        "f1 = f1_score(y_test, y_pred, average='binary')\n",
        "\n",
        "# Print the results\n",
        "print(f\"Accuracy: {accuracy:.2f}\")\n",
        "print(f\"Precision: {precision:.2f}\")\n",
        "print(f\"Recall: {recall:.2f}\")\n",
        "print(f\"F1-score: {f1:.2f}\")"
      ],
      "metadata": {
        "id": "Wk0n4GD2FRx5"
      },
      "execution_count": null,
      "outputs": []
    },
    {
      "cell_type": "markdown",
      "source": [
        "- Accuracy: The percentage of correctly classified samples. In this case, the model's accuracy is 97%.\n",
        "\n",
        "- Precision: When the model predicted a tumor as malignant, it was correct 95% of the time. This is a good sign, as the model makes few false-positive predictions (predicting benign tumors as malignant)..\n",
        "\n",
        "- Recall: The model correctly identified 98% of the actual malignant tumors. This is an excellent recall, indicating that the model is very good at identifying malignant tumors and rarely misses them (few false negatives).\n",
        "\n",
        "- F1-Score: The harmonic mean of precision and recall, providing a balance between the two metrics. The F1-score of 0.97 suggests that the model achieves a good balance between precision and recall."
      ],
      "metadata": {
        "id": "EN2Cni4nFnLQ"
      }
    },
    {
      "cell_type": "markdown",
      "source": [
        "**ROC**"
      ],
      "metadata": {
        "id": "YCwKmu8uHEgn"
      }
    },
    {
      "cell_type": "code",
      "source": [
        "from sklearn.metrics import roc_curve, auc\n",
        "import matplotlib.pyplot as plt\n",
        "\n",
        "# Get predicted probabilities for the positive class\n",
        "y_prob = log_reg.predict_proba(X_test_scaled)[:, 1]\n",
        "\n",
        "# Compute ROC curve and AUC score\n",
        "fpr, tpr, thresholds = roc_curve(y_test, y_prob)\n",
        "roc_auc = auc(fpr, tpr)\n",
        "\n",
        "# Plot ROC curve\n",
        "plt.figure()\n",
        "plt.plot(fpr, tpr, color='blue', label=f'ROC curve (area = {roc_auc:.2f})')\n",
        "plt.plot([0, 1], [0, 1], color='gray', linestyle='--')  # Diagonal line\n",
        "plt.xlim([0.0, 1.0])\n",
        "plt.ylim([0.0, 1.05])\n",
        "plt.xlabel('False Positive Rate')\n",
        "plt.ylabel('True Positive Rate')\n",
        "plt.title('Receiver Operating Characteristic (ROC) Curve')\n",
        "plt.legend(loc=\"lower right\")\n",
        "plt.show()"
      ],
      "metadata": {
        "id": "rOmqaGVNG-65"
      },
      "execution_count": null,
      "outputs": []
    },
    {
      "cell_type": "markdown",
      "source": [
        "## Decision trees"
      ],
      "metadata": {
        "id": "qrKMNlFlHRKK"
      }
    },
    {
      "cell_type": "code",
      "source": [
        "from sklearn.tree import DecisionTreeClassifier"
      ],
      "metadata": {
        "id": "IV2jgjygHgAw"
      },
      "execution_count": null,
      "outputs": []
    },
    {
      "cell_type": "code",
      "source": [
        "tree_clf = DecisionTreeClassifier(max_depth=4, random_state=42)\n",
        "\n",
        "# Fit the Decision Tree Classifier on the training data\n",
        "tree_clf.fit(X_train, y_train)\n",
        "\n",
        "# Predict on the test data\n",
        "y_pred = tree_clf.predict(X_test)\n",
        "\n",
        "results_df = pd.DataFrame({'y_original': y_test, 'y_prediction': y_pred})\n",
        "\n",
        "results_df.head(10)\n"
      ],
      "metadata": {
        "id": "CFIykA97HsgO"
      },
      "execution_count": null,
      "outputs": []
    },
    {
      "cell_type": "markdown",
      "source": [
        "### How good is our model"
      ],
      "metadata": {
        "id": "rQQIk7itH-o-"
      }
    },
    {
      "cell_type": "code",
      "source": [
        "conf_matrix = confusion_matrix(y_test, y_pred)\n",
        "disp = ConfusionMatrixDisplay(confusion_matrix=conf_matrix, display_labels=['benign','malignant'])\n",
        "disp.plot(cmap=\"Blues\")"
      ],
      "metadata": {
        "id": "TQ8rhWU3ICLv"
      },
      "execution_count": null,
      "outputs": []
    },
    {
      "cell_type": "markdown",
      "source": [
        "**Feature importance**"
      ],
      "metadata": {
        "id": "65Va_nTzI3Oe"
      }
    },
    {
      "cell_type": "code",
      "source": [
        "# Get feature importance from the Decision Tree model\n",
        "feature_importance = pd.Series(tree_clf.feature_importances_, index=df.columns.drop(\"target\"))\n",
        "\n",
        "# Plot the feature importance as a bar chart\n",
        "plt.figure(figsize=(10, 6))\n",
        "feature_importance.sort_values(ascending=False).plot(kind='barh', color='green')\n",
        "plt.title('Feature Importance (Decision Tree)')\n",
        "plt.xlabel('Importance')\n",
        "plt.ylabel('Feature')\n",
        "plt.show()"
      ],
      "metadata": {
        "id": "RvbMd3lLI6Ik"
      },
      "execution_count": null,
      "outputs": []
    },
    {
      "cell_type": "code",
      "source": [
        "# Calculate accuracy, precision, recall, and F1-score\n",
        "accuracy = accuracy_score(y_test, y_pred)\n",
        "precision = precision_score(y_test, y_pred, average='binary')\n",
        "recall = recall_score(y_test, y_pred, average='binary')\n",
        "f1 = f1_score(y_test, y_pred, average='binary')\n",
        "\n",
        "# Print the results\n",
        "print(f\"Accuracy: {accuracy:.2f}\")\n",
        "print(f\"Precision: {precision:.2f}\")\n",
        "print(f\"Recall: {recall:.2f}\")\n",
        "print(f\"F1-score: {f1:.2f}\")"
      ],
      "metadata": {
        "id": "vzZdNrIqIVm-"
      },
      "execution_count": null,
      "outputs": []
    },
    {
      "cell_type": "markdown",
      "source": [
        "- Accuracy (0.91): The model correctly classified 91% of all instances.\n",
        "\n",
        "- Precision (0.93): When the model predicted a tumor as malignant, it was correct 93% of the time.\n",
        "\n",
        "- Recall (0.92): The model correctly identified 92% of actual malignant tumors.\n",
        "\n",
        "- F1-score (0.93): The balance between precision and recall is very strong, indicating a good trade-off between the two."
      ],
      "metadata": {
        "id": "77aeQZbJIi6J"
      }
    },
    {
      "cell_type": "markdown",
      "source": [
        "## Random forrest"
      ],
      "metadata": {
        "id": "VfJoY6VzJub6"
      }
    },
    {
      "cell_type": "markdown",
      "source": [
        "**customer churn**"
      ],
      "metadata": {
        "id": "IR_ry69mJ1Td"
      }
    },
    {
      "cell_type": "code",
      "source": [
        "import pandas as pd\n",
        "import numpy as np\n",
        "from sklearn.model_selection import train_test_split\n",
        "from sklearn.preprocessing import StandardScaler, OneHotEncoder\n",
        "from sklearn.compose import ColumnTransformer\n",
        "from sklearn.pipeline import Pipeline\n",
        "from sklearn.ensemble import RandomForestClassifier\n",
        "from sklearn.metrics import classification_report"
      ],
      "metadata": {
        "id": "eYds8xk2Jz1e"
      },
      "execution_count": null,
      "outputs": []
    },
    {
      "cell_type": "code",
      "source": [
        "# Example dataset creation with 100 rows\n",
        "np.random.seed(54)\n",
        "\n",
        "data = {\n",
        "    'Age': np.random.randint(18, 65, size=100),\n",
        "    'Salary': np.random.randint(30000, 120000, size=100),\n",
        "    'Gender': np.random.choice(['Male', 'Female'], size=100),\n",
        "    'Churn': np.random.choice([0, 1], size=100)\n",
        "}\n",
        "\n",
        "# Convert to DataFrame\n",
        "df = pd.DataFrame(data)\n",
        "\n",
        "df.head()\n"
      ],
      "metadata": {
        "id": "bHizP0MRKKQv"
      },
      "execution_count": null,
      "outputs": []
    },
    {
      "cell_type": "code",
      "source": [
        "# Separate features and target\n",
        "X = df.drop('Churn', axis=1)\n",
        "y = df['Churn']\n",
        "\n",
        "# Define categorical and numerical columns\n",
        "categorical_features = ['Gender']\n",
        "numerical_features = ['Age', 'Salary']\n",
        "\n",
        "# Preprocessing for numerical data\n",
        "numerical_transformer = Pipeline(steps=[\n",
        "    ('scaler', StandardScaler())\n",
        "])\n",
        "\n",
        "# Preprocessing for categorical data\n",
        "categorical_transformer = Pipeline(steps=[\n",
        "    ('onehot', OneHotEncoder(handle_unknown='ignore'))\n",
        "])"
      ],
      "metadata": {
        "id": "he6ETPv2Kxul"
      },
      "execution_count": null,
      "outputs": []
    },
    {
      "cell_type": "code",
      "source": [
        "# Combine preprocessors in a column transformer\n",
        "preprocessor = ColumnTransformer(\n",
        "    transformers=[\n",
        "        ('num', numerical_transformer, numerical_features),\n",
        "        ('cat', categorical_transformer, categorical_features)\n",
        "    ])\n",
        "\n",
        "# Define the model\n",
        "model = RandomForestClassifier(random_state=42)"
      ],
      "metadata": {
        "id": "gGA6Lnt8K3qM"
      },
      "execution_count": null,
      "outputs": []
    },
    {
      "cell_type": "code",
      "source": [
        "# Create and combine pipeline\n",
        "pipeline = Pipeline(steps=[\n",
        "    ('preprocessor', preprocessor),\n",
        "    ('classifier', model)\n",
        "])\n",
        "\n"
      ],
      "metadata": {
        "id": "9eUyZMixK9bG"
      },
      "execution_count": null,
      "outputs": []
    },
    {
      "cell_type": "code",
      "source": [
        "# Split the data into training and testing sets\n",
        "X_train, X_test, y_train, y_test = train_test_split(X, y, test_size=0.2, random_state=42)\n",
        "\n",
        "# Fit the model\n",
        "pipeline.fit(X_train, y_train)\n",
        "\n",
        "# Make predictions\n",
        "y_pred = pipeline.predict(X_test)\n"
      ],
      "metadata": {
        "id": "VRwZCUQdLNkk"
      },
      "execution_count": null,
      "outputs": []
    },
    {
      "cell_type": "code",
      "source": [
        "# Evaluate the model\n",
        "# we can use clasification report\n",
        "# instead of specifing every individual metric\n",
        "print(classification_report(y_test, y_pred))"
      ],
      "metadata": {
        "id": "j4gN9dF7Lyyq"
      },
      "execution_count": null,
      "outputs": []
    }
  ]
}